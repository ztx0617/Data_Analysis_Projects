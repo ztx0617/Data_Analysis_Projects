{
 "cells": [
  {
   "cell_type": "markdown",
   "metadata": {},
   "source": [
    "# Enron Machine Learing Project - Tianxing Zhai"
   ]
  },
  {
   "cell_type": "markdown",
   "metadata": {},
   "source": [
    "## 1. Exploratory Data Analysis"
   ]
  },
  {
   "cell_type": "markdown",
   "metadata": {},
   "source": [
    "### 1.1 Load and transform data"
   ]
  },
  {
   "cell_type": "code",
   "execution_count": 1,
   "metadata": {},
   "outputs": [],
   "source": [
    "import pandas as pd\n",
    "import numpy as np\n",
    "import pickle"
   ]
  },
  {
   "cell_type": "code",
   "execution_count": 14,
   "metadata": {},
   "outputs": [],
   "source": [
    "enron_dict = pickle.load(open(\"final_project_dataset.pkl\", \"rb\"))"
   ]
  },
  {
   "cell_type": "code",
   "execution_count": 15,
   "metadata": {},
   "outputs": [
    {
     "data": {
      "text/plain": [
       "146"
      ]
     },
     "execution_count": 15,
     "metadata": {},
     "output_type": "execute_result"
    }
   ],
   "source": [
    "len(enron_dict)"
   ]
  },
  {
   "cell_type": "markdown",
   "metadata": {},
   "source": [
    "Let's print the first two elments in the enron dictionary:"
   ]
  },
  {
   "cell_type": "code",
   "execution_count": 16,
   "metadata": {},
   "outputs": [
    {
     "name": "stdout",
     "output_type": "stream",
     "text": [
      "METTS MARK\n",
      "{'salary': 365788, 'to_messages': 807, 'deferral_payments': 'NaN', 'total_payments': 1061827, 'loan_advances': 'NaN', 'bonus': 600000, 'email_address': 'mark.metts@enron.com', 'restricted_stock_deferred': 'NaN', 'deferred_income': 'NaN', 'total_stock_value': 585062, 'expenses': 94299, 'from_poi_to_this_person': 38, 'exercised_stock_options': 'NaN', 'from_messages': 29, 'other': 1740, 'from_this_person_to_poi': 1, 'poi': False, 'long_term_incentive': 'NaN', 'shared_receipt_with_poi': 702, 'restricted_stock': 585062, 'director_fees': 'NaN'}\n",
      "BAXTER JOHN C\n",
      "{'salary': 267102, 'to_messages': 'NaN', 'deferral_payments': 1295738, 'total_payments': 5634343, 'loan_advances': 'NaN', 'bonus': 1200000, 'email_address': 'NaN', 'restricted_stock_deferred': 'NaN', 'deferred_income': -1386055, 'total_stock_value': 10623258, 'expenses': 11200, 'from_poi_to_this_person': 'NaN', 'exercised_stock_options': 6680544, 'from_messages': 'NaN', 'other': 2660303, 'from_this_person_to_poi': 'NaN', 'poi': False, 'long_term_incentive': 1586055, 'shared_receipt_with_poi': 'NaN', 'restricted_stock': 3942714, 'director_fees': 'NaN'}\n"
     ]
    }
   ],
   "source": [
    "i = 0\n",
    "for k,v in enron_dict.items():\n",
    "    print(k)\n",
    "    print(v)\n",
    "    i += 1\n",
    "    if i > 1:\n",
    "        break"
   ]
  },
  {
   "cell_type": "markdown",
   "metadata": {},
   "source": [
    "The dictionary is a nested dictionary. In the first level, the key is staff names of Enron and the value is another dictionary which records all attributes of this person."
   ]
  },
  {
   "cell_type": "markdown",
   "metadata": {},
   "source": [
    "There are some outliers here. The first one named 'TOTAL'."
   ]
  },
  {
   "cell_type": "code",
   "execution_count": 17,
   "metadata": {},
   "outputs": [
    {
     "data": {
      "text/plain": [
       "{'bonus': 97343619,\n",
       " 'deferral_payments': 32083396,\n",
       " 'deferred_income': -27992891,\n",
       " 'director_fees': 1398517,\n",
       " 'email_address': 'NaN',\n",
       " 'exercised_stock_options': 311764000,\n",
       " 'expenses': 5235198,\n",
       " 'from_messages': 'NaN',\n",
       " 'from_poi_to_this_person': 'NaN',\n",
       " 'from_this_person_to_poi': 'NaN',\n",
       " 'loan_advances': 83925000,\n",
       " 'long_term_incentive': 48521928,\n",
       " 'other': 42667589,\n",
       " 'poi': False,\n",
       " 'restricted_stock': 130322299,\n",
       " 'restricted_stock_deferred': -7576788,\n",
       " 'salary': 26704229,\n",
       " 'shared_receipt_with_poi': 'NaN',\n",
       " 'to_messages': 'NaN',\n",
       " 'total_payments': 309886585,\n",
       " 'total_stock_value': 434509511}"
      ]
     },
     "execution_count": 17,
     "metadata": {},
     "output_type": "execute_result"
    }
   ],
   "source": [
    "enron_dict['TOTAL']"
   ]
  },
  {
   "cell_type": "code",
   "execution_count": 18,
   "metadata": {},
   "outputs": [],
   "source": [
    "del enron_dict['TOTAL']"
   ]
  },
  {
   "cell_type": "markdown",
   "metadata": {},
   "source": [
    "The second one named 'THE TRAVEL AGENCY IN THE PARK'."
   ]
  },
  {
   "cell_type": "code",
   "execution_count": 19,
   "metadata": {},
   "outputs": [
    {
     "data": {
      "text/plain": [
       "{'bonus': 'NaN',\n",
       " 'deferral_payments': 'NaN',\n",
       " 'deferred_income': 'NaN',\n",
       " 'director_fees': 'NaN',\n",
       " 'email_address': 'NaN',\n",
       " 'exercised_stock_options': 'NaN',\n",
       " 'expenses': 'NaN',\n",
       " 'from_messages': 'NaN',\n",
       " 'from_poi_to_this_person': 'NaN',\n",
       " 'from_this_person_to_poi': 'NaN',\n",
       " 'loan_advances': 'NaN',\n",
       " 'long_term_incentive': 'NaN',\n",
       " 'other': 362096,\n",
       " 'poi': False,\n",
       " 'restricted_stock': 'NaN',\n",
       " 'restricted_stock_deferred': 'NaN',\n",
       " 'salary': 'NaN',\n",
       " 'shared_receipt_with_poi': 'NaN',\n",
       " 'to_messages': 'NaN',\n",
       " 'total_payments': 362096,\n",
       " 'total_stock_value': 'NaN'}"
      ]
     },
     "execution_count": 19,
     "metadata": {},
     "output_type": "execute_result"
    }
   ],
   "source": [
    "enron_dict['THE TRAVEL AGENCY IN THE PARK']"
   ]
  },
  {
   "cell_type": "code",
   "execution_count": 20,
   "metadata": {},
   "outputs": [],
   "source": [
    "del enron_dict['THE TRAVEL AGENCY IN THE PARK']"
   ]
  },
  {
   "cell_type": "markdown",
   "metadata": {},
   "source": [
    "The third one named 'LOCKHART EUGENE E'(all features are missing)."
   ]
  },
  {
   "cell_type": "code",
   "execution_count": 21,
   "metadata": {},
   "outputs": [
    {
     "data": {
      "text/plain": [
       "{'bonus': 'NaN',\n",
       " 'deferral_payments': 'NaN',\n",
       " 'deferred_income': 'NaN',\n",
       " 'director_fees': 'NaN',\n",
       " 'email_address': 'NaN',\n",
       " 'exercised_stock_options': 'NaN',\n",
       " 'expenses': 'NaN',\n",
       " 'from_messages': 'NaN',\n",
       " 'from_poi_to_this_person': 'NaN',\n",
       " 'from_this_person_to_poi': 'NaN',\n",
       " 'loan_advances': 'NaN',\n",
       " 'long_term_incentive': 'NaN',\n",
       " 'other': 'NaN',\n",
       " 'poi': False,\n",
       " 'restricted_stock': 'NaN',\n",
       " 'restricted_stock_deferred': 'NaN',\n",
       " 'salary': 'NaN',\n",
       " 'shared_receipt_with_poi': 'NaN',\n",
       " 'to_messages': 'NaN',\n",
       " 'total_payments': 'NaN',\n",
       " 'total_stock_value': 'NaN'}"
      ]
     },
     "execution_count": 21,
     "metadata": {},
     "output_type": "execute_result"
    }
   ],
   "source": [
    "enron_dict['LOCKHART EUGENE E']"
   ]
  },
  {
   "cell_type": "code",
   "execution_count": 22,
   "metadata": {},
   "outputs": [],
   "source": [
    "del enron_dict['LOCKHART EUGENE E']"
   ]
  },
  {
   "cell_type": "code",
   "execution_count": 23,
   "metadata": {},
   "outputs": [
    {
     "data": {
      "text/plain": [
       "143"
      ]
     },
     "execution_count": 23,
     "metadata": {},
     "output_type": "execute_result"
    }
   ],
   "source": [
    "len(enron_dict)"
   ]
  },
  {
   "cell_type": "markdown",
   "metadata": {},
   "source": [
    "Then transform the dictionary to pandas dataframe which is easier to analyze "
   ]
  },
  {
   "cell_type": "code",
   "execution_count": 24,
   "metadata": {},
   "outputs": [],
   "source": [
    "name_list = []\n",
    "attr_list = []\n",
    "\n",
    "for name,attr in enron_dict.items():\n",
    "    name_list.append(name)\n",
    "    attr_list.append(pd.DataFrame.from_dict(attr, orient='index'))\n",
    "\n",
    "enron = pd.concat(attr_list, keys = name_list).unstack()[0]"
   ]
  },
  {
   "cell_type": "code",
   "execution_count": 25,
   "metadata": {},
   "outputs": [
    {
     "data": {
      "text/html": [
       "<div>\n",
       "<style scoped>\n",
       "    .dataframe tbody tr th:only-of-type {\n",
       "        vertical-align: middle;\n",
       "    }\n",
       "\n",
       "    .dataframe tbody tr th {\n",
       "        vertical-align: top;\n",
       "    }\n",
       "\n",
       "    .dataframe thead th {\n",
       "        text-align: right;\n",
       "    }\n",
       "</style>\n",
       "<table border=\"1\" class=\"dataframe\">\n",
       "  <thead>\n",
       "    <tr style=\"text-align: right;\">\n",
       "      <th></th>\n",
       "      <th>bonus</th>\n",
       "      <th>deferral_payments</th>\n",
       "      <th>deferred_income</th>\n",
       "      <th>director_fees</th>\n",
       "      <th>email_address</th>\n",
       "      <th>exercised_stock_options</th>\n",
       "      <th>expenses</th>\n",
       "      <th>from_messages</th>\n",
       "      <th>from_poi_to_this_person</th>\n",
       "      <th>from_this_person_to_poi</th>\n",
       "      <th>...</th>\n",
       "      <th>long_term_incentive</th>\n",
       "      <th>other</th>\n",
       "      <th>poi</th>\n",
       "      <th>restricted_stock</th>\n",
       "      <th>restricted_stock_deferred</th>\n",
       "      <th>salary</th>\n",
       "      <th>shared_receipt_with_poi</th>\n",
       "      <th>to_messages</th>\n",
       "      <th>total_payments</th>\n",
       "      <th>total_stock_value</th>\n",
       "    </tr>\n",
       "  </thead>\n",
       "  <tbody>\n",
       "    <tr>\n",
       "      <th>METTS MARK</th>\n",
       "      <td>600000</td>\n",
       "      <td>NaN</td>\n",
       "      <td>NaN</td>\n",
       "      <td>NaN</td>\n",
       "      <td>mark.metts@enron.com</td>\n",
       "      <td>NaN</td>\n",
       "      <td>94299</td>\n",
       "      <td>29</td>\n",
       "      <td>38</td>\n",
       "      <td>1</td>\n",
       "      <td>...</td>\n",
       "      <td>NaN</td>\n",
       "      <td>1740</td>\n",
       "      <td>False</td>\n",
       "      <td>585062</td>\n",
       "      <td>NaN</td>\n",
       "      <td>365788</td>\n",
       "      <td>702</td>\n",
       "      <td>807</td>\n",
       "      <td>1061827</td>\n",
       "      <td>585062</td>\n",
       "    </tr>\n",
       "    <tr>\n",
       "      <th>BAXTER JOHN C</th>\n",
       "      <td>1200000</td>\n",
       "      <td>1295738</td>\n",
       "      <td>-1386055</td>\n",
       "      <td>NaN</td>\n",
       "      <td>NaN</td>\n",
       "      <td>6680544</td>\n",
       "      <td>11200</td>\n",
       "      <td>NaN</td>\n",
       "      <td>NaN</td>\n",
       "      <td>NaN</td>\n",
       "      <td>...</td>\n",
       "      <td>1586055</td>\n",
       "      <td>2660303</td>\n",
       "      <td>False</td>\n",
       "      <td>3942714</td>\n",
       "      <td>NaN</td>\n",
       "      <td>267102</td>\n",
       "      <td>NaN</td>\n",
       "      <td>NaN</td>\n",
       "      <td>5634343</td>\n",
       "      <td>10623258</td>\n",
       "    </tr>\n",
       "    <tr>\n",
       "      <th>ELLIOTT STEVEN</th>\n",
       "      <td>350000</td>\n",
       "      <td>NaN</td>\n",
       "      <td>-400729</td>\n",
       "      <td>NaN</td>\n",
       "      <td>steven.elliott@enron.com</td>\n",
       "      <td>4890344</td>\n",
       "      <td>78552</td>\n",
       "      <td>NaN</td>\n",
       "      <td>NaN</td>\n",
       "      <td>NaN</td>\n",
       "      <td>...</td>\n",
       "      <td>NaN</td>\n",
       "      <td>12961</td>\n",
       "      <td>False</td>\n",
       "      <td>1788391</td>\n",
       "      <td>NaN</td>\n",
       "      <td>170941</td>\n",
       "      <td>NaN</td>\n",
       "      <td>NaN</td>\n",
       "      <td>211725</td>\n",
       "      <td>6678735</td>\n",
       "    </tr>\n",
       "    <tr>\n",
       "      <th>CORDES WILLIAM R</th>\n",
       "      <td>NaN</td>\n",
       "      <td>NaN</td>\n",
       "      <td>NaN</td>\n",
       "      <td>NaN</td>\n",
       "      <td>bill.cordes@enron.com</td>\n",
       "      <td>651850</td>\n",
       "      <td>NaN</td>\n",
       "      <td>12</td>\n",
       "      <td>10</td>\n",
       "      <td>0</td>\n",
       "      <td>...</td>\n",
       "      <td>NaN</td>\n",
       "      <td>NaN</td>\n",
       "      <td>False</td>\n",
       "      <td>386335</td>\n",
       "      <td>NaN</td>\n",
       "      <td>NaN</td>\n",
       "      <td>58</td>\n",
       "      <td>764</td>\n",
       "      <td>NaN</td>\n",
       "      <td>1038185</td>\n",
       "    </tr>\n",
       "    <tr>\n",
       "      <th>HANNON KEVIN P</th>\n",
       "      <td>1500000</td>\n",
       "      <td>NaN</td>\n",
       "      <td>-3117011</td>\n",
       "      <td>NaN</td>\n",
       "      <td>kevin.hannon@enron.com</td>\n",
       "      <td>5538001</td>\n",
       "      <td>34039</td>\n",
       "      <td>32</td>\n",
       "      <td>32</td>\n",
       "      <td>21</td>\n",
       "      <td>...</td>\n",
       "      <td>1617011</td>\n",
       "      <td>11350</td>\n",
       "      <td>True</td>\n",
       "      <td>853064</td>\n",
       "      <td>NaN</td>\n",
       "      <td>243293</td>\n",
       "      <td>1035</td>\n",
       "      <td>1045</td>\n",
       "      <td>288682</td>\n",
       "      <td>6391065</td>\n",
       "    </tr>\n",
       "  </tbody>\n",
       "</table>\n",
       "<p>5 rows × 21 columns</p>\n",
       "</div>"
      ],
      "text/plain": [
       "                    bonus deferral_payments deferred_income director_fees  \\\n",
       "METTS MARK         600000               NaN             NaN           NaN   \n",
       "BAXTER JOHN C     1200000           1295738        -1386055           NaN   \n",
       "ELLIOTT STEVEN     350000               NaN         -400729           NaN   \n",
       "CORDES WILLIAM R      NaN               NaN             NaN           NaN   \n",
       "HANNON KEVIN P    1500000               NaN        -3117011           NaN   \n",
       "\n",
       "                             email_address exercised_stock_options expenses  \\\n",
       "METTS MARK            mark.metts@enron.com                     NaN    94299   \n",
       "BAXTER JOHN C                          NaN                 6680544    11200   \n",
       "ELLIOTT STEVEN    steven.elliott@enron.com                 4890344    78552   \n",
       "CORDES WILLIAM R     bill.cordes@enron.com                  651850      NaN   \n",
       "HANNON KEVIN P      kevin.hannon@enron.com                 5538001    34039   \n",
       "\n",
       "                 from_messages from_poi_to_this_person  \\\n",
       "METTS MARK                  29                      38   \n",
       "BAXTER JOHN C              NaN                     NaN   \n",
       "ELLIOTT STEVEN             NaN                     NaN   \n",
       "CORDES WILLIAM R            12                      10   \n",
       "HANNON KEVIN P              32                      32   \n",
       "\n",
       "                 from_this_person_to_poi        ...         \\\n",
       "METTS MARK                             1        ...          \n",
       "BAXTER JOHN C                        NaN        ...          \n",
       "ELLIOTT STEVEN                       NaN        ...          \n",
       "CORDES WILLIAM R                       0        ...          \n",
       "HANNON KEVIN P                        21        ...          \n",
       "\n",
       "                 long_term_incentive    other    poi restricted_stock  \\\n",
       "METTS MARK                       NaN     1740  False           585062   \n",
       "BAXTER JOHN C                1586055  2660303  False          3942714   \n",
       "ELLIOTT STEVEN                   NaN    12961  False          1788391   \n",
       "CORDES WILLIAM R                 NaN      NaN  False           386335   \n",
       "HANNON KEVIN P               1617011    11350   True           853064   \n",
       "\n",
       "                 restricted_stock_deferred  salary shared_receipt_with_poi  \\\n",
       "METTS MARK                             NaN  365788                     702   \n",
       "BAXTER JOHN C                          NaN  267102                     NaN   \n",
       "ELLIOTT STEVEN                         NaN  170941                     NaN   \n",
       "CORDES WILLIAM R                       NaN     NaN                      58   \n",
       "HANNON KEVIN P                         NaN  243293                    1035   \n",
       "\n",
       "                 to_messages total_payments total_stock_value  \n",
       "METTS MARK               807        1061827            585062  \n",
       "BAXTER JOHN C            NaN        5634343          10623258  \n",
       "ELLIOTT STEVEN           NaN         211725           6678735  \n",
       "CORDES WILLIAM R         764            NaN           1038185  \n",
       "HANNON KEVIN P          1045         288682           6391065  \n",
       "\n",
       "[5 rows x 21 columns]"
      ]
     },
     "execution_count": 25,
     "metadata": {},
     "output_type": "execute_result"
    }
   ],
   "source": [
    "enron.head()"
   ]
  },
  {
   "cell_type": "code",
   "execution_count": 26,
   "metadata": {},
   "outputs": [
    {
     "data": {
      "text/plain": [
       "143"
      ]
     },
     "execution_count": 26,
     "metadata": {},
     "output_type": "execute_result"
    }
   ],
   "source": [
    "len(enron)"
   ]
  },
  {
   "cell_type": "code",
   "execution_count": 27,
   "metadata": {},
   "outputs": [
    {
     "name": "stdout",
     "output_type": "stream",
     "text": [
      "<class 'pandas.core.frame.DataFrame'>\n",
      "Index: 143 entries, METTS MARK to GLISAN JR BEN F\n",
      "Data columns (total 21 columns):\n",
      "bonus                        143 non-null object\n",
      "deferral_payments            143 non-null object\n",
      "deferred_income              143 non-null object\n",
      "director_fees                143 non-null object\n",
      "email_address                143 non-null object\n",
      "exercised_stock_options      143 non-null object\n",
      "expenses                     143 non-null object\n",
      "from_messages                143 non-null object\n",
      "from_poi_to_this_person      143 non-null object\n",
      "from_this_person_to_poi      143 non-null object\n",
      "loan_advances                143 non-null object\n",
      "long_term_incentive          143 non-null object\n",
      "other                        143 non-null object\n",
      "poi                          143 non-null object\n",
      "restricted_stock             143 non-null object\n",
      "restricted_stock_deferred    143 non-null object\n",
      "salary                       143 non-null object\n",
      "shared_receipt_with_poi      143 non-null object\n",
      "to_messages                  143 non-null object\n",
      "total_payments               143 non-null object\n",
      "total_stock_value            143 non-null object\n",
      "dtypes: object(21)\n",
      "memory usage: 24.6+ KB\n"
     ]
    }
   ],
   "source": [
    "enron.info()"
   ]
  },
  {
   "cell_type": "markdown",
   "metadata": {},
   "source": [
    "There are 143 persons and 21 columns."
   ]
  },
  {
   "cell_type": "markdown",
   "metadata": {},
   "source": [
    "The data type of each column is not correct. All the columns, except 'email_address'(text) and 'poi'(bool), should be numeric type. I corrected the data type."
   ]
  },
  {
   "cell_type": "code",
   "execution_count": 28,
   "metadata": {},
   "outputs": [],
   "source": [
    "emails = enron['email_address']\n",
    "emails.replace('NaN', np.nan, inplace = True)\n",
    "enron = enron.apply(pd.to_numeric, errors='coerce')\n",
    "enron['email_address'] = emails"
   ]
  },
  {
   "cell_type": "code",
   "execution_count": 29,
   "metadata": {},
   "outputs": [
    {
     "name": "stdout",
     "output_type": "stream",
     "text": [
      "<class 'pandas.core.frame.DataFrame'>\n",
      "Index: 143 entries, METTS MARK to GLISAN JR BEN F\n",
      "Data columns (total 21 columns):\n",
      "bonus                        81 non-null float64\n",
      "deferral_payments            38 non-null float64\n",
      "deferred_income              48 non-null float64\n",
      "director_fees                16 non-null float64\n",
      "email_address                111 non-null object\n",
      "exercised_stock_options      101 non-null float64\n",
      "expenses                     94 non-null float64\n",
      "from_messages                86 non-null float64\n",
      "from_poi_to_this_person      86 non-null float64\n",
      "from_this_person_to_poi      86 non-null float64\n",
      "loan_advances                3 non-null float64\n",
      "long_term_incentive          65 non-null float64\n",
      "other                        91 non-null float64\n",
      "poi                          143 non-null bool\n",
      "restricted_stock             109 non-null float64\n",
      "restricted_stock_deferred    17 non-null float64\n",
      "salary                       94 non-null float64\n",
      "shared_receipt_with_poi      86 non-null float64\n",
      "to_messages                  86 non-null float64\n",
      "total_payments               123 non-null float64\n",
      "total_stock_value            125 non-null float64\n",
      "dtypes: bool(1), float64(19), object(1)\n",
      "memory usage: 23.6+ KB\n"
     ]
    }
   ],
   "source": [
    "enron.info()"
   ]
  },
  {
   "cell_type": "code",
   "execution_count": 30,
   "metadata": {},
   "outputs": [
    {
     "data": {
      "text/plain": [
       "18"
      ]
     },
     "execution_count": 30,
     "metadata": {},
     "output_type": "execute_result"
    }
   ],
   "source": [
    "enron['poi'].sum()"
   ]
  },
  {
   "cell_type": "markdown",
   "metadata": {},
   "source": [
    "There are 18 persons are suspects, 125 persons are not suspects."
   ]
  },
  {
   "cell_type": "markdown",
   "metadata": {},
   "source": [
    "As we can see, there are a lot of missing values. I will disscuss how to deal with by dividing the dataset into three classes: payments, stocks and emails. "
   ]
  },
  {
   "cell_type": "code",
   "execution_count": 31,
   "metadata": {},
   "outputs": [],
   "source": [
    "payments_cols = ['salary', 'bonus', 'long_term_incentive', 'deferred_income', 'deferral_payments', \n",
    "                 'loan_advances', 'other', 'expenses', 'director_fees', 'total_payments']\n",
    "stocks_cols = ['exercised_stock_options', 'restricted_stock', 'restricted_stock_deferred', \n",
    "               'total_stock_value']\n",
    "emails_clos = ['email_address', 'from_messages', 'from_poi_to_this_person', 'to_messages',\n",
    "              'from_this_person_to_poi', 'shared_receipt_with_poi']\n",
    "\n",
    "payments = enron[payments_cols]\n",
    "stocks = enron[stocks_cols]\n",
    "emails = enron[emails_clos]"
   ]
  },
  {
   "cell_type": "markdown",
   "metadata": {},
   "source": [
    "### 1.2 Data Wrangling"
   ]
  },
  {
   "cell_type": "markdown",
   "metadata": {},
   "source": [
    "#### 1.2.1 Payments"
   ]
  },
  {
   "cell_type": "code",
   "execution_count": 32,
   "metadata": {},
   "outputs": [
    {
     "data": {
      "text/html": [
       "<div>\n",
       "<style scoped>\n",
       "    .dataframe tbody tr th:only-of-type {\n",
       "        vertical-align: middle;\n",
       "    }\n",
       "\n",
       "    .dataframe tbody tr th {\n",
       "        vertical-align: top;\n",
       "    }\n",
       "\n",
       "    .dataframe thead th {\n",
       "        text-align: right;\n",
       "    }\n",
       "</style>\n",
       "<table border=\"1\" class=\"dataframe\">\n",
       "  <thead>\n",
       "    <tr style=\"text-align: right;\">\n",
       "      <th></th>\n",
       "      <th>salary</th>\n",
       "      <th>bonus</th>\n",
       "      <th>long_term_incentive</th>\n",
       "      <th>deferred_income</th>\n",
       "      <th>deferral_payments</th>\n",
       "      <th>loan_advances</th>\n",
       "      <th>other</th>\n",
       "      <th>expenses</th>\n",
       "      <th>director_fees</th>\n",
       "      <th>total_payments</th>\n",
       "    </tr>\n",
       "  </thead>\n",
       "  <tbody>\n",
       "    <tr>\n",
       "      <th>METTS MARK</th>\n",
       "      <td>365788.0</td>\n",
       "      <td>600000.0</td>\n",
       "      <td>NaN</td>\n",
       "      <td>NaN</td>\n",
       "      <td>NaN</td>\n",
       "      <td>NaN</td>\n",
       "      <td>1740.0</td>\n",
       "      <td>94299.0</td>\n",
       "      <td>NaN</td>\n",
       "      <td>1061827.0</td>\n",
       "    </tr>\n",
       "    <tr>\n",
       "      <th>BAXTER JOHN C</th>\n",
       "      <td>267102.0</td>\n",
       "      <td>1200000.0</td>\n",
       "      <td>1586055.0</td>\n",
       "      <td>-1386055.0</td>\n",
       "      <td>1295738.0</td>\n",
       "      <td>NaN</td>\n",
       "      <td>2660303.0</td>\n",
       "      <td>11200.0</td>\n",
       "      <td>NaN</td>\n",
       "      <td>5634343.0</td>\n",
       "    </tr>\n",
       "    <tr>\n",
       "      <th>ELLIOTT STEVEN</th>\n",
       "      <td>170941.0</td>\n",
       "      <td>350000.0</td>\n",
       "      <td>NaN</td>\n",
       "      <td>-400729.0</td>\n",
       "      <td>NaN</td>\n",
       "      <td>NaN</td>\n",
       "      <td>12961.0</td>\n",
       "      <td>78552.0</td>\n",
       "      <td>NaN</td>\n",
       "      <td>211725.0</td>\n",
       "    </tr>\n",
       "    <tr>\n",
       "      <th>CORDES WILLIAM R</th>\n",
       "      <td>NaN</td>\n",
       "      <td>NaN</td>\n",
       "      <td>NaN</td>\n",
       "      <td>NaN</td>\n",
       "      <td>NaN</td>\n",
       "      <td>NaN</td>\n",
       "      <td>NaN</td>\n",
       "      <td>NaN</td>\n",
       "      <td>NaN</td>\n",
       "      <td>NaN</td>\n",
       "    </tr>\n",
       "    <tr>\n",
       "      <th>HANNON KEVIN P</th>\n",
       "      <td>243293.0</td>\n",
       "      <td>1500000.0</td>\n",
       "      <td>1617011.0</td>\n",
       "      <td>-3117011.0</td>\n",
       "      <td>NaN</td>\n",
       "      <td>NaN</td>\n",
       "      <td>11350.0</td>\n",
       "      <td>34039.0</td>\n",
       "      <td>NaN</td>\n",
       "      <td>288682.0</td>\n",
       "    </tr>\n",
       "  </tbody>\n",
       "</table>\n",
       "</div>"
      ],
      "text/plain": [
       "                    salary      bonus  long_term_incentive  deferred_income  \\\n",
       "METTS MARK        365788.0   600000.0                  NaN              NaN   \n",
       "BAXTER JOHN C     267102.0  1200000.0            1586055.0       -1386055.0   \n",
       "ELLIOTT STEVEN    170941.0   350000.0                  NaN        -400729.0   \n",
       "CORDES WILLIAM R       NaN        NaN                  NaN              NaN   \n",
       "HANNON KEVIN P    243293.0  1500000.0            1617011.0       -3117011.0   \n",
       "\n",
       "                  deferral_payments  loan_advances      other  expenses  \\\n",
       "METTS MARK                      NaN            NaN     1740.0   94299.0   \n",
       "BAXTER JOHN C             1295738.0            NaN  2660303.0   11200.0   \n",
       "ELLIOTT STEVEN                  NaN            NaN    12961.0   78552.0   \n",
       "CORDES WILLIAM R                NaN            NaN        NaN       NaN   \n",
       "HANNON KEVIN P                  NaN            NaN    11350.0   34039.0   \n",
       "\n",
       "                  director_fees  total_payments  \n",
       "METTS MARK                  NaN       1061827.0  \n",
       "BAXTER JOHN C               NaN       5634343.0  \n",
       "ELLIOTT STEVEN              NaN        211725.0  \n",
       "CORDES WILLIAM R            NaN             NaN  \n",
       "HANNON KEVIN P              NaN        288682.0  "
      ]
     },
     "execution_count": 32,
     "metadata": {},
     "output_type": "execute_result"
    }
   ],
   "source": [
    "payments.head()"
   ]
  },
  {
   "cell_type": "code",
   "execution_count": 33,
   "metadata": {},
   "outputs": [
    {
     "data": {
      "text/plain": [
       "salary                  49\n",
       "bonus                   62\n",
       "long_term_incentive     78\n",
       "deferred_income         95\n",
       "deferral_payments      105\n",
       "loan_advances          140\n",
       "other                   52\n",
       "expenses                49\n",
       "director_fees          127\n",
       "total_payments          20\n",
       "dtype: int64"
      ]
     },
     "execution_count": 33,
     "metadata": {},
     "output_type": "execute_result"
    }
   ],
   "source": [
    "payments.isna().sum()"
   ]
  },
  {
   "cell_type": "markdown",
   "metadata": {},
   "source": [
    "There are a lot of missing values in the payments dataset. But missing values here have very different meaning with missing values in other datasets. Each feature here, except 'total_payments', represents one kind of payment source. So if one feature is missing, it means that 'the source of payment is 0' rather than 'the source of payment is unknown'. Therefore, it is better to impute the missing value with 0."
   ]
  },
  {
   "cell_type": "markdown",
   "metadata": {},
   "source": [
    "Another problem is that compositions of payments and the total payments may provide repetitive information. For example, people with higher total payments tends to have higher values in all compositions of payments. So it is better to transform absolute value of each composition to proportion of each composition.\n"
   ]
  },
  {
   "cell_type": "code",
   "execution_count": 34,
   "metadata": {},
   "outputs": [],
   "source": [
    "payments_nums = ['salary', 'bonus', 'long_term_incentive', 'deferred_income', 'deferral_payments', \n",
    "                 'loan_advances', 'other', 'expenses', 'director_fees']\n",
    "\n",
    "payments_rate = payments.copy()\n",
    "payments_rate = payments_rate.fillna(0)\n",
    "\n",
    "for col in payments_nums:\n",
    "    payments_rate[col] = payments_rate[col] / (payments_rate['total_payments'] - payments_rate['deferred_income'])\n",
    "payments_rate = payments_rate.fillna(0)"
   ]
  },
  {
   "cell_type": "code",
   "execution_count": 35,
   "metadata": {},
   "outputs": [
    {
     "data": {
      "text/html": [
       "<div>\n",
       "<style scoped>\n",
       "    .dataframe tbody tr th:only-of-type {\n",
       "        vertical-align: middle;\n",
       "    }\n",
       "\n",
       "    .dataframe tbody tr th {\n",
       "        vertical-align: top;\n",
       "    }\n",
       "\n",
       "    .dataframe thead th {\n",
       "        text-align: right;\n",
       "    }\n",
       "</style>\n",
       "<table border=\"1\" class=\"dataframe\">\n",
       "  <thead>\n",
       "    <tr style=\"text-align: right;\">\n",
       "      <th></th>\n",
       "      <th>salary</th>\n",
       "      <th>bonus</th>\n",
       "      <th>long_term_incentive</th>\n",
       "      <th>deferred_income</th>\n",
       "      <th>deferral_payments</th>\n",
       "      <th>loan_advances</th>\n",
       "      <th>other</th>\n",
       "      <th>expenses</th>\n",
       "      <th>director_fees</th>\n",
       "      <th>total_payments</th>\n",
       "    </tr>\n",
       "  </thead>\n",
       "  <tbody>\n",
       "    <tr>\n",
       "      <th>METTS MARK</th>\n",
       "      <td>0.344489</td>\n",
       "      <td>0.565064</td>\n",
       "      <td>0.000000</td>\n",
       "      <td>0.000000</td>\n",
       "      <td>0.000000</td>\n",
       "      <td>0.0</td>\n",
       "      <td>0.001639</td>\n",
       "      <td>0.088808</td>\n",
       "      <td>0.0</td>\n",
       "      <td>1061827.0</td>\n",
       "    </tr>\n",
       "    <tr>\n",
       "      <th>BAXTER JOHN C</th>\n",
       "      <td>0.038047</td>\n",
       "      <td>0.170930</td>\n",
       "      <td>0.225921</td>\n",
       "      <td>-0.197433</td>\n",
       "      <td>0.229971</td>\n",
       "      <td>0.0</td>\n",
       "      <td>0.472158</td>\n",
       "      <td>0.001988</td>\n",
       "      <td>0.0</td>\n",
       "      <td>5634343.0</td>\n",
       "    </tr>\n",
       "    <tr>\n",
       "      <th>ELLIOTT STEVEN</th>\n",
       "      <td>0.279108</td>\n",
       "      <td>0.571471</td>\n",
       "      <td>0.000000</td>\n",
       "      <td>-0.654301</td>\n",
       "      <td>0.000000</td>\n",
       "      <td>0.0</td>\n",
       "      <td>0.061216</td>\n",
       "      <td>0.371008</td>\n",
       "      <td>0.0</td>\n",
       "      <td>211725.0</td>\n",
       "    </tr>\n",
       "    <tr>\n",
       "      <th>CORDES WILLIAM R</th>\n",
       "      <td>0.000000</td>\n",
       "      <td>0.000000</td>\n",
       "      <td>0.000000</td>\n",
       "      <td>0.000000</td>\n",
       "      <td>0.000000</td>\n",
       "      <td>0.0</td>\n",
       "      <td>0.000000</td>\n",
       "      <td>0.000000</td>\n",
       "      <td>0.0</td>\n",
       "      <td>0.0</td>\n",
       "    </tr>\n",
       "    <tr>\n",
       "      <th>HANNON KEVIN P</th>\n",
       "      <td>0.071437</td>\n",
       "      <td>0.440439</td>\n",
       "      <td>0.474796</td>\n",
       "      <td>-0.915235</td>\n",
       "      <td>0.000000</td>\n",
       "      <td>0.0</td>\n",
       "      <td>0.039316</td>\n",
       "      <td>0.117911</td>\n",
       "      <td>0.0</td>\n",
       "      <td>288682.0</td>\n",
       "    </tr>\n",
       "  </tbody>\n",
       "</table>\n",
       "</div>"
      ],
      "text/plain": [
       "                    salary     bonus  long_term_incentive  deferred_income  \\\n",
       "METTS MARK        0.344489  0.565064             0.000000         0.000000   \n",
       "BAXTER JOHN C     0.038047  0.170930             0.225921        -0.197433   \n",
       "ELLIOTT STEVEN    0.279108  0.571471             0.000000        -0.654301   \n",
       "CORDES WILLIAM R  0.000000  0.000000             0.000000         0.000000   \n",
       "HANNON KEVIN P    0.071437  0.440439             0.474796        -0.915235   \n",
       "\n",
       "                  deferral_payments  loan_advances     other  expenses  \\\n",
       "METTS MARK                 0.000000            0.0  0.001639  0.088808   \n",
       "BAXTER JOHN C              0.229971            0.0  0.472158  0.001988   \n",
       "ELLIOTT STEVEN             0.000000            0.0  0.061216  0.371008   \n",
       "CORDES WILLIAM R           0.000000            0.0  0.000000  0.000000   \n",
       "HANNON KEVIN P             0.000000            0.0  0.039316  0.117911   \n",
       "\n",
       "                  director_fees  total_payments  \n",
       "METTS MARK                  0.0       1061827.0  \n",
       "BAXTER JOHN C               0.0       5634343.0  \n",
       "ELLIOTT STEVEN              0.0        211725.0  \n",
       "CORDES WILLIAM R            0.0             0.0  \n",
       "HANNON KEVIN P              0.0        288682.0  "
      ]
     },
     "execution_count": 35,
     "metadata": {},
     "output_type": "execute_result"
    }
   ],
   "source": [
    "payments_rate.head()"
   ]
  },
  {
   "cell_type": "markdown",
   "metadata": {},
   "source": [
    "#### 1.2.2 Stocks"
   ]
  },
  {
   "cell_type": "code",
   "execution_count": 36,
   "metadata": {},
   "outputs": [
    {
     "data": {
      "text/html": [
       "<div>\n",
       "<style scoped>\n",
       "    .dataframe tbody tr th:only-of-type {\n",
       "        vertical-align: middle;\n",
       "    }\n",
       "\n",
       "    .dataframe tbody tr th {\n",
       "        vertical-align: top;\n",
       "    }\n",
       "\n",
       "    .dataframe thead th {\n",
       "        text-align: right;\n",
       "    }\n",
       "</style>\n",
       "<table border=\"1\" class=\"dataframe\">\n",
       "  <thead>\n",
       "    <tr style=\"text-align: right;\">\n",
       "      <th></th>\n",
       "      <th>exercised_stock_options</th>\n",
       "      <th>restricted_stock</th>\n",
       "      <th>restricted_stock_deferred</th>\n",
       "      <th>total_stock_value</th>\n",
       "    </tr>\n",
       "  </thead>\n",
       "  <tbody>\n",
       "    <tr>\n",
       "      <th>METTS MARK</th>\n",
       "      <td>NaN</td>\n",
       "      <td>585062.0</td>\n",
       "      <td>NaN</td>\n",
       "      <td>585062.0</td>\n",
       "    </tr>\n",
       "    <tr>\n",
       "      <th>BAXTER JOHN C</th>\n",
       "      <td>6680544.0</td>\n",
       "      <td>3942714.0</td>\n",
       "      <td>NaN</td>\n",
       "      <td>10623258.0</td>\n",
       "    </tr>\n",
       "    <tr>\n",
       "      <th>ELLIOTT STEVEN</th>\n",
       "      <td>4890344.0</td>\n",
       "      <td>1788391.0</td>\n",
       "      <td>NaN</td>\n",
       "      <td>6678735.0</td>\n",
       "    </tr>\n",
       "    <tr>\n",
       "      <th>CORDES WILLIAM R</th>\n",
       "      <td>651850.0</td>\n",
       "      <td>386335.0</td>\n",
       "      <td>NaN</td>\n",
       "      <td>1038185.0</td>\n",
       "    </tr>\n",
       "    <tr>\n",
       "      <th>HANNON KEVIN P</th>\n",
       "      <td>5538001.0</td>\n",
       "      <td>853064.0</td>\n",
       "      <td>NaN</td>\n",
       "      <td>6391065.0</td>\n",
       "    </tr>\n",
       "  </tbody>\n",
       "</table>\n",
       "</div>"
      ],
      "text/plain": [
       "                  exercised_stock_options  restricted_stock  \\\n",
       "METTS MARK                            NaN          585062.0   \n",
       "BAXTER JOHN C                   6680544.0         3942714.0   \n",
       "ELLIOTT STEVEN                  4890344.0         1788391.0   \n",
       "CORDES WILLIAM R                 651850.0          386335.0   \n",
       "HANNON KEVIN P                  5538001.0          853064.0   \n",
       "\n",
       "                  restricted_stock_deferred  total_stock_value  \n",
       "METTS MARK                              NaN           585062.0  \n",
       "BAXTER JOHN C                           NaN         10623258.0  \n",
       "ELLIOTT STEVEN                          NaN          6678735.0  \n",
       "CORDES WILLIAM R                        NaN          1038185.0  \n",
       "HANNON KEVIN P                          NaN          6391065.0  "
      ]
     },
     "execution_count": 36,
     "metadata": {},
     "output_type": "execute_result"
    }
   ],
   "source": [
    "stocks.head()"
   ]
  },
  {
   "cell_type": "markdown",
   "metadata": {},
   "source": [
    "First, I found some typos in the dataset:"
   ]
  },
  {
   "cell_type": "code",
   "execution_count": 37,
   "metadata": {},
   "outputs": [
    {
     "data": {
      "text/html": [
       "<div>\n",
       "<style scoped>\n",
       "    .dataframe tbody tr th:only-of-type {\n",
       "        vertical-align: middle;\n",
       "    }\n",
       "\n",
       "    .dataframe tbody tr th {\n",
       "        vertical-align: top;\n",
       "    }\n",
       "\n",
       "    .dataframe thead th {\n",
       "        text-align: right;\n",
       "    }\n",
       "</style>\n",
       "<table border=\"1\" class=\"dataframe\">\n",
       "  <thead>\n",
       "    <tr style=\"text-align: right;\">\n",
       "      <th></th>\n",
       "      <th>exercised_stock_options</th>\n",
       "      <th>restricted_stock</th>\n",
       "      <th>restricted_stock_deferred</th>\n",
       "      <th>total_stock_value</th>\n",
       "    </tr>\n",
       "  </thead>\n",
       "  <tbody>\n",
       "    <tr>\n",
       "      <th>BELFER ROBERT</th>\n",
       "      <td>3285.0</td>\n",
       "      <td>NaN</td>\n",
       "      <td>44093.0</td>\n",
       "      <td>-44093.0</td>\n",
       "    </tr>\n",
       "    <tr>\n",
       "      <th>BHATNAGAR SANJAY</th>\n",
       "      <td>2604490.0</td>\n",
       "      <td>-2604490.0</td>\n",
       "      <td>15456290.0</td>\n",
       "      <td>NaN</td>\n",
       "    </tr>\n",
       "  </tbody>\n",
       "</table>\n",
       "</div>"
      ],
      "text/plain": [
       "                  exercised_stock_options  restricted_stock  \\\n",
       "BELFER ROBERT                      3285.0               NaN   \n",
       "BHATNAGAR SANJAY                2604490.0        -2604490.0   \n",
       "\n",
       "                  restricted_stock_deferred  total_stock_value  \n",
       "BELFER ROBERT                       44093.0           -44093.0  \n",
       "BHATNAGAR SANJAY                 15456290.0                NaN  "
      ]
     },
     "execution_count": 37,
     "metadata": {},
     "output_type": "execute_result"
    }
   ],
   "source": [
    "stocks.loc[(stocks['exercised_stock_options'] < 0) |\n",
    "          (stocks['restricted_stock'] < 0) |\n",
    "          (stocks['restricted_stock_deferred'] > 0)| \n",
    "          (stocks['total_stock_value'] < 0)]"
   ]
  },
  {
   "cell_type": "markdown",
   "metadata": {},
   "source": [
    "By looking back the pdf file with true values, I corrected them:"
   ]
  },
  {
   "cell_type": "code",
   "execution_count": 38,
   "metadata": {},
   "outputs": [],
   "source": [
    "ROBERT = pd.DataFrame({'exercised_stock_options': pd.Series([0], index = ['BELFER ROBERT']),\n",
    "             'restricted_stock' : pd.Series([44093.0], index = ['BELFER ROBERT']),\n",
    "             'restricted_stock_deferred' : pd.Series([-44093.0], index = ['BELFER ROBERT']),\n",
    "             'total_stock_value' : pd.Series([0], index = ['BELFER ROBERT'])                                        \n",
    "             })\n",
    "\n",
    "SANJAY = pd.DataFrame({'exercised_stock_options': pd.Series([15456290.0], index = ['BHATNAGAR SANJAY']),\n",
    "             'restricted_stock' : pd.Series([2604490.0], index = ['BHATNAGAR SANJAY']),\n",
    "             'restricted_stock_deferred' : pd.Series([-2604490.0], index = ['BHATNAGAR SANJAY']),\n",
    "             'total_stock_value' : pd.Series([15456290.0], index = ['BHATNAGAR SANJAY'])                                        \n",
    "             })"
   ]
  },
  {
   "cell_type": "code",
   "execution_count": 39,
   "metadata": {},
   "outputs": [
    {
     "name": "stderr",
     "output_type": "stream",
     "text": [
      "E:\\Anaconda3\\lib\\site-packages\\pandas\\core\\frame.py:5085: SettingWithCopyWarning: \n",
      "A value is trying to be set on a copy of a slice from a DataFrame.\n",
      "Try using .loc[row_indexer,col_indexer] = value instead\n",
      "\n",
      "See the caveats in the documentation: http://pandas.pydata.org/pandas-docs/stable/indexing.html#indexing-view-versus-copy\n",
      "  self[col] = expressions.where(mask, this, that)\n"
     ]
    }
   ],
   "source": [
    "stocks.update(ROBERT)\n",
    "stocks.update(SANJAY)"
   ]
  },
  {
   "cell_type": "code",
   "execution_count": 40,
   "metadata": {},
   "outputs": [
    {
     "data": {
      "text/html": [
       "<div>\n",
       "<style scoped>\n",
       "    .dataframe tbody tr th:only-of-type {\n",
       "        vertical-align: middle;\n",
       "    }\n",
       "\n",
       "    .dataframe tbody tr th {\n",
       "        vertical-align: top;\n",
       "    }\n",
       "\n",
       "    .dataframe thead th {\n",
       "        text-align: right;\n",
       "    }\n",
       "</style>\n",
       "<table border=\"1\" class=\"dataframe\">\n",
       "  <thead>\n",
       "    <tr style=\"text-align: right;\">\n",
       "      <th></th>\n",
       "      <th>exercised_stock_options</th>\n",
       "      <th>restricted_stock</th>\n",
       "      <th>restricted_stock_deferred</th>\n",
       "      <th>total_stock_value</th>\n",
       "    </tr>\n",
       "  </thead>\n",
       "  <tbody>\n",
       "  </tbody>\n",
       "</table>\n",
       "</div>"
      ],
      "text/plain": [
       "Empty DataFrame\n",
       "Columns: [exercised_stock_options, restricted_stock, restricted_stock_deferred, total_stock_value]\n",
       "Index: []"
      ]
     },
     "execution_count": 40,
     "metadata": {},
     "output_type": "execute_result"
    }
   ],
   "source": [
    "stocks.loc[(stocks['exercised_stock_options'] < 0) |\n",
    "          (stocks['restricted_stock'] < 0) |\n",
    "          (stocks['restricted_stock_deferred'] > 0)| \n",
    "          (stocks['total_stock_value'] < 0)]"
   ]
  },
  {
   "cell_type": "markdown",
   "metadata": {},
   "source": [
    "Then I found that there many missing values as well. I imputed missing values and transformed the data using the same method as what I used in previous part."
   ]
  },
  {
   "cell_type": "code",
   "execution_count": 41,
   "metadata": {},
   "outputs": [
    {
     "data": {
      "text/plain": [
       "exercised_stock_options       42\n",
       "restricted_stock              33\n",
       "restricted_stock_deferred    126\n",
       "total_stock_value             17\n",
       "dtype: int64"
      ]
     },
     "execution_count": 41,
     "metadata": {},
     "output_type": "execute_result"
    }
   ],
   "source": [
    "stocks.isna().sum()"
   ]
  },
  {
   "cell_type": "code",
   "execution_count": 42,
   "metadata": {},
   "outputs": [],
   "source": [
    "stocks_nums = ['exercised_stock_options', 'restricted_stock', 'restricted_stock_deferred']\n",
    "\n",
    "stocks_rate = stocks.copy()\n",
    "stocks_rate = stocks_rate.fillna(0)\n",
    "\n",
    "for col in stocks_nums:\n",
    "    stocks_rate[col] = stocks_rate[col] / (stocks_rate['total_stock_value'] - stocks_rate['restricted_stock_deferred'])\n",
    "stocks_rate = stocks_rate.fillna(0)"
   ]
  },
  {
   "cell_type": "code",
   "execution_count": 43,
   "metadata": {
    "scrolled": true
   },
   "outputs": [
    {
     "data": {
      "text/html": [
       "<div>\n",
       "<style scoped>\n",
       "    .dataframe tbody tr th:only-of-type {\n",
       "        vertical-align: middle;\n",
       "    }\n",
       "\n",
       "    .dataframe tbody tr th {\n",
       "        vertical-align: top;\n",
       "    }\n",
       "\n",
       "    .dataframe thead th {\n",
       "        text-align: right;\n",
       "    }\n",
       "</style>\n",
       "<table border=\"1\" class=\"dataframe\">\n",
       "  <thead>\n",
       "    <tr style=\"text-align: right;\">\n",
       "      <th></th>\n",
       "      <th>exercised_stock_options</th>\n",
       "      <th>restricted_stock</th>\n",
       "      <th>restricted_stock_deferred</th>\n",
       "      <th>total_stock_value</th>\n",
       "    </tr>\n",
       "  </thead>\n",
       "  <tbody>\n",
       "    <tr>\n",
       "      <th>METTS MARK</th>\n",
       "      <td>0.000000</td>\n",
       "      <td>1.000000</td>\n",
       "      <td>0.0</td>\n",
       "      <td>585062.0</td>\n",
       "    </tr>\n",
       "    <tr>\n",
       "      <th>BAXTER JOHN C</th>\n",
       "      <td>0.628860</td>\n",
       "      <td>0.371140</td>\n",
       "      <td>0.0</td>\n",
       "      <td>10623258.0</td>\n",
       "    </tr>\n",
       "    <tr>\n",
       "      <th>ELLIOTT STEVEN</th>\n",
       "      <td>0.732226</td>\n",
       "      <td>0.267774</td>\n",
       "      <td>0.0</td>\n",
       "      <td>6678735.0</td>\n",
       "    </tr>\n",
       "    <tr>\n",
       "      <th>CORDES WILLIAM R</th>\n",
       "      <td>0.627875</td>\n",
       "      <td>0.372125</td>\n",
       "      <td>0.0</td>\n",
       "      <td>1038185.0</td>\n",
       "    </tr>\n",
       "    <tr>\n",
       "      <th>HANNON KEVIN P</th>\n",
       "      <td>0.866522</td>\n",
       "      <td>0.133478</td>\n",
       "      <td>0.0</td>\n",
       "      <td>6391065.0</td>\n",
       "    </tr>\n",
       "  </tbody>\n",
       "</table>\n",
       "</div>"
      ],
      "text/plain": [
       "                  exercised_stock_options  restricted_stock  \\\n",
       "METTS MARK                       0.000000          1.000000   \n",
       "BAXTER JOHN C                    0.628860          0.371140   \n",
       "ELLIOTT STEVEN                   0.732226          0.267774   \n",
       "CORDES WILLIAM R                 0.627875          0.372125   \n",
       "HANNON KEVIN P                   0.866522          0.133478   \n",
       "\n",
       "                  restricted_stock_deferred  total_stock_value  \n",
       "METTS MARK                              0.0           585062.0  \n",
       "BAXTER JOHN C                           0.0         10623258.0  \n",
       "ELLIOTT STEVEN                          0.0          6678735.0  \n",
       "CORDES WILLIAM R                        0.0          1038185.0  \n",
       "HANNON KEVIN P                          0.0          6391065.0  "
      ]
     },
     "execution_count": 43,
     "metadata": {},
     "output_type": "execute_result"
    }
   ],
   "source": [
    "stocks_rate.head()"
   ]
  },
  {
   "cell_type": "markdown",
   "metadata": {},
   "source": [
    "#### 1.2.3 Emails"
   ]
  },
  {
   "cell_type": "code",
   "execution_count": 44,
   "metadata": {},
   "outputs": [
    {
     "data": {
      "text/html": [
       "<div>\n",
       "<style scoped>\n",
       "    .dataframe tbody tr th:only-of-type {\n",
       "        vertical-align: middle;\n",
       "    }\n",
       "\n",
       "    .dataframe tbody tr th {\n",
       "        vertical-align: top;\n",
       "    }\n",
       "\n",
       "    .dataframe thead th {\n",
       "        text-align: right;\n",
       "    }\n",
       "</style>\n",
       "<table border=\"1\" class=\"dataframe\">\n",
       "  <thead>\n",
       "    <tr style=\"text-align: right;\">\n",
       "      <th></th>\n",
       "      <th>email_address</th>\n",
       "      <th>from_messages</th>\n",
       "      <th>from_poi_to_this_person</th>\n",
       "      <th>to_messages</th>\n",
       "      <th>from_this_person_to_poi</th>\n",
       "      <th>shared_receipt_with_poi</th>\n",
       "    </tr>\n",
       "  </thead>\n",
       "  <tbody>\n",
       "    <tr>\n",
       "      <th>METTS MARK</th>\n",
       "      <td>mark.metts@enron.com</td>\n",
       "      <td>29.0</td>\n",
       "      <td>38.0</td>\n",
       "      <td>807.0</td>\n",
       "      <td>1.0</td>\n",
       "      <td>702.0</td>\n",
       "    </tr>\n",
       "    <tr>\n",
       "      <th>BAXTER JOHN C</th>\n",
       "      <td>NaN</td>\n",
       "      <td>NaN</td>\n",
       "      <td>NaN</td>\n",
       "      <td>NaN</td>\n",
       "      <td>NaN</td>\n",
       "      <td>NaN</td>\n",
       "    </tr>\n",
       "    <tr>\n",
       "      <th>ELLIOTT STEVEN</th>\n",
       "      <td>steven.elliott@enron.com</td>\n",
       "      <td>NaN</td>\n",
       "      <td>NaN</td>\n",
       "      <td>NaN</td>\n",
       "      <td>NaN</td>\n",
       "      <td>NaN</td>\n",
       "    </tr>\n",
       "    <tr>\n",
       "      <th>CORDES WILLIAM R</th>\n",
       "      <td>bill.cordes@enron.com</td>\n",
       "      <td>12.0</td>\n",
       "      <td>10.0</td>\n",
       "      <td>764.0</td>\n",
       "      <td>0.0</td>\n",
       "      <td>58.0</td>\n",
       "    </tr>\n",
       "    <tr>\n",
       "      <th>HANNON KEVIN P</th>\n",
       "      <td>kevin.hannon@enron.com</td>\n",
       "      <td>32.0</td>\n",
       "      <td>32.0</td>\n",
       "      <td>1045.0</td>\n",
       "      <td>21.0</td>\n",
       "      <td>1035.0</td>\n",
       "    </tr>\n",
       "  </tbody>\n",
       "</table>\n",
       "</div>"
      ],
      "text/plain": [
       "                             email_address  from_messages  \\\n",
       "METTS MARK            mark.metts@enron.com           29.0   \n",
       "BAXTER JOHN C                          NaN            NaN   \n",
       "ELLIOTT STEVEN    steven.elliott@enron.com            NaN   \n",
       "CORDES WILLIAM R     bill.cordes@enron.com           12.0   \n",
       "HANNON KEVIN P      kevin.hannon@enron.com           32.0   \n",
       "\n",
       "                  from_poi_to_this_person  to_messages  \\\n",
       "METTS MARK                           38.0        807.0   \n",
       "BAXTER JOHN C                         NaN          NaN   \n",
       "ELLIOTT STEVEN                        NaN          NaN   \n",
       "CORDES WILLIAM R                     10.0        764.0   \n",
       "HANNON KEVIN P                       32.0       1045.0   \n",
       "\n",
       "                  from_this_person_to_poi  shared_receipt_with_poi  \n",
       "METTS MARK                            1.0                    702.0  \n",
       "BAXTER JOHN C                         NaN                      NaN  \n",
       "ELLIOTT STEVEN                        NaN                      NaN  \n",
       "CORDES WILLIAM R                      0.0                     58.0  \n",
       "HANNON KEVIN P                       21.0                   1035.0  "
      ]
     },
     "execution_count": 44,
     "metadata": {},
     "output_type": "execute_result"
    }
   ],
   "source": [
    "emails.head()"
   ]
  },
  {
   "cell_type": "markdown",
   "metadata": {},
   "source": [
    "Emalis dataset has email address, counts on how many mails they sent and received, and how many of them are from and to poi. Finally, the count of shared receipt with poi is also included. "
   ]
  },
  {
   "cell_type": "markdown",
   "metadata": {},
   "source": [
    "It is better to use the proportion of emails from and to pois rather than exact numbers. Besides, the email address gives us no useful information. It needs to be removed."
   ]
  },
  {
   "cell_type": "code",
   "execution_count": 45,
   "metadata": {},
   "outputs": [],
   "source": [
    "emails_rate = pd.DataFrame()\n",
    "emails_rate['from_poi_percent'] = emails['from_poi_to_this_person'] /  emails['to_messages']\n",
    "emails_rate['to_poi_percent'] = emails['from_this_person_to_poi'] /  emails['from_messages']\n",
    "emails_rate['shared_receipt_with_poi'] = emails['shared_receipt_with_poi']\n",
    "emails_rate = emails_rate.fillna(0)"
   ]
  },
  {
   "cell_type": "code",
   "execution_count": 46,
   "metadata": {
    "scrolled": true
   },
   "outputs": [
    {
     "data": {
      "text/html": [
       "<div>\n",
       "<style scoped>\n",
       "    .dataframe tbody tr th:only-of-type {\n",
       "        vertical-align: middle;\n",
       "    }\n",
       "\n",
       "    .dataframe tbody tr th {\n",
       "        vertical-align: top;\n",
       "    }\n",
       "\n",
       "    .dataframe thead th {\n",
       "        text-align: right;\n",
       "    }\n",
       "</style>\n",
       "<table border=\"1\" class=\"dataframe\">\n",
       "  <thead>\n",
       "    <tr style=\"text-align: right;\">\n",
       "      <th></th>\n",
       "      <th>from_poi_percent</th>\n",
       "      <th>to_poi_percent</th>\n",
       "      <th>shared_receipt_with_poi</th>\n",
       "    </tr>\n",
       "  </thead>\n",
       "  <tbody>\n",
       "    <tr>\n",
       "      <th>METTS MARK</th>\n",
       "      <td>0.047088</td>\n",
       "      <td>0.034483</td>\n",
       "      <td>702.0</td>\n",
       "    </tr>\n",
       "    <tr>\n",
       "      <th>BAXTER JOHN C</th>\n",
       "      <td>0.000000</td>\n",
       "      <td>0.000000</td>\n",
       "      <td>0.0</td>\n",
       "    </tr>\n",
       "    <tr>\n",
       "      <th>ELLIOTT STEVEN</th>\n",
       "      <td>0.000000</td>\n",
       "      <td>0.000000</td>\n",
       "      <td>0.0</td>\n",
       "    </tr>\n",
       "    <tr>\n",
       "      <th>CORDES WILLIAM R</th>\n",
       "      <td>0.013089</td>\n",
       "      <td>0.000000</td>\n",
       "      <td>58.0</td>\n",
       "    </tr>\n",
       "    <tr>\n",
       "      <th>HANNON KEVIN P</th>\n",
       "      <td>0.030622</td>\n",
       "      <td>0.656250</td>\n",
       "      <td>1035.0</td>\n",
       "    </tr>\n",
       "  </tbody>\n",
       "</table>\n",
       "</div>"
      ],
      "text/plain": [
       "                  from_poi_percent  to_poi_percent  shared_receipt_with_poi\n",
       "METTS MARK                0.047088        0.034483                    702.0\n",
       "BAXTER JOHN C             0.000000        0.000000                      0.0\n",
       "ELLIOTT STEVEN            0.000000        0.000000                      0.0\n",
       "CORDES WILLIAM R          0.013089        0.000000                     58.0\n",
       "HANNON KEVIN P            0.030622        0.656250                   1035.0"
      ]
     },
     "execution_count": 46,
     "metadata": {},
     "output_type": "execute_result"
    }
   ],
   "source": [
    "emails_rate.head()"
   ]
  },
  {
   "cell_type": "markdown",
   "metadata": {},
   "source": [
    "#### 1.2.4 Combination"
   ]
  },
  {
   "cell_type": "markdown",
   "metadata": {},
   "source": [
    "The final step of data wrangling is to combine three cleaned datasets together as our final dataset. "
   ]
  },
  {
   "cell_type": "code",
   "execution_count": 47,
   "metadata": {},
   "outputs": [],
   "source": [
    "enron_final = pd.concat([payments_rate, stocks_rate, emails_rate], axis = 1, sort = False)\n",
    "enron_final['poi'] = enron['poi']"
   ]
  },
  {
   "cell_type": "code",
   "execution_count": 48,
   "metadata": {},
   "outputs": [
    {
     "data": {
      "text/html": [
       "<div>\n",
       "<style scoped>\n",
       "    .dataframe tbody tr th:only-of-type {\n",
       "        vertical-align: middle;\n",
       "    }\n",
       "\n",
       "    .dataframe tbody tr th {\n",
       "        vertical-align: top;\n",
       "    }\n",
       "\n",
       "    .dataframe thead th {\n",
       "        text-align: right;\n",
       "    }\n",
       "</style>\n",
       "<table border=\"1\" class=\"dataframe\">\n",
       "  <thead>\n",
       "    <tr style=\"text-align: right;\">\n",
       "      <th></th>\n",
       "      <th>salary</th>\n",
       "      <th>bonus</th>\n",
       "      <th>long_term_incentive</th>\n",
       "      <th>deferred_income</th>\n",
       "      <th>deferral_payments</th>\n",
       "      <th>loan_advances</th>\n",
       "      <th>other</th>\n",
       "      <th>expenses</th>\n",
       "      <th>director_fees</th>\n",
       "      <th>total_payments</th>\n",
       "      <th>exercised_stock_options</th>\n",
       "      <th>restricted_stock</th>\n",
       "      <th>restricted_stock_deferred</th>\n",
       "      <th>total_stock_value</th>\n",
       "      <th>from_poi_percent</th>\n",
       "      <th>to_poi_percent</th>\n",
       "      <th>shared_receipt_with_poi</th>\n",
       "      <th>poi</th>\n",
       "    </tr>\n",
       "  </thead>\n",
       "  <tbody>\n",
       "    <tr>\n",
       "      <th>METTS MARK</th>\n",
       "      <td>0.344489</td>\n",
       "      <td>0.565064</td>\n",
       "      <td>0.000000</td>\n",
       "      <td>0.000000</td>\n",
       "      <td>0.000000</td>\n",
       "      <td>0.0</td>\n",
       "      <td>0.001639</td>\n",
       "      <td>0.088808</td>\n",
       "      <td>0.0</td>\n",
       "      <td>1061827.0</td>\n",
       "      <td>0.000000</td>\n",
       "      <td>1.000000</td>\n",
       "      <td>0.0</td>\n",
       "      <td>585062.0</td>\n",
       "      <td>0.047088</td>\n",
       "      <td>0.034483</td>\n",
       "      <td>702.0</td>\n",
       "      <td>False</td>\n",
       "    </tr>\n",
       "    <tr>\n",
       "      <th>BAXTER JOHN C</th>\n",
       "      <td>0.038047</td>\n",
       "      <td>0.170930</td>\n",
       "      <td>0.225921</td>\n",
       "      <td>-0.197433</td>\n",
       "      <td>0.229971</td>\n",
       "      <td>0.0</td>\n",
       "      <td>0.472158</td>\n",
       "      <td>0.001988</td>\n",
       "      <td>0.0</td>\n",
       "      <td>5634343.0</td>\n",
       "      <td>0.628860</td>\n",
       "      <td>0.371140</td>\n",
       "      <td>0.0</td>\n",
       "      <td>10623258.0</td>\n",
       "      <td>0.000000</td>\n",
       "      <td>0.000000</td>\n",
       "      <td>0.0</td>\n",
       "      <td>False</td>\n",
       "    </tr>\n",
       "    <tr>\n",
       "      <th>ELLIOTT STEVEN</th>\n",
       "      <td>0.279108</td>\n",
       "      <td>0.571471</td>\n",
       "      <td>0.000000</td>\n",
       "      <td>-0.654301</td>\n",
       "      <td>0.000000</td>\n",
       "      <td>0.0</td>\n",
       "      <td>0.061216</td>\n",
       "      <td>0.371008</td>\n",
       "      <td>0.0</td>\n",
       "      <td>211725.0</td>\n",
       "      <td>0.732226</td>\n",
       "      <td>0.267774</td>\n",
       "      <td>0.0</td>\n",
       "      <td>6678735.0</td>\n",
       "      <td>0.000000</td>\n",
       "      <td>0.000000</td>\n",
       "      <td>0.0</td>\n",
       "      <td>False</td>\n",
       "    </tr>\n",
       "    <tr>\n",
       "      <th>CORDES WILLIAM R</th>\n",
       "      <td>0.000000</td>\n",
       "      <td>0.000000</td>\n",
       "      <td>0.000000</td>\n",
       "      <td>0.000000</td>\n",
       "      <td>0.000000</td>\n",
       "      <td>0.0</td>\n",
       "      <td>0.000000</td>\n",
       "      <td>0.000000</td>\n",
       "      <td>0.0</td>\n",
       "      <td>0.0</td>\n",
       "      <td>0.627875</td>\n",
       "      <td>0.372125</td>\n",
       "      <td>0.0</td>\n",
       "      <td>1038185.0</td>\n",
       "      <td>0.013089</td>\n",
       "      <td>0.000000</td>\n",
       "      <td>58.0</td>\n",
       "      <td>False</td>\n",
       "    </tr>\n",
       "    <tr>\n",
       "      <th>HANNON KEVIN P</th>\n",
       "      <td>0.071437</td>\n",
       "      <td>0.440439</td>\n",
       "      <td>0.474796</td>\n",
       "      <td>-0.915235</td>\n",
       "      <td>0.000000</td>\n",
       "      <td>0.0</td>\n",
       "      <td>0.039316</td>\n",
       "      <td>0.117911</td>\n",
       "      <td>0.0</td>\n",
       "      <td>288682.0</td>\n",
       "      <td>0.866522</td>\n",
       "      <td>0.133478</td>\n",
       "      <td>0.0</td>\n",
       "      <td>6391065.0</td>\n",
       "      <td>0.030622</td>\n",
       "      <td>0.656250</td>\n",
       "      <td>1035.0</td>\n",
       "      <td>True</td>\n",
       "    </tr>\n",
       "  </tbody>\n",
       "</table>\n",
       "</div>"
      ],
      "text/plain": [
       "                    salary     bonus  long_term_incentive  deferred_income  \\\n",
       "METTS MARK        0.344489  0.565064             0.000000         0.000000   \n",
       "BAXTER JOHN C     0.038047  0.170930             0.225921        -0.197433   \n",
       "ELLIOTT STEVEN    0.279108  0.571471             0.000000        -0.654301   \n",
       "CORDES WILLIAM R  0.000000  0.000000             0.000000         0.000000   \n",
       "HANNON KEVIN P    0.071437  0.440439             0.474796        -0.915235   \n",
       "\n",
       "                  deferral_payments  loan_advances     other  expenses  \\\n",
       "METTS MARK                 0.000000            0.0  0.001639  0.088808   \n",
       "BAXTER JOHN C              0.229971            0.0  0.472158  0.001988   \n",
       "ELLIOTT STEVEN             0.000000            0.0  0.061216  0.371008   \n",
       "CORDES WILLIAM R           0.000000            0.0  0.000000  0.000000   \n",
       "HANNON KEVIN P             0.000000            0.0  0.039316  0.117911   \n",
       "\n",
       "                  director_fees  total_payments  exercised_stock_options  \\\n",
       "METTS MARK                  0.0       1061827.0                 0.000000   \n",
       "BAXTER JOHN C               0.0       5634343.0                 0.628860   \n",
       "ELLIOTT STEVEN              0.0        211725.0                 0.732226   \n",
       "CORDES WILLIAM R            0.0             0.0                 0.627875   \n",
       "HANNON KEVIN P              0.0        288682.0                 0.866522   \n",
       "\n",
       "                  restricted_stock  restricted_stock_deferred  \\\n",
       "METTS MARK                1.000000                        0.0   \n",
       "BAXTER JOHN C             0.371140                        0.0   \n",
       "ELLIOTT STEVEN            0.267774                        0.0   \n",
       "CORDES WILLIAM R          0.372125                        0.0   \n",
       "HANNON KEVIN P            0.133478                        0.0   \n",
       "\n",
       "                  total_stock_value  from_poi_percent  to_poi_percent  \\\n",
       "METTS MARK                 585062.0          0.047088        0.034483   \n",
       "BAXTER JOHN C            10623258.0          0.000000        0.000000   \n",
       "ELLIOTT STEVEN            6678735.0          0.000000        0.000000   \n",
       "CORDES WILLIAM R          1038185.0          0.013089        0.000000   \n",
       "HANNON KEVIN P            6391065.0          0.030622        0.656250   \n",
       "\n",
       "                  shared_receipt_with_poi    poi  \n",
       "METTS MARK                          702.0  False  \n",
       "BAXTER JOHN C                         0.0  False  \n",
       "ELLIOTT STEVEN                        0.0  False  \n",
       "CORDES WILLIAM R                     58.0  False  \n",
       "HANNON KEVIN P                     1035.0   True  "
      ]
     },
     "execution_count": 48,
     "metadata": {},
     "output_type": "execute_result"
    }
   ],
   "source": [
    "enron_final.head()"
   ]
  },
  {
   "cell_type": "code",
   "execution_count": 49,
   "metadata": {},
   "outputs": [
    {
     "data": {
      "text/plain": [
       "143"
      ]
     },
     "execution_count": 49,
     "metadata": {},
     "output_type": "execute_result"
    }
   ],
   "source": [
    "len(enron_final)"
   ]
  },
  {
   "cell_type": "code",
   "execution_count": 50,
   "metadata": {},
   "outputs": [
    {
     "name": "stdout",
     "output_type": "stream",
     "text": [
      "<class 'pandas.core.frame.DataFrame'>\n",
      "Index: 143 entries, METTS MARK to GLISAN JR BEN F\n",
      "Data columns (total 18 columns):\n",
      "salary                       143 non-null float64\n",
      "bonus                        143 non-null float64\n",
      "long_term_incentive          143 non-null float64\n",
      "deferred_income              143 non-null float64\n",
      "deferral_payments            143 non-null float64\n",
      "loan_advances                143 non-null float64\n",
      "other                        143 non-null float64\n",
      "expenses                     143 non-null float64\n",
      "director_fees                143 non-null float64\n",
      "total_payments               143 non-null float64\n",
      "exercised_stock_options      143 non-null float64\n",
      "restricted_stock             143 non-null float64\n",
      "restricted_stock_deferred    143 non-null float64\n",
      "total_stock_value            143 non-null float64\n",
      "from_poi_percent             143 non-null float64\n",
      "to_poi_percent               143 non-null float64\n",
      "shared_receipt_with_poi      143 non-null float64\n",
      "poi                          143 non-null bool\n",
      "dtypes: bool(1), float64(17)\n",
      "memory usage: 20.2+ KB\n"
     ]
    }
   ],
   "source": [
    "enron_final.info()"
   ]
  },
  {
   "cell_type": "markdown",
   "metadata": {},
   "source": [
    "The final dataset contains 18 columns and 143 rows without missing values. I will use this to do futher analysis. "
   ]
  },
  {
   "cell_type": "code",
   "execution_count": 51,
   "metadata": {},
   "outputs": [],
   "source": [
    "enron_final.to_pickle('enron_final.pkl')"
   ]
  },
  {
   "cell_type": "markdown",
   "metadata": {},
   "source": [
    "## 2. Feature Selection and Optimization "
   ]
  },
  {
   "cell_type": "markdown",
   "metadata": {},
   "source": [
    "### 2.1 Feature Selection"
   ]
  },
  {
   "cell_type": "markdown",
   "metadata": {},
   "source": [
    "The final dataset contains 17 features, some of which are useless in predicting poi. So I need to select the most useful features. Here I will use univariate feature selection by computing the ANOVA p-values and selecting features whose p-values are less than 0.05."
   ]
  },
  {
   "cell_type": "code",
   "execution_count": 52,
   "metadata": {},
   "outputs": [],
   "source": [
    "features = enron_final.drop(labels=[\"poi\"], axis = 1)\n",
    "labels = enron_final['poi']"
   ]
  },
  {
   "cell_type": "code",
   "execution_count": 53,
   "metadata": {},
   "outputs": [],
   "source": [
    "from sklearn.feature_selection import SelectKBest, f_classif"
   ]
  },
  {
   "cell_type": "code",
   "execution_count": 54,
   "metadata": {},
   "outputs": [],
   "source": [
    "selector = SelectKBest(f_classif)\n",
    "selector.fit(features, labels)\n",
    "features_new = selector.transform(features)"
   ]
  },
  {
   "cell_type": "code",
   "execution_count": 55,
   "metadata": {},
   "outputs": [
    {
     "data": {
      "text/plain": [
       "1                       bonus\n",
       "5               loan_advances\n",
       "9              total_payments\n",
       "13          total_stock_value\n",
       "15             to_poi_percent\n",
       "16    shared_receipt_with_poi\n",
       "dtype: object"
      ]
     },
     "execution_count": 55,
     "metadata": {},
     "output_type": "execute_result"
    }
   ],
   "source": [
    "pd.Series(list(features))[pd.Series(selector.pvalues_) < 0.05]"
   ]
  },
  {
   "cell_type": "markdown",
   "metadata": {},
   "source": [
    "There are 6 features have p values less than 0.05. So I will let k = 6."
   ]
  },
  {
   "cell_type": "code",
   "execution_count": 62,
   "metadata": {},
   "outputs": [],
   "source": [
    "selector = SelectKBest(f_classif, k = 6)\n",
    "selector.fit(features, labels)\n",
    "features_new = selector.transform(features)"
   ]
  },
  {
   "cell_type": "code",
   "execution_count": 63,
   "metadata": {},
   "outputs": [
    {
     "data": {
      "text/plain": [
       "(143, 6)"
      ]
     },
     "execution_count": 63,
     "metadata": {},
     "output_type": "execute_result"
    }
   ],
   "source": [
    "features_new.shape"
   ]
  },
  {
   "cell_type": "code",
   "execution_count": 64,
   "metadata": {},
   "outputs": [
    {
     "data": {
      "text/plain": [
       "1                       bonus\n",
       "5               loan_advances\n",
       "9              total_payments\n",
       "13          total_stock_value\n",
       "15             to_poi_percent\n",
       "16    shared_receipt_with_poi\n",
       "dtype: object"
      ]
     },
     "execution_count": 64,
     "metadata": {},
     "output_type": "execute_result"
    }
   ],
   "source": [
    "pd.Series(list(features))[pd.Series(selector.get_support())]"
   ]
  },
  {
   "cell_type": "markdown",
   "metadata": {},
   "source": [
    "I selected these 6 features: 'bonus', 'loan_advances', 'total_payments', 'total_stock_value', 'to_poi_percent' and 'shared_receipt_with_poi'."
   ]
  },
  {
   "cell_type": "markdown",
   "metadata": {},
   "source": [
    "To measure the effect of self-created features, I will create a new feature set with 'from_poi_percent', though it is not significantly associated with poi."
   ]
  },
  {
   "cell_type": "code",
   "execution_count": 65,
   "metadata": {},
   "outputs": [],
   "source": [
    "selector = SelectKBest(f_classif, k = 7)\n",
    "selector.fit(features, labels)\n",
    "features_new_with_from = selector.transform(features)"
   ]
  },
  {
   "cell_type": "code",
   "execution_count": 66,
   "metadata": {},
   "outputs": [
    {
     "data": {
      "text/plain": [
       "1                       bonus\n",
       "5               loan_advances\n",
       "9              total_payments\n",
       "13          total_stock_value\n",
       "14           from_poi_percent\n",
       "15             to_poi_percent\n",
       "16    shared_receipt_with_poi\n",
       "dtype: object"
      ]
     },
     "execution_count": 66,
     "metadata": {},
     "output_type": "execute_result"
    }
   ],
   "source": [
    "pd.Series(list(features))[pd.Series(selector.get_support())]"
   ]
  },
  {
   "cell_type": "markdown",
   "metadata": {},
   "source": [
    "### 2.2 Feature Scaling"
   ]
  },
  {
   "cell_type": "markdown",
   "metadata": {},
   "source": [
    "Features here have different scale. Some algorithms like SVM do need feature scaling. I will use MinMaxScaler to scale features to [0,1]."
   ]
  },
  {
   "cell_type": "code",
   "execution_count": 68,
   "metadata": {},
   "outputs": [],
   "source": [
    "from sklearn.preprocessing import MinMaxScaler"
   ]
  },
  {
   "cell_type": "code",
   "execution_count": 70,
   "metadata": {},
   "outputs": [],
   "source": [
    "scaler = MinMaxScaler()\n",
    "scaler.fit(features_new)\n",
    "features_new_scaled = scaler.transform(features_new)"
   ]
  },
  {
   "cell_type": "code",
   "execution_count": 71,
   "metadata": {},
   "outputs": [],
   "source": [
    "scaler = MinMaxScaler()\n",
    "scaler.fit(features_new_with_from)\n",
    "features_new_with_from_scaled = scaler.transform(features_new_with_from)"
   ]
  },
  {
   "cell_type": "markdown",
   "metadata": {},
   "source": [
    "## 3. Model Selection and Evaluation"
   ]
  },
  {
   "cell_type": "markdown",
   "metadata": {},
   "source": [
    "Here I will use these three machine learning algorithms: Naive Bayes, SVM, and Decision Tree. I will use GridSearchCV to tune parameters and select best model. I will use 'recall' as the scoring method. Because the dataset has much more negative values (not poi) than positive values (poi). Therefore, the ability for classifiers to find all the positive values is the most important. I will use StratifiedShuffleSplit as the cross-validation generator, becuase: The poi is binary variable, we need to make sure all groups are randomly chosen and have both poi and non-poi after spliting"
   ]
  },
  {
   "cell_type": "code",
   "execution_count": 132,
   "metadata": {},
   "outputs": [],
   "source": [
    "from sklearn.model_selection import GridSearchCV\n",
    "from sklearn.naive_bayes import GaussianNB\n",
    "from sklearn.svm import SVC\n",
    "from sklearn.tree import DecisionTreeClassifier\n",
    "from sklearn.model_selection import cross_val_score\n",
    "from sklearn.model_selection import StratifiedShuffleSplit"
   ]
  },
  {
   "cell_type": "code",
   "execution_count": 122,
   "metadata": {},
   "outputs": [],
   "source": [
    "sss = StratifiedShuffleSplit(n_splits=5, random_state=42)"
   ]
  },
  {
   "cell_type": "code",
   "execution_count": 123,
   "metadata": {},
   "outputs": [
    {
     "name": "stdout",
     "output_type": "stream",
     "text": [
      "0.3\n"
     ]
    }
   ],
   "source": [
    "clf = GaussianNB()\n",
    "clf.fit(features_new_scaled, labels)\n",
    "\n",
    "best_gnb = clf\n",
    "print(cross_val_score(best_gnb, features_new_scaled, y = labels, cv=sss, scoring = 'recall').mean())"
   ]
  },
  {
   "cell_type": "markdown",
   "metadata": {},
   "source": [
    "The Naive Bayes method does not have parameters to be tuned. So I use cross_val_score to evaluate the performance and print the mean recall score of cross validation."
   ]
  },
  {
   "cell_type": "code",
   "execution_count": 126,
   "metadata": {},
   "outputs": [
    {
     "name": "stdout",
     "output_type": "stream",
     "text": [
      "0.5\n"
     ]
    }
   ],
   "source": [
    "parameters = {'kernel':('linear', 'rbf'),\n",
    "              'C': [1,10,100,1000,10000],\n",
    "             'gamma': [0.1, 1, 10, 100]}\n",
    "\n",
    "svc = SVC()\n",
    "clf = GridSearchCV(svc, parameters, cv=sss, scoring='recall', n_jobs=-1)\n",
    "clf.fit(features_new_scaled, labels)\n",
    "\n",
    "best_svc = clf.best_estimator_\n",
    "print(clf.best_score_ )"
   ]
  },
  {
   "cell_type": "code",
   "execution_count": 127,
   "metadata": {},
   "outputs": [
    {
     "name": "stdout",
     "output_type": "stream",
     "text": [
      "0.7\n"
     ]
    }
   ],
   "source": [
    "parameters = {'min_samples_split': [2, 3, 4, 5]}\n",
    "\n",
    "tree = DecisionTreeClassifier()\n",
    "clf = GridSearchCV(tree, parameters, cv=sss, scoring='recall', n_jobs=-1)\n",
    "clf.fit(features_new_scaled, labels)\n",
    "\n",
    "best_tree = clf.best_estimator_\n",
    "print(clf.best_score_ )"
   ]
  },
  {
   "cell_type": "markdown",
   "metadata": {},
   "source": [
    "The best socres of Naive Bayes, SVM, and Decision Tree are 0.3, 0.5 and 0.7 respectively. Here I will print all evaluation scores of the three classifiers:"
   ]
  },
  {
   "cell_type": "code",
   "execution_count": 128,
   "metadata": {},
   "outputs": [],
   "source": [
    "def print_all_score (classifier, feature = features_new_scaled):\n",
    "    scoring = ['accuracy', 'precision', 'recall', 'f1']\n",
    "    score_dict = {}\n",
    "    for score in scoring:\n",
    "        score_dict[score] = cross_val_score(\n",
    "            classifier, feature, y = labels, \n",
    "            cv=sss, scoring = score).mean()\n",
    "    return score_dict"
   ]
  },
  {
   "cell_type": "code",
   "execution_count": 129,
   "metadata": {},
   "outputs": [
    {
     "name": "stderr",
     "output_type": "stream",
     "text": [
      "E:\\Anaconda3\\lib\\site-packages\\sklearn\\metrics\\classification.py:1135: UndefinedMetricWarning: Precision is ill-defined and being set to 0.0 due to no predicted samples.\n",
      "  'precision', 'predicted', average, warn_for)\n",
      "E:\\Anaconda3\\lib\\site-packages\\sklearn\\metrics\\classification.py:1135: UndefinedMetricWarning: F-score is ill-defined and being set to 0.0 due to no predicted samples.\n",
      "  'precision', 'predicted', average, warn_for)\n"
     ]
    },
    {
     "data": {
      "text/plain": [
       "{'accuracy': 0.8666666666666668,\n",
       " 'f1': 0.3333333333333333,\n",
       " 'precision': 0.4,\n",
       " 'recall': 0.3}"
      ]
     },
     "execution_count": 129,
     "metadata": {},
     "output_type": "execute_result"
    }
   ],
   "source": [
    "print_all_score (best_gnb)"
   ]
  },
  {
   "cell_type": "code",
   "execution_count": 130,
   "metadata": {},
   "outputs": [
    {
     "name": "stderr",
     "output_type": "stream",
     "text": [
      "E:\\Anaconda3\\lib\\site-packages\\sklearn\\metrics\\classification.py:1135: UndefinedMetricWarning: Precision is ill-defined and being set to 0.0 due to no predicted samples.\n",
      "  'precision', 'predicted', average, warn_for)\n",
      "E:\\Anaconda3\\lib\\site-packages\\sklearn\\metrics\\classification.py:1135: UndefinedMetricWarning: F-score is ill-defined and being set to 0.0 due to no predicted samples.\n",
      "  'precision', 'predicted', average, warn_for)\n"
     ]
    },
    {
     "data": {
      "text/plain": [
       "{'accuracy': 0.8533333333333335,\n",
       " 'f1': 0.39333333333333337,\n",
       " 'precision': 0.3333333333333333,\n",
       " 'recall': 0.5}"
      ]
     },
     "execution_count": 130,
     "metadata": {},
     "output_type": "execute_result"
    }
   ],
   "source": [
    "print_all_score (best_svc)"
   ]
  },
  {
   "cell_type": "code",
   "execution_count": 131,
   "metadata": {},
   "outputs": [
    {
     "data": {
      "text/plain": [
       "{'accuracy': 0.9333333333333333,\n",
       " 'f1': 0.6933333333333334,\n",
       " 'precision': 0.9,\n",
       " 'recall': 0.6}"
      ]
     },
     "execution_count": 131,
     "metadata": {},
     "output_type": "execute_result"
    }
   ],
   "source": [
    "print_all_score (best_tree)"
   ]
  },
  {
   "cell_type": "markdown",
   "metadata": {},
   "source": [
    "As we can see, the 'best_tree' classifier generates the best result. So I will select best_tree as the final model."
   ]
  },
  {
   "cell_type": "code",
   "execution_count": 97,
   "metadata": {},
   "outputs": [
    {
     "data": {
      "text/plain": [
       "DecisionTreeClassifier(class_weight=None, criterion='gini', max_depth=None,\n",
       "            max_features=None, max_leaf_nodes=None,\n",
       "            min_impurity_decrease=0.0, min_impurity_split=None,\n",
       "            min_samples_leaf=1, min_samples_split=2,\n",
       "            min_weight_fraction_leaf=0.0, presort=False, random_state=None,\n",
       "            splitter='best')"
      ]
     },
     "execution_count": 97,
     "metadata": {},
     "output_type": "execute_result"
    }
   ],
   "source": [
    "best_tree"
   ]
  },
  {
   "cell_type": "markdown",
   "metadata": {},
   "source": [
    "### Supplement: Test for the Importance of 'from_poi_percent'"
   ]
  },
  {
   "cell_type": "code",
   "execution_count": 120,
   "metadata": {},
   "outputs": [
    {
     "name": "stderr",
     "output_type": "stream",
     "text": [
      "E:\\Anaconda3\\lib\\site-packages\\sklearn\\metrics\\classification.py:1135: UndefinedMetricWarning: Precision is ill-defined and being set to 0.0 due to no predicted samples.\n",
      "  'precision', 'predicted', average, warn_for)\n",
      "E:\\Anaconda3\\lib\\site-packages\\sklearn\\metrics\\classification.py:1135: UndefinedMetricWarning: F-score is ill-defined and being set to 0.0 due to no predicted samples.\n",
      "  'precision', 'predicted', average, warn_for)\n"
     ]
    },
    {
     "data": {
      "text/plain": [
       "{'accuracy': 0.9466666666666667,\n",
       " 'f1': 0.6266666666666667,\n",
       " 'precision': 0.7,\n",
       " 'recall': 0.8}"
      ]
     },
     "execution_count": 120,
     "metadata": {},
     "output_type": "execute_result"
    }
   ],
   "source": [
    "print_all_score(best_tree, features_new_with_from_scaled)"
   ]
  },
  {
   "cell_type": "markdown",
   "metadata": {},
   "source": [
    "As we can see, after adding self-defined 'from_poi_percent' to the final features. Recall rate of best_tree classifier increases 0.1! So I will add the 'from_poi_percent' to the final features."
   ]
  },
  {
   "cell_type": "markdown",
   "metadata": {},
   "source": [
    "## 4. Answers to Free-Response Questions  "
   ]
  },
  {
   "cell_type": "markdown",
   "metadata": {},
   "source": [
    "### 4.1 Summarize for us the goal of this project and how machine learning is useful in trying to accomplish it. As part of your answer, give some background on the dataset and how it can be used to answer the project question. Were there any outliers in the data when you got it, and how did you handle those? "
   ]
  },
  {
   "cell_type": "markdown",
   "metadata": {},
   "source": [
    "The goal of this project is to find suspects from all persons related with Enron. \n",
    "The dataset contains three classes of data: 1. The finance data, which contains total payments of each person received and compositions of payments. 2. The stocks data, which contains total stocks of each person and compositions of stocks. 3. The emails data, which contains the number of emails that each person sent and received, and how many of which are from pois. There are 146 data points in the dataset, 18 of them are pois. There are 20 features and 1 label(poi). There are many missing values and I imputed them using 0.\n",
    "There are three outliers. One is 'TOTAL', which is the total of all features. One is ''THE TRAVEL AGENCY IN THE PARK', which certainly is not a person. The last is 'LOCKHART EUGENE E', whose features are all missing. I deleted them at the very beginning of my project."
   ]
  },
  {
   "cell_type": "markdown",
   "metadata": {},
   "source": [
    "### 4.2\tWhat features did you end up using in your POI identifier, and what selection process did you use to pick them? Did you have to do any scaling? Why or why not? As part of the assignment, you should attempt to engineer your own feature that does not come readymade in the dataset explain what feature you tried to make, and the rationale behind it. (You do not necessarily have to use it in the final analysis, only engineer and test it.) In your feature selection step, if you used an algorithm like a decision tree, please also give the feature importances of the features that you use, and if you used an automated feature selection function like SelectKBest, please report the feature scores and reasons for your choice of parameter values."
   ]
  },
  {
   "cell_type": "markdown",
   "metadata": {},
   "source": [
    "I used these 7 features: 'bonus', 'loan_advances', 'total_payments', 'total_stock_value', 'to_poi_percent' , 'from_poi_percent' and 'shared_receipt_with_poi'. I selected them using ‘f_classif’ method which uses ANOVA F-value and p-value to evaluate the linear relation between features and labels. I selected these 6 because their p-values are less than 0.05, which means that they significantly associated with poi. I used SelectKBest method and let n = 6 to select them. After that, I tested whether adding 'from_poi_percent' to the final features will enhance the performance. The test result showed that it worked! So I add 'from_poi_percent' to the final features. \n",
    "I did feature scaling. Because features here have different scales. Some algorithms like SVM do need feature scaling.\n",
    "I created my own features: 'from_poi_percent' and 'to_poi_percent'. I did this because it is better to use the proportion of how many emails are from and to pois rather than exact numbers."
   ]
  },
  {
   "cell_type": "markdown",
   "metadata": {},
   "source": [
    "### 4.3\tWhat algorithm did you end up using? What other one(s) did you try? How did model performance differ between algorithms?"
   ]
  },
  {
   "cell_type": "markdown",
   "metadata": {},
   "source": [
    "I used Decision Tree in the end. I also tried Naïve Bayes and SVM. For the final question, please refer part 3 of my project."
   ]
  },
  {
   "cell_type": "markdown",
   "metadata": {},
   "source": [
    "### 4.4\tWhat does it mean to tune the parameters of an algorithm, and what can happen if you don’t do this well? How did you tune the parameters of your particular algorithm? (Some algorithms do not have parameters that you need to tune if this is the case for the one you picked, identify and briefly explain how you would have done it for the model that was not your final choice or a different model that does utilize parameter tuning, e.g. a decision tree classifier). "
   ]
  },
  {
   "cell_type": "markdown",
   "metadata": {},
   "source": [
    "Tuning parameters can make algorithms fit your data more. If you don’t do that, default parameters will be used. The performance and scores will be bad. \n",
    "I used ‘GridSearchCV’ method to tune parameters. I have tuned 'C', 'kernel' and 'gamma' for SVM and 'min_samples_split' for Decision Tree. I did not tune any parameters for Naïve Bayes, because there are nothings to be tuned."
   ]
  },
  {
   "cell_type": "markdown",
   "metadata": {},
   "source": [
    "### 4.5 What is validation, and what’s a classic mistake you can make if you do it wrong? How did you validate your analysis? "
   ]
  },
  {
   "cell_type": "markdown",
   "metadata": {},
   "source": [
    "Cross validation is dividing datasets to different training and testing datasets and doing cross validation using them. \n",
    "The classic mistake you can make if you do it wrong is overfitting. \n",
    "I used StratifiedShuffleSplit as the cross-validation generator, becuase: The poi is binary variable, we need to make sure all groups are randomly chosen and have both poi and non-poi after spliting . And I let n_splits=5, which means there will be 5-fold cross validation. Then I assigned this to sss.\n",
    "Finally, I used ‘GridSearchCV’ and ‘cross_val_score’ methods and let cv = sss."
   ]
  },
  {
   "cell_type": "markdown",
   "metadata": {},
   "source": [
    "### 4.6 Give at least 2 evaluation metrics and your average performance for each of them. Explain an interpretation of your metrics that says something humanunderstandable about your algorithm’s performance. "
   ]
  },
  {
   "cell_type": "markdown",
   "metadata": {},
   "source": [
    "I used 'accuracy', 'precision', 'recall' and 'f1' to evaluate the average performance of my models. \n",
    "The accuracy represents the ability of the classifier to find right predictions. The precision represents the ability of the classifier not to label as positive a sample that is negative. The recall represents he ability of the classifier to find all the positive samples. The f1 represents weighted average of the precision and recall. \n",
    "The scores of my final classifier are: \n",
    "{'accuracy': 0.9466666666666667,\n",
    " 'f1': 0.6933333333333332,\n",
    " 'precision': 0.7333333333333333,\n",
    " 'recall': 0.8}"
   ]
  },
  {
   "cell_type": "markdown",
   "metadata": {},
   "source": [
    "## 5. Test"
   ]
  },
  {
   "cell_type": "markdown",
   "metadata": {},
   "source": [
    "I recoded your tester.py to make sure it suits my work flow and Python 3.6 and scikit-learn v0.20.0."
   ]
  },
  {
   "cell_type": "code",
   "execution_count": 133,
   "metadata": {},
   "outputs": [],
   "source": [
    "PERF_FORMAT_STRING = \"\\\n",
    "\\tAccuracy: {:>0.{display_precision}f}\\tPrecision: {:>0.{display_precision}f}\\t\\\n",
    "Recall: {:>0.{display_precision}f}\\tF1: {:>0.{display_precision}f}\\tF2: {:>0.{display_precision}f}\"\n",
    "RESULTS_FORMAT_STRING = \"\\tTotal predictions: {:4d}\\tTrue positives: {:4d}\\tFalse positives: {:4d}\\\n",
    "\\tFalse negatives: {:4d}\\tTrue negatives: {:4d}\"\n",
    "\n",
    "def test_classifier(clf, features, labels, folds = 1000):\n",
    "    cv = StratifiedShuffleSplit(n_splits = folds, random_state = 42)\n",
    "    true_negatives = 0\n",
    "    false_negatives = 0\n",
    "    true_positives = 0\n",
    "    false_positives = 0\n",
    "    for train_idx, test_idx in cv.split(features, labels):\n",
    "        features_train = []\n",
    "        features_test  = []\n",
    "        labels_train   = []\n",
    "        labels_test    = []\n",
    "        for ii in train_idx:\n",
    "            features_train.append( features[ii] )\n",
    "            labels_train.append( labels[ii] )\n",
    "        for jj in test_idx:\n",
    "            features_test.append( features[jj] )\n",
    "            labels_test.append( labels[jj] )\n",
    "        \n",
    "        ### fit the classifier using training set, and test on test set\n",
    "        clf.fit(features_train, labels_train)\n",
    "        predictions = clf.predict(features_test)\n",
    "        for prediction, truth in zip(predictions, labels_test):\n",
    "            if prediction == 0 and truth == 0:\n",
    "                true_negatives += 1\n",
    "            elif prediction == 0 and truth == 1:\n",
    "                false_negatives += 1\n",
    "            elif prediction == 1 and truth == 0:\n",
    "                false_positives += 1\n",
    "            elif prediction == 1 and truth == 1:\n",
    "                true_positives += 1\n",
    "            else:\n",
    "                print (\"Warning: Found a predicted label not == 0 or 1.\")\n",
    "                print (\"All predictions should take value 0 or 1.\")\n",
    "                print (\"Evaluating performance for processed predictions:\")\n",
    "                break\n",
    "    try:\n",
    "        total_predictions = true_negatives + false_negatives + false_positives + true_positives\n",
    "        accuracy = 1.0*(true_positives + true_negatives)/total_predictions\n",
    "        precision = 1.0*true_positives/(true_positives+false_positives)\n",
    "        recall = 1.0*true_positives/(true_positives+false_negatives)\n",
    "        f1 = 2.0 * true_positives/(2*true_positives + false_positives+false_negatives)\n",
    "        f2 = (1+2.0*2.0) * precision*recall/(4*precision + recall)\n",
    "        print (clf)\n",
    "        print (PERF_FORMAT_STRING.format(accuracy, precision, recall, f1, f2, display_precision = 5))\n",
    "        print (RESULTS_FORMAT_STRING.format(total_predictions, true_positives, false_positives, false_negatives, true_negatives))\n",
    "        print (\"\")\n",
    "    except:\n",
    "        print (\"Got a divide by zero when trying out:\", clf)\n",
    "        print (\"Precision or recall may be undefined due to a lack of true positive predicitons.\")"
   ]
  },
  {
   "cell_type": "code",
   "execution_count": 134,
   "metadata": {},
   "outputs": [
    {
     "name": "stdout",
     "output_type": "stream",
     "text": [
      "DecisionTreeClassifier(class_weight=None, criterion='gini', max_depth=None,\n",
      "            max_features=None, max_leaf_nodes=None,\n",
      "            min_impurity_decrease=0.0, min_impurity_split=None,\n",
      "            min_samples_leaf=1, min_samples_split=3,\n",
      "            min_weight_fraction_leaf=0.0, presort=False, random_state=None,\n",
      "            splitter='best')\n",
      "\tAccuracy: 0.84833\tPrecision: 0.41203\tRecall: 0.32200\tF1: 0.36149\tF2: 0.33671\n",
      "\tTotal predictions: 15000\tTrue positives:  644\tFalse positives:  919\tFalse negatives: 1356\tTrue negatives: 12081\n",
      "\n"
     ]
    }
   ],
   "source": [
    "test_classifier(best_tree, features_new_with_from_scaled, labels, folds = 1000)"
   ]
  }
 ],
 "metadata": {
  "kernelspec": {
   "display_name": "Python 3",
   "language": "python",
   "name": "python3"
  },
  "language_info": {
   "codemirror_mode": {
    "name": "ipython",
    "version": 3
   },
   "file_extension": ".py",
   "mimetype": "text/x-python",
   "name": "python",
   "nbconvert_exporter": "python",
   "pygments_lexer": "ipython3",
   "version": "3.6.4"
  }
 },
 "nbformat": 4,
 "nbformat_minor": 2
}
