{
 "cells": [
  {
   "cell_type": "markdown",
   "metadata": {},
   "source": [
    "# Analysis of Apple App Store Strategy Games  "
   ]
  },
  {
   "cell_type": "markdown",
   "metadata": {},
   "source": [
    "## 1. Background (Business Understanding)"
   ]
  },
  {
   "cell_type": "markdown",
   "metadata": {},
   "source": [
    "The mobile games industry is developing so fast, with companies spending vast amounts of money on the development and marketing of these games to an equally large market. According to the [newzoo](https://newzoo.com/insights/articles/the-global-games-market-will-generate-152-1-billion-in-2019-as-the-u-s-overtakes-china-as-the-biggest-market/), mobile gaming (smartphone and tablet) is largest segment of gaming market in 2019, which is 68.5 billion dollars (45% of the global games market). Of this, 54.9 billion dollars will come from smartphone games.\n",
    "\n",
    "The data used here includes 17007 strategy games on the Apple App Store. It was collected on the 3rd of August 2019, using the iTunes API and the App Store sitemap, by the kaggle user Tristan. I downloaded it from the [kaggle datasets](https://www.kaggle.com/tristan581/17k-apple-app-store-strategy-games).\n",
    "\n",
    "\n",
    "Using this data set, I will try to find what makes a popular strategy game."
   ]
  },
  {
   "cell_type": "markdown",
   "metadata": {},
   "source": [
    "## 2. The summary of the data (Data Understanding)"
   ]
  },
  {
   "cell_type": "code",
   "execution_count": 1,
   "metadata": {},
   "outputs": [],
   "source": [
    "import pandas as pd\n",
    "from wordcloud import WordCloud\n",
    "import matplotlib.pyplot as plt\n",
    "import seaborn as sns\n",
    "from datetime import timedelta, date\n",
    "import numpy as np\n",
    "from scipy.stats import chi2_contingency"
   ]
  },
  {
   "cell_type": "code",
   "execution_count": 2,
   "metadata": {},
   "outputs": [],
   "source": [
    "data = pd.read_csv('E:\\\\files\\\\data scientist\\\\blog\\\\data\\\\17k-apple-app-store-strategy-games\\\\appstore_games.csv')"
   ]
  },
  {
   "cell_type": "markdown",
   "metadata": {},
   "source": [
    "The first 5 rows of the data:"
   ]
  },
  {
   "cell_type": "code",
   "execution_count": 3,
   "metadata": {},
   "outputs": [
    {
     "data": {
      "text/html": [
       "<div>\n",
       "<style scoped>\n",
       "    .dataframe tbody tr th:only-of-type {\n",
       "        vertical-align: middle;\n",
       "    }\n",
       "\n",
       "    .dataframe tbody tr th {\n",
       "        vertical-align: top;\n",
       "    }\n",
       "\n",
       "    .dataframe thead th {\n",
       "        text-align: right;\n",
       "    }\n",
       "</style>\n",
       "<table border=\"1\" class=\"dataframe\">\n",
       "  <thead>\n",
       "    <tr style=\"text-align: right;\">\n",
       "      <th></th>\n",
       "      <th>URL</th>\n",
       "      <th>ID</th>\n",
       "      <th>Name</th>\n",
       "      <th>Subtitle</th>\n",
       "      <th>Icon URL</th>\n",
       "      <th>Average User Rating</th>\n",
       "      <th>User Rating Count</th>\n",
       "      <th>Price</th>\n",
       "      <th>In-app Purchases</th>\n",
       "      <th>Description</th>\n",
       "      <th>Developer</th>\n",
       "      <th>Age Rating</th>\n",
       "      <th>Languages</th>\n",
       "      <th>Size</th>\n",
       "      <th>Primary Genre</th>\n",
       "      <th>Genres</th>\n",
       "      <th>Original Release Date</th>\n",
       "      <th>Current Version Release Date</th>\n",
       "    </tr>\n",
       "  </thead>\n",
       "  <tbody>\n",
       "    <tr>\n",
       "      <th>0</th>\n",
       "      <td>https://apps.apple.com/us/app/sudoku/id284921427</td>\n",
       "      <td>284921427</td>\n",
       "      <td>Sudoku</td>\n",
       "      <td>NaN</td>\n",
       "      <td>https://is2-ssl.mzstatic.com/image/thumb/Purpl...</td>\n",
       "      <td>4.0</td>\n",
       "      <td>3553.0</td>\n",
       "      <td>2.99</td>\n",
       "      <td>NaN</td>\n",
       "      <td>Join over 21,000,000 of our fans and download ...</td>\n",
       "      <td>Mighty Mighty Good Games</td>\n",
       "      <td>4+</td>\n",
       "      <td>DA, NL, EN, FI, FR, DE, IT, JA, KO, NB, PL, PT...</td>\n",
       "      <td>15853568.0</td>\n",
       "      <td>Games</td>\n",
       "      <td>Games, Strategy, Puzzle</td>\n",
       "      <td>11/07/2008</td>\n",
       "      <td>30/05/2017</td>\n",
       "    </tr>\n",
       "    <tr>\n",
       "      <th>1</th>\n",
       "      <td>https://apps.apple.com/us/app/reversi/id284926400</td>\n",
       "      <td>284926400</td>\n",
       "      <td>Reversi</td>\n",
       "      <td>NaN</td>\n",
       "      <td>https://is4-ssl.mzstatic.com/image/thumb/Purpl...</td>\n",
       "      <td>3.5</td>\n",
       "      <td>284.0</td>\n",
       "      <td>1.99</td>\n",
       "      <td>NaN</td>\n",
       "      <td>The classic game of Reversi, also known as Oth...</td>\n",
       "      <td>Kiss The Machine</td>\n",
       "      <td>4+</td>\n",
       "      <td>EN</td>\n",
       "      <td>12328960.0</td>\n",
       "      <td>Games</td>\n",
       "      <td>Games, Strategy, Board</td>\n",
       "      <td>11/07/2008</td>\n",
       "      <td>17/05/2018</td>\n",
       "    </tr>\n",
       "    <tr>\n",
       "      <th>2</th>\n",
       "      <td>https://apps.apple.com/us/app/morocco/id284946595</td>\n",
       "      <td>284946595</td>\n",
       "      <td>Morocco</td>\n",
       "      <td>NaN</td>\n",
       "      <td>https://is5-ssl.mzstatic.com/image/thumb/Purpl...</td>\n",
       "      <td>3.0</td>\n",
       "      <td>8376.0</td>\n",
       "      <td>0.00</td>\n",
       "      <td>NaN</td>\n",
       "      <td>Play the classic strategy game Othello (also k...</td>\n",
       "      <td>Bayou Games</td>\n",
       "      <td>4+</td>\n",
       "      <td>EN</td>\n",
       "      <td>674816.0</td>\n",
       "      <td>Games</td>\n",
       "      <td>Games, Board, Strategy</td>\n",
       "      <td>11/07/2008</td>\n",
       "      <td>5/09/2017</td>\n",
       "    </tr>\n",
       "    <tr>\n",
       "      <th>3</th>\n",
       "      <td>https://apps.apple.com/us/app/sudoku-free/id28...</td>\n",
       "      <td>285755462</td>\n",
       "      <td>Sudoku (Free)</td>\n",
       "      <td>NaN</td>\n",
       "      <td>https://is3-ssl.mzstatic.com/image/thumb/Purpl...</td>\n",
       "      <td>3.5</td>\n",
       "      <td>190394.0</td>\n",
       "      <td>0.00</td>\n",
       "      <td>NaN</td>\n",
       "      <td>Top 100 free app for over a year.\\nRated \"Best...</td>\n",
       "      <td>Mighty Mighty Good Games</td>\n",
       "      <td>4+</td>\n",
       "      <td>DA, NL, EN, FI, FR, DE, IT, JA, KO, NB, PL, PT...</td>\n",
       "      <td>21552128.0</td>\n",
       "      <td>Games</td>\n",
       "      <td>Games, Strategy, Puzzle</td>\n",
       "      <td>23/07/2008</td>\n",
       "      <td>30/05/2017</td>\n",
       "    </tr>\n",
       "    <tr>\n",
       "      <th>4</th>\n",
       "      <td>https://apps.apple.com/us/app/senet-deluxe/id2...</td>\n",
       "      <td>285831220</td>\n",
       "      <td>Senet Deluxe</td>\n",
       "      <td>NaN</td>\n",
       "      <td>https://is1-ssl.mzstatic.com/image/thumb/Purpl...</td>\n",
       "      <td>3.5</td>\n",
       "      <td>28.0</td>\n",
       "      <td>2.99</td>\n",
       "      <td>NaN</td>\n",
       "      <td>\"Senet Deluxe - The Ancient Game of Life and A...</td>\n",
       "      <td>RoGame Software</td>\n",
       "      <td>4+</td>\n",
       "      <td>DA, NL, EN, FR, DE, EL, IT, JA, KO, NO, PT, RU...</td>\n",
       "      <td>34689024.0</td>\n",
       "      <td>Games</td>\n",
       "      <td>Games, Strategy, Board, Education</td>\n",
       "      <td>18/07/2008</td>\n",
       "      <td>22/07/2018</td>\n",
       "    </tr>\n",
       "  </tbody>\n",
       "</table>\n",
       "</div>"
      ],
      "text/plain": [
       "                                                 URL         ID  \\\n",
       "0   https://apps.apple.com/us/app/sudoku/id284921427  284921427   \n",
       "1  https://apps.apple.com/us/app/reversi/id284926400  284926400   \n",
       "2  https://apps.apple.com/us/app/morocco/id284946595  284946595   \n",
       "3  https://apps.apple.com/us/app/sudoku-free/id28...  285755462   \n",
       "4  https://apps.apple.com/us/app/senet-deluxe/id2...  285831220   \n",
       "\n",
       "            Name Subtitle                                           Icon URL  \\\n",
       "0         Sudoku      NaN  https://is2-ssl.mzstatic.com/image/thumb/Purpl...   \n",
       "1        Reversi      NaN  https://is4-ssl.mzstatic.com/image/thumb/Purpl...   \n",
       "2        Morocco      NaN  https://is5-ssl.mzstatic.com/image/thumb/Purpl...   \n",
       "3  Sudoku (Free)      NaN  https://is3-ssl.mzstatic.com/image/thumb/Purpl...   \n",
       "4   Senet Deluxe      NaN  https://is1-ssl.mzstatic.com/image/thumb/Purpl...   \n",
       "\n",
       "   Average User Rating  User Rating Count  Price In-app Purchases  \\\n",
       "0                  4.0             3553.0   2.99              NaN   \n",
       "1                  3.5              284.0   1.99              NaN   \n",
       "2                  3.0             8376.0   0.00              NaN   \n",
       "3                  3.5           190394.0   0.00              NaN   \n",
       "4                  3.5               28.0   2.99              NaN   \n",
       "\n",
       "                                         Description  \\\n",
       "0  Join over 21,000,000 of our fans and download ...   \n",
       "1  The classic game of Reversi, also known as Oth...   \n",
       "2  Play the classic strategy game Othello (also k...   \n",
       "3  Top 100 free app for over a year.\\nRated \"Best...   \n",
       "4  \"Senet Deluxe - The Ancient Game of Life and A...   \n",
       "\n",
       "                  Developer Age Rating  \\\n",
       "0  Mighty Mighty Good Games         4+   \n",
       "1          Kiss The Machine         4+   \n",
       "2               Bayou Games         4+   \n",
       "3  Mighty Mighty Good Games         4+   \n",
       "4           RoGame Software         4+   \n",
       "\n",
       "                                           Languages        Size  \\\n",
       "0  DA, NL, EN, FI, FR, DE, IT, JA, KO, NB, PL, PT...  15853568.0   \n",
       "1                                                 EN  12328960.0   \n",
       "2                                                 EN    674816.0   \n",
       "3  DA, NL, EN, FI, FR, DE, IT, JA, KO, NB, PL, PT...  21552128.0   \n",
       "4  DA, NL, EN, FR, DE, EL, IT, JA, KO, NO, PT, RU...  34689024.0   \n",
       "\n",
       "  Primary Genre                             Genres Original Release Date  \\\n",
       "0         Games            Games, Strategy, Puzzle            11/07/2008   \n",
       "1         Games             Games, Strategy, Board            11/07/2008   \n",
       "2         Games             Games, Board, Strategy            11/07/2008   \n",
       "3         Games            Games, Strategy, Puzzle            23/07/2008   \n",
       "4         Games  Games, Strategy, Board, Education            18/07/2008   \n",
       "\n",
       "  Current Version Release Date  \n",
       "0                   30/05/2017  \n",
       "1                   17/05/2018  \n",
       "2                    5/09/2017  \n",
       "3                   30/05/2017  \n",
       "4                   22/07/2018  "
      ]
     },
     "execution_count": 3,
     "metadata": {},
     "output_type": "execute_result"
    }
   ],
   "source": [
    "data.head()"
   ]
  },
  {
   "cell_type": "markdown",
   "metadata": {},
   "source": [
    "The data has 18 colums (listed below). "
   ]
  },
  {
   "cell_type": "markdown",
   "metadata": {},
   "source": [
    "| Columns | Type | Meaning |\n",
    "| --- | --- | --- |\n",
    "| URL | Text | The URL of the game |\n",
    "| ID | Int | The assigned ID |\n",
    "| Name | Text | The name of the game |\n",
    "| Subtitle | Text | The secondary text under the name |\n",
    "| Icon URL | Text | The URL of the game icon|\n",
    "| Average User Rating | Float | Average user rating rounded to nearest 0.5, requires at least 5 ratings|\n",
    "| User Rating Count | Int | Number of ratings internationally, null means it is below 5|\n",
    "| Price | Float | Price in USD |\n",
    "| In-app Purchases | Float | Prices of available in-app purchases|\n",
    "| Description | Text | App description |\n",
    "| Developer | Text | App developer |\n",
    "| Age Rating | Text | Either 4+, 9+, 12+ or 17+ |\n",
    "| Languages | Text | ISO2A language codes |\n",
    "| Size | Int | Size of the app in bytes |\n",
    "| Primary Genre | Text | The main genre |\n",
    "| Genres| Text | Genres of the app |\n",
    "| Original Release Date| Date | When it was released |\n",
    "| Current Version Release Date| Date | When it was last updated |"
   ]
  },
  {
   "cell_type": "markdown",
   "metadata": {},
   "source": [
    "## 3. Data Preparation"
   ]
  },
  {
   "cell_type": "markdown",
   "metadata": {},
   "source": [
    "First, the URL, ID, Description and Icon URL will be removed from this analysis."
   ]
  },
  {
   "cell_type": "code",
   "execution_count": 4,
   "metadata": {},
   "outputs": [],
   "source": [
    "data = data.drop(columns=['URL', 'ID', 'Icon URL', 'Description'])"
   ]
  },
  {
   "cell_type": "markdown",
   "metadata": {},
   "source": [
    "Then, check missing values of the dataset:"
   ]
  },
  {
   "cell_type": "code",
   "execution_count": 5,
   "metadata": {},
   "outputs": [
    {
     "data": {
      "text/plain": [
       "Name                                0\n",
       "Subtitle                        11746\n",
       "Average User Rating              9446\n",
       "User Rating Count                9446\n",
       "Price                              24\n",
       "In-app Purchases                 9324\n",
       "Developer                           0\n",
       "Age Rating                          0\n",
       "Languages                          60\n",
       "Size                                1\n",
       "Primary Genre                       0\n",
       "Genres                              0\n",
       "Original Release Date               0\n",
       "Current Version Release Date        0\n",
       "dtype: int64"
      ]
     },
     "execution_count": 5,
     "metadata": {},
     "output_type": "execute_result"
    }
   ],
   "source": [
    "data.isna().sum()"
   ]
  },
  {
   "cell_type": "markdown",
   "metadata": {},
   "source": [
    "Check the proportion of missing:"
   ]
  },
  {
   "cell_type": "code",
   "execution_count": 6,
   "metadata": {},
   "outputs": [
    {
     "data": {
      "text/plain": [
       "Name                            0.000000\n",
       "Subtitle                        0.690657\n",
       "Average User Rating             0.555418\n",
       "User Rating Count               0.555418\n",
       "Price                           0.001411\n",
       "In-app Purchases                0.548245\n",
       "Developer                       0.000000\n",
       "Age Rating                      0.000000\n",
       "Languages                       0.003528\n",
       "Size                            0.000059\n",
       "Primary Genre                   0.000000\n",
       "Genres                          0.000000\n",
       "Original Release Date           0.000000\n",
       "Current Version Release Date    0.000000\n",
       "dtype: float64"
      ]
     },
     "execution_count": 6,
     "metadata": {},
     "output_type": "execute_result"
    }
   ],
   "source": [
    "data.isna().sum()/len(data)"
   ]
  },
  {
   "cell_type": "markdown",
   "metadata": {},
   "source": [
    "About 69.0% of Subtitle are missing, which means that 69.0% of games do not have subtitles. 55.5% of Average User Rating and User Rating Count are missing, meaning that 55.5% of games have User Rating Count below 5. 54.8% of games do not have any in-app Purchases.\n",
    "\n",
    "In this analysis, I will analyze what makes a popular strategy game. So I will only use records with valid average user rating and user rating count larger than 5."
   ]
  },
  {
   "cell_type": "code",
   "execution_count": 7,
   "metadata": {
    "scrolled": true
   },
   "outputs": [],
   "source": [
    "data_final = data[data['Average User Rating'].notna()].copy()"
   ]
  },
  {
   "cell_type": "markdown",
   "metadata": {},
   "source": [
    "Check missings again:"
   ]
  },
  {
   "cell_type": "code",
   "execution_count": 8,
   "metadata": {},
   "outputs": [
    {
     "data": {
      "text/plain": [
       "Name                               0\n",
       "Subtitle                        4837\n",
       "Average User Rating                0\n",
       "User Rating Count                  0\n",
       "Price                              0\n",
       "In-app Purchases                2927\n",
       "Developer                          0\n",
       "Age Rating                         0\n",
       "Languages                         24\n",
       "Size                               0\n",
       "Primary Genre                      0\n",
       "Genres                             0\n",
       "Original Release Date              0\n",
       "Current Version Release Date       0\n",
       "dtype: int64"
      ]
     },
     "execution_count": 8,
     "metadata": {},
     "output_type": "execute_result"
    }
   ],
   "source": [
    "data_final.isna().sum()"
   ]
  },
  {
   "cell_type": "markdown",
   "metadata": {},
   "source": [
    "There are still 24 missings in the size variable, but it is OK."
   ]
  },
  {
   "cell_type": "markdown",
   "metadata": {},
   "source": [
    "As the data was collected on the 3rd of August 2019, any records with Original Release Date or Current Version Release Date later than that day will be regarded as outliers and be removed:"
   ]
  },
  {
   "cell_type": "code",
   "execution_count": 9,
   "metadata": {},
   "outputs": [],
   "source": [
    "data_final['Original Release Date'] = pd.to_datetime(data_final['Original Release Date'])\n",
    "data_final['Current Version Release Date'] = pd.to_datetime(data_final['Current Version Release Date'])"
   ]
  },
  {
   "cell_type": "code",
   "execution_count": 10,
   "metadata": {},
   "outputs": [],
   "source": [
    "data_final = data_final[(data_final['Original Release Date'].dt.date <= date(2019, 8, 3)) & (data_final['Current Version Release Date'].dt.date <= date(2019, 8, 3))]"
   ]
  },
  {
   "cell_type": "code",
   "execution_count": 11,
   "metadata": {},
   "outputs": [
    {
     "data": {
      "text/plain": [
       "(7228, 14)"
      ]
     },
     "execution_count": 11,
     "metadata": {},
     "output_type": "execute_result"
    }
   ],
   "source": [
    "data_final.shape"
   ]
  },
  {
   "cell_type": "markdown",
   "metadata": {},
   "source": [
    "There are 7228 records and 14 variables in the fianl dataset."
   ]
  },
  {
   "cell_type": "markdown",
   "metadata": {},
   "source": [
    "## 4. What makes a popular strategy game? (Modeling and Evaluation)"
   ]
  },
  {
   "cell_type": "markdown",
   "metadata": {},
   "source": [
    "### 4.1 The parameter of popularity"
   ]
  },
  {
   "cell_type": "markdown",
   "metadata": {},
   "source": [
    "What makes a popular strategy game? To answer this question, we need to define a parameter of popularity. The download count will be the best choice. But the data I have did not contain the download count. We can use the 'User Rating Count' in the dataset as the estimator of popularity. \n",
    "\n",
    "However, the User Rating Count is not so comparable between games. Different games have differnet release date and life period. Games which released earlier had more time to accumulate more rating counts than newly-released games. So, It is not fair to compare the User Rating Count between old and new games.\n",
    "\n",
    "To make User Rating Count comparable, I made a new variable called 'User Rating Count per Day'. It is calculated as:\n",
    "\n",
    "**Days from Release = Cuerrent Date - Original Release Date (Cuerrent Date is 3rd August 2019)**\n",
    "\n",
    "\n",
    "**User Rating Count per Day = User Rating Count / Days from Release**\n"
   ]
  },
  {
   "cell_type": "code",
   "execution_count": 12,
   "metadata": {
    "scrolled": true
   },
   "outputs": [],
   "source": [
    "data_final['Days from Release'] = (date(2019, 8, 3) - data_final['Original Release Date'].dt.date).dt.days\n",
    "data_final['Days from Release'] = data_final['Days from Release'].apply(lambda x: 1 if x <= 0 else x)"
   ]
  },
  {
   "cell_type": "code",
   "execution_count": 13,
   "metadata": {
    "scrolled": true
   },
   "outputs": [],
   "source": [
    "data_final['User Rating Count per Day'] = data_final['User Rating Count']/data_final['Days from Release']"
   ]
  },
  {
   "cell_type": "markdown",
   "metadata": {},
   "source": [
    "Plot the distribution of User Rating Count per Day:"
   ]
  },
  {
   "cell_type": "code",
   "execution_count": 14,
   "metadata": {},
   "outputs": [
    {
     "data": {
      "text/plain": [
       "<matplotlib.axes._subplots.AxesSubplot at 0x1fb2123c208>"
      ]
     },
     "execution_count": 14,
     "metadata": {},
     "output_type": "execute_result"
    },
    {
     "data": {
      "image/png": "[encoded data removed]",
      "text/plain": [
       "<Figure size 432x288 with 1 Axes>"
      ]
     },
     "metadata": {
      "needs_background": "light"
     },
     "output_type": "display_data"
    }
   ],
   "source": [
    "sns.distplot(data_final['User Rating Count per Day'])"
   ]
  },
  {
   "cell_type": "markdown",
   "metadata": {},
   "source": [
    "The distribution is highly positively skewed: Most of the games have the User Rating Count per Day nearly 0. To know more about the distribution, check some statistics:"
   ]
  },
  {
   "cell_type": "code",
   "execution_count": 15,
   "metadata": {},
   "outputs": [
    {
     "data": {
      "text/plain": [
       "count    7228.000000\n",
       "mean        3.477717\n",
       "std        50.573804\n",
       "min         0.001394\n",
       "25%         0.010283\n",
       "50%         0.040541\n",
       "75%         0.256975\n",
       "max      2972.500000\n",
       "Name: User Rating Count per Day, dtype: float64"
      ]
     },
     "execution_count": 15,
     "metadata": {},
     "output_type": "execute_result"
    }
   ],
   "source": [
    "data_final['User Rating Count per Day'].describe()"
   ]
  },
  {
   "cell_type": "code",
   "execution_count": 16,
   "metadata": {},
   "outputs": [
    {
     "data": {
      "text/plain": [
       "2.0"
      ]
     },
     "execution_count": 16,
     "metadata": {},
     "output_type": "execute_result"
    }
   ],
   "source": [
    "data_final['User Rating Count per Day'].quantile(0.90)"
   ]
  },
  {
   "cell_type": "markdown",
   "metadata": {},
   "source": [
    "We can see that the max is 2972.5, but the 75% quantile is 0.2 and 90% quantile is only 2. This means that 90% of the game has less than 2 persons make reviews per day! We can know that the rule of moblie trategy game market is **'winner takes all':** A few top 'winner' games attracted most of the users. Most of games are 'losers', whose user groups are small. \n",
    "\n",
    "Next, I label the top 10% of games as 'winner' and the remaining 90% as 'loser'. I will analyze the differnece between the 'winner' group and the 'loser' group and try to find what makes a popular strategy game."
   ]
  },
  {
   "cell_type": "code",
   "execution_count": 17,
   "metadata": {},
   "outputs": [],
   "source": [
    "data_final['Winner or Loser'] = data_final['User Rating Count per Day'].apply(lambda x: 'winner' if x > 2 else 'loser')"
   ]
  },
  {
   "cell_type": "markdown",
   "metadata": {},
   "source": [
    "### 4.2 Which kind of charging mode associated with popularity?"
   ]
  },
  {
   "cell_type": "markdown",
   "metadata": {},
   "source": [
    "There are 4 ways for a mobile game to charge and make profits:\n",
    "\n",
    "1. Free download, with in-app purchase (Make profits on in-app purchase only).\n",
    "2. Free download, without in-app purchase (Probably make profits on advertising).\n",
    "3. Charge for download, with in-app purchase (Make profits on both paid download and in-app purchase).\n",
    "4. Charge for download, without in-app purchase (Make profits on paid download only).\n",
    "\n",
    "Which one is the best mode to make a popular game?"
   ]
  },
  {
   "cell_type": "markdown",
   "metadata": {},
   "source": [
    "First, labels of charging modes should be created:"
   ]
  },
  {
   "cell_type": "code",
   "execution_count": 18,
   "metadata": {
    "scrolled": true
   },
   "outputs": [],
   "source": [
    "data_final['Charging Mode'] = 'Free download, with IAP'\n",
    "data_final.loc[(data_final['Price'] == 0) & (data_final['In-app Purchases'].notna()), ['Charging Mode']] = 'Free download, with IAP'\n",
    "data_final.loc[(data_final['Price'] == 0) & (data_final['In-app Purchases'].isna()), ['Charging Mode']] = 'Free download, without IAP'\n",
    "data_final.loc[(data_final['Price'] > 0) & (data_final['In-app Purchases'].notna()), ['Charging Mode']] = 'Paid download, with IAP'\n",
    "data_final.loc[(data_final['Price'] > 0) & (data_final['In-app Purchases'].isna()), ['Charging Mode']] = 'Paid download, without IAP'"
   ]
  },
  {
   "cell_type": "code",
   "execution_count": 19,
   "metadata": {},
   "outputs": [
    {
     "data": {
      "text/plain": [
       "<matplotlib.axes._subplots.AxesSubplot at 0x1fb215bec50>"
      ]
     },
     "execution_count": 19,
     "metadata": {},
     "output_type": "execute_result"
    },
    {
     "data": {
      "image/png": "[encoded data removed]",
      "text/plain": [
       "<Figure size 432x288 with 1 Axes>"
      ]
     },
     "metadata": {
      "needs_background": "light"
     },
     "output_type": "display_data"
    }
   ],
   "source": [
    "sns.countplot(y=\"Charging Mode\", data=data_final)"
   ]
  },
  {
   "cell_type": "markdown",
   "metadata": {},
   "source": [
    "The free download, with in-app purchase (IAP) is the most common charging mode. The free download, without in-app purchase is the second most common charging mode. There are much fewer games use the other 2 charging modes.\n",
    "\n",
    "What about the difference in charging mode between winners and losers?"
   ]
  },
  {
   "cell_type": "code",
   "execution_count": 20,
   "metadata": {
    "scrolled": true
   },
   "outputs": [],
   "source": [
    "percent_table = pd.crosstab(data_final['Charging Mode'], data_final['Winner or Loser']).apply(lambda x: x/x.sum(), axis=0)"
   ]
  },
  {
   "cell_type": "code",
   "execution_count": 21,
   "metadata": {},
   "outputs": [
    {
     "data": {
      "text/html": [
       "<div>\n",
       "<style scoped>\n",
       "    .dataframe tbody tr th:only-of-type {\n",
       "        vertical-align: middle;\n",
       "    }\n",
       "\n",
       "    .dataframe tbody tr th {\n",
       "        vertical-align: top;\n",
       "    }\n",
       "\n",
       "    .dataframe thead th {\n",
       "        text-align: right;\n",
       "    }\n",
       "</style>\n",
       "<table border=\"1\" class=\"dataframe\">\n",
       "  <thead>\n",
       "    <tr style=\"text-align: right;\">\n",
       "      <th>Winner or Loser</th>\n",
       "      <th>loser</th>\n",
       "      <th>winner</th>\n",
       "    </tr>\n",
       "    <tr>\n",
       "      <th>Charging Mode</th>\n",
       "      <th></th>\n",
       "      <th></th>\n",
       "    </tr>\n",
       "  </thead>\n",
       "  <tbody>\n",
       "    <tr>\n",
       "      <th>Free download, with IAP</th>\n",
       "      <td>0.528435</td>\n",
       "      <td>0.795014</td>\n",
       "    </tr>\n",
       "    <tr>\n",
       "      <th>Free download, without IAP</th>\n",
       "      <td>0.299877</td>\n",
       "      <td>0.087258</td>\n",
       "    </tr>\n",
       "    <tr>\n",
       "      <th>Paid download, with IAP</th>\n",
       "      <td>0.048417</td>\n",
       "      <td>0.066482</td>\n",
       "    </tr>\n",
       "    <tr>\n",
       "      <th>Paid download, without IAP</th>\n",
       "      <td>0.123271</td>\n",
       "      <td>0.051247</td>\n",
       "    </tr>\n",
       "  </tbody>\n",
       "</table>\n",
       "</div>"
      ],
      "text/plain": [
       "Winner or Loser                loser    winner\n",
       "Charging Mode                                 \n",
       "Free download, with IAP     0.528435  0.795014\n",
       "Free download, without IAP  0.299877  0.087258\n",
       "Paid download, with IAP     0.048417  0.066482\n",
       "Paid download, without IAP  0.123271  0.051247"
      ]
     },
     "execution_count": 21,
     "metadata": {},
     "output_type": "execute_result"
    }
   ],
   "source": [
    "percent_table"
   ]
  },
  {
   "cell_type": "code",
   "execution_count": 22,
   "metadata": {},
   "outputs": [],
   "source": [
    "percent_table_long = pd.melt(percent_table.reset_index(), id_vars=['Charging Mode'], value_vars=['loser', 'winner'])"
   ]
  },
  {
   "cell_type": "code",
   "execution_count": 23,
   "metadata": {},
   "outputs": [
    {
     "data": {
      "text/plain": [
       "Text(0.5, 0, 'Proportion')"
      ]
     },
     "execution_count": 23,
     "metadata": {},
     "output_type": "execute_result"
    },
    {
     "data": {
      "image/png": "[encoded data removed]",
      "text/plain": [
       "<Figure size 432x288 with 1 Axes>"
      ]
     },
     "metadata": {
      "needs_background": "light"
     },
     "output_type": "display_data"
    }
   ],
   "source": [
    "sns.barplot(y=\"Charging Mode\", x=\"value\", hue=\"Winner or Loser\", data=percent_table_long)\n",
    "plt.xlabel(\"Proportion\")"
   ]
  },
  {
   "cell_type": "markdown",
   "metadata": {},
   "source": [
    "We can see that the free download, with IAP mode is more common among winners compared with losers (80.0% v.s. 52.8%). Meanwhile, the free download, without IAP mode is less common among winners compared with losers (8.7% v.s. 30.0%). \n",
    "\n",
    "**We can infer that popular games tend to use free download to attract users and use in-app purchases to make profits.**"
   ]
  },
  {
   "cell_type": "markdown",
   "metadata": {},
   "source": [
    "### 4.3 Is average user rating associated with popularity?"
   ]
  },
  {
   "cell_type": "markdown",
   "metadata": {},
   "source": [
    "Intuitively, the game with high rating tends to be popular, because only acclaimed games can attract large amount of users.\n",
    "\n",
    "In this part, I am going to investigate the relation between average user rating and popularity."
   ]
  },
  {
   "cell_type": "code",
   "execution_count": 24,
   "metadata": {},
   "outputs": [
    {
     "data": {
      "text/plain": [
       "Winner or Loser\n",
       "loser     4.013142\n",
       "winner    4.397507\n",
       "Name: Average User Rating, dtype: float64"
      ]
     },
     "execution_count": 24,
     "metadata": {},
     "output_type": "execute_result"
    }
   ],
   "source": [
    "data_final.groupby(['Winner or Loser']).mean()['Average User Rating']"
   ]
  },
  {
   "cell_type": "code",
   "execution_count": 25,
   "metadata": {},
   "outputs": [
    {
     "data": {
      "text/plain": [
       "<matplotlib.axes._subplots.AxesSubplot at 0x1fb2164b390>"
      ]
     },
     "execution_count": 25,
     "metadata": {},
     "output_type": "execute_result"
    },
    {
     "data": {
      "image/png": "[encoded data removed]",
      "text/plain": [
       "<Figure size 432x288 with 1 Axes>"
      ]
     },
     "metadata": {
      "needs_background": "light"
     },
     "output_type": "display_data"
    }
   ],
   "source": [
    "sns.barplot(x=\"Winner or Loser\", y=\"Average User Rating\", estimator=np.mean, data=data_final)"
   ]
  },
  {
   "cell_type": "markdown",
   "metadata": {},
   "source": [
    "The winners' mean user rating is higher than that of the losers (4.0 vs 4.4).\n",
    "\n",
    "Then, plot the difference of rating distribution:"
   ]
  },
  {
   "cell_type": "code",
   "execution_count": 26,
   "metadata": {},
   "outputs": [],
   "source": [
    "percent_table = pd.crosstab(data_final['Average User Rating'], data_final['Winner or Loser']).apply(lambda x: x/x.sum(), axis=0)"
   ]
  },
  {
   "cell_type": "code",
   "execution_count": 27,
   "metadata": {},
   "outputs": [
    {
     "data": {
      "text/html": [
       "<div>\n",
       "<style scoped>\n",
       "    .dataframe tbody tr th:only-of-type {\n",
       "        vertical-align: middle;\n",
       "    }\n",
       "\n",
       "    .dataframe tbody tr th {\n",
       "        vertical-align: top;\n",
       "    }\n",
       "\n",
       "    .dataframe thead th {\n",
       "        text-align: right;\n",
       "    }\n",
       "</style>\n",
       "<table border=\"1\" class=\"dataframe\">\n",
       "  <thead>\n",
       "    <tr style=\"text-align: right;\">\n",
       "      <th>Winner or Loser</th>\n",
       "      <th>loser</th>\n",
       "      <th>winner</th>\n",
       "    </tr>\n",
       "    <tr>\n",
       "      <th>Average User Rating</th>\n",
       "      <th></th>\n",
       "      <th></th>\n",
       "    </tr>\n",
       "  </thead>\n",
       "  <tbody>\n",
       "    <tr>\n",
       "      <th>1.0</th>\n",
       "      <td>0.002152</td>\n",
       "      <td>0.000000</td>\n",
       "    </tr>\n",
       "    <tr>\n",
       "      <th>1.5</th>\n",
       "      <td>0.009222</td>\n",
       "      <td>0.000000</td>\n",
       "    </tr>\n",
       "    <tr>\n",
       "      <th>2.0</th>\n",
       "      <td>0.023363</td>\n",
       "      <td>0.000000</td>\n",
       "    </tr>\n",
       "    <tr>\n",
       "      <th>2.5</th>\n",
       "      <td>0.046111</td>\n",
       "      <td>0.009695</td>\n",
       "    </tr>\n",
       "    <tr>\n",
       "      <th>3.0</th>\n",
       "      <td>0.075008</td>\n",
       "      <td>0.022161</td>\n",
       "    </tr>\n",
       "    <tr>\n",
       "      <th>3.5</th>\n",
       "      <td>0.132647</td>\n",
       "      <td>0.058172</td>\n",
       "    </tr>\n",
       "    <tr>\n",
       "      <th>4.0</th>\n",
       "      <td>0.237319</td>\n",
       "      <td>0.139889</td>\n",
       "    </tr>\n",
       "    <tr>\n",
       "      <th>4.5</th>\n",
       "      <td>0.348601</td>\n",
       "      <td>0.613573</td>\n",
       "    </tr>\n",
       "    <tr>\n",
       "      <th>5.0</th>\n",
       "      <td>0.125576</td>\n",
       "      <td>0.156510</td>\n",
       "    </tr>\n",
       "  </tbody>\n",
       "</table>\n",
       "</div>"
      ],
      "text/plain": [
       "Winner or Loser         loser    winner\n",
       "Average User Rating                    \n",
       "1.0                  0.002152  0.000000\n",
       "1.5                  0.009222  0.000000\n",
       "2.0                  0.023363  0.000000\n",
       "2.5                  0.046111  0.009695\n",
       "3.0                  0.075008  0.022161\n",
       "3.5                  0.132647  0.058172\n",
       "4.0                  0.237319  0.139889\n",
       "4.5                  0.348601  0.613573\n",
       "5.0                  0.125576  0.156510"
      ]
     },
     "execution_count": 27,
     "metadata": {},
     "output_type": "execute_result"
    }
   ],
   "source": [
    "percent_table"
   ]
  },
  {
   "cell_type": "code",
   "execution_count": 27,
   "metadata": {},
   "outputs": [],
   "source": [
    "percent_table_long = pd.melt(percent_table.reset_index(), id_vars=['Average User Rating'], value_vars=['loser', 'winner'])"
   ]
  },
  {
   "cell_type": "code",
   "execution_count": 28,
   "metadata": {},
   "outputs": [
    {
     "data": {
      "text/plain": [
       "Text(0, 0.5, 'Proportion')"
      ]
     },
     "execution_count": 28,
     "metadata": {},
     "output_type": "execute_result"
    },
    {
     "data": {
      "image/png": "[encoded data removed]",
      "text/plain": [
       "<Figure size 432x288 with 1 Axes>"
      ]
     },
     "metadata": {
      "needs_background": "light"
     },
     "output_type": "display_data"
    }
   ],
   "source": [
    "sns.barplot(x=\"Average User Rating\", y=\"value\", hue=\"Winner or Loser\", data=percent_table_long)\n",
    "plt.ylabel(\"Proportion\")"
   ]
  },
  {
   "cell_type": "markdown",
   "metadata": {},
   "source": [
    "We can see that the winner group have fewer low-rating games (rating less than 4.5, 23.0% v.s. 52.6%) and more high-rating games (rating more than or equal to 4.5, 77.0% v.s. 47.4%). \n",
    "\n",
    "**We can draw the conclusion that game with high rating (>= 4.5) is more likely to be popular.**"
   ]
  },
  {
   "cell_type": "markdown",
   "metadata": {},
   "source": [
    "### 4.3 Is size associated with popularity?"
   ]
  },
  {
   "cell_type": "markdown",
   "metadata": {},
   "source": [
    "The larger games may have better and more content which can attract more users. In this part, I am going to investigate the relation between size and popularity."
   ]
  },
  {
   "cell_type": "code",
   "execution_count": 29,
   "metadata": {},
   "outputs": [
    {
     "data": {
      "text/plain": [
       "Winner or Loser\n",
       "loser     1.303953e+08\n",
       "winner    2.950661e+08\n",
       "Name: Size, dtype: float64"
      ]
     },
     "execution_count": 29,
     "metadata": {},
     "output_type": "execute_result"
    }
   ],
   "source": [
    "data_final.groupby(['Winner or Loser']).mean()['Size']"
   ]
  },
  {
   "cell_type": "code",
   "execution_count": 35,
   "metadata": {},
   "outputs": [
    {
     "data": {
      "text/plain": [
       "Winner or Loser\n",
       "loser      68202496.0\n",
       "winner    178507776.0\n",
       "Name: Size, dtype: float64"
      ]
     },
     "execution_count": 35,
     "metadata": {},
     "output_type": "execute_result"
    }
   ],
   "source": [
    "data_final.groupby(['Winner or Loser']).median()['Size']"
   ]
  },
  {
   "cell_type": "code",
   "execution_count": 37,
   "metadata": {},
   "outputs": [
    {
     "data": {
      "text/plain": [
       "<matplotlib.axes._subplots.AxesSubplot at 0x22401b58438>"
      ]
     },
     "execution_count": 37,
     "metadata": {},
     "output_type": "execute_result"
    },
    {
     "data": {
      "image/png": "[encoded data removed]",
      "text/plain": [
       "<Figure size 432x288 with 1 Axes>"
      ]
     },
     "metadata": {
      "needs_background": "light"
     },
     "output_type": "display_data"
    }
   ],
   "source": [
    "sns.barplot(x=\"Winner or Loser\", y=\"Size\", estimator=np.mean, data=data_final)"
   ]
  },
  {
   "cell_type": "code",
   "execution_count": 38,
   "metadata": {},
   "outputs": [
    {
     "data": {
      "text/plain": [
       "<matplotlib.axes._subplots.AxesSubplot at 0x22401bab908>"
      ]
     },
     "execution_count": 38,
     "metadata": {},
     "output_type": "execute_result"
    },
    {
     "data": {
      "image/png": "[encoded data removed]",
      "text/plain": [
       "<Figure size 432x288 with 1 Axes>"
      ]
     },
     "metadata": {
      "needs_background": "light"
     },
     "output_type": "display_data"
    }
   ],
   "source": [
    "sns.barplot(x=\"Winner or Loser\", y=\"Size\", estimator=np.median, data=data_final)"
   ]
  },
  {
   "cell_type": "markdown",
   "metadata": {},
   "source": [
    "In terms of both mean and median, the winners have larger size than the losers. The median and mean size of winners is as twice of losers.\n",
    "\n",
    "Next, I am going to investigate it detailly:"
   ]
  },
  {
   "cell_type": "code",
   "execution_count": 32,
   "metadata": {
    "scrolled": true
   },
   "outputs": [
    {
     "data": {
      "text/plain": [
       "count    7.228000e+03\n",
       "mean     1.468441e+08\n",
       "std      2.523184e+08\n",
       "min      2.158400e+05\n",
       "25%      2.959590e+07\n",
       "50%      7.557683e+07\n",
       "75%      1.723566e+08\n",
       "max      4.005591e+09\n",
       "Name: Size, dtype: float64"
      ]
     },
     "execution_count": 32,
     "metadata": {},
     "output_type": "execute_result"
    }
   ],
   "source": [
    "data_final['Size'].describe()"
   ]
  },
  {
   "cell_type": "code",
   "execution_count": 33,
   "metadata": {},
   "outputs": [],
   "source": [
    "data_final['Size Stratum'] = 'medium'\n",
    "data_final.loc[data_final['Size'] > data_final['Size'].quantile(0.75), ['Size Stratum']] = 'large'\n",
    "data_final.loc[data_final['Size'] < data_final['Size'].quantile(0.25), ['Size Stratum']] = 'small'"
   ]
  },
  {
   "cell_type": "markdown",
   "metadata": {},
   "source": [
    "I divided games into three groups based on size: \n",
    "1. small (less than 28MB, the 25% quantile)\n",
    "2. medium (between 28MB and 164MB, between 25% and 75% quantile)\n",
    "3. large (larger than 164MB, the 75% quantile)\n",
    "\n",
    "Then, plot the difference of size distribution:"
   ]
  },
  {
   "cell_type": "code",
   "execution_count": 34,
   "metadata": {},
   "outputs": [],
   "source": [
    "percent_table = pd.crosstab(data_final['Size Stratum'], data_final['Winner or Loser']).apply(lambda x: x/x.sum(), axis=0)\n",
    "percent_table_long = pd.melt(percent_table.reset_index(), id_vars=['Size Stratum'], value_vars=['loser', 'winner'])"
   ]
  },
  {
   "cell_type": "code",
   "execution_count": 39,
   "metadata": {},
   "outputs": [
    {
     "data": {
      "text/html": [
       "<div>\n",
       "<style scoped>\n",
       "    .dataframe tbody tr th:only-of-type {\n",
       "        vertical-align: middle;\n",
       "    }\n",
       "\n",
       "    .dataframe tbody tr th {\n",
       "        vertical-align: top;\n",
       "    }\n",
       "\n",
       "    .dataframe thead th {\n",
       "        text-align: right;\n",
       "    }\n",
       "</style>\n",
       "<table border=\"1\" class=\"dataframe\">\n",
       "  <thead>\n",
       "    <tr style=\"text-align: right;\">\n",
       "      <th>Winner or Loser</th>\n",
       "      <th>loser</th>\n",
       "      <th>winner</th>\n",
       "    </tr>\n",
       "    <tr>\n",
       "      <th>Size Stratum</th>\n",
       "      <th></th>\n",
       "      <th></th>\n",
       "    </tr>\n",
       "  </thead>\n",
       "  <tbody>\n",
       "    <tr>\n",
       "      <th>large</th>\n",
       "      <td>0.219797</td>\n",
       "      <td>0.520776</td>\n",
       "    </tr>\n",
       "    <tr>\n",
       "      <th>medium</th>\n",
       "      <td>0.511067</td>\n",
       "      <td>0.401662</td>\n",
       "    </tr>\n",
       "    <tr>\n",
       "      <th>small</th>\n",
       "      <td>0.269136</td>\n",
       "      <td>0.077562</td>\n",
       "    </tr>\n",
       "  </tbody>\n",
       "</table>\n",
       "</div>"
      ],
      "text/plain": [
       "Winner or Loser     loser    winner\n",
       "Size Stratum                       \n",
       "large            0.219797  0.520776\n",
       "medium           0.511067  0.401662\n",
       "small            0.269136  0.077562"
      ]
     },
     "execution_count": 39,
     "metadata": {},
     "output_type": "execute_result"
    }
   ],
   "source": [
    "percent_table"
   ]
  },
  {
   "cell_type": "code",
   "execution_count": 58,
   "metadata": {},
   "outputs": [
    {
     "data": {
      "text/plain": [
       "Text(0, 0.5, 'Proportion')"
      ]
     },
     "execution_count": 58,
     "metadata": {},
     "output_type": "execute_result"
    },
    {
     "data": {
      "image/png": "[encoded data removed]",
      "text/plain": [
       "<Figure size 432x288 with 1 Axes>"
      ]
     },
     "metadata": {
      "needs_background": "light"
     },
     "output_type": "display_data"
    }
   ],
   "source": [
    "sns.barplot(x=\"Size Stratum\", y=\"value\", hue=\"Winner or Loser\", data=percent_table_long)\n",
    "plt.ylabel(\"Proportion\")"
   ]
  },
  {
   "cell_type": "markdown",
   "metadata": {},
   "source": [
    "We can see that the winner group have much more large games (52.1% v.s. 22.0%) and much less small games (7.8% v.s. 27.0%)."
   ]
  },
  {
   "cell_type": "markdown",
   "metadata": {},
   "source": [
    "**So, we can draw the conclusion that large games are more likely to be popular.**"
   ]
  },
  {
   "cell_type": "markdown",
   "metadata": {},
   "source": [
    "## 5. Conclusion and Discussion (Evaluation and Deployment)"
   ]
  },
  {
   "cell_type": "markdown",
   "metadata": {},
   "source": [
    "In this article, I analyzed the Apple App Store Strategy Games data and tried to find what makes a popular strategy game. Firstly, I defined a parameter of popularity: User Rating Count per Day. Then I studied the association between popularity and charging mode, rating, size. I found that games with the free download and IAP (In-app purchase) charging mode, highly rated and larger size are more likely to be popular. \n",
    "\n",
    "However, the conclusion is not so solid. Firstly, the User Rating Count is not a good parameter of popularity, because not all users want bother to grade a game, even they are super fans. I think the Download Count may be better. Secondly, the causal relationship between popularity and the factors is not clear. It is hard to say that those factors 'make' popular games: For example, larger games may have better and more game features which attarct more users and make games popular. However, the truth can also be that game developers will only keep updating popular games, their cash cows, and discard unpopular games. And it is updating makes popular games larger and larger. In other words, popularity can lead to increase of size. To get the real causality, more efforts need to be done."
   ]
  }
 ],
 "metadata": {
  "kernelspec": {
   "display_name": "Python 3",
   "language": "python",
   "name": "python3"
  },
  "language_info": {
   "codemirror_mode": {
    "name": "ipython",
    "version": 3
   },
   "file_extension": ".py",
   "mimetype": "text/x-python",
   "name": "python",
   "nbconvert_exporter": "python",
   "pygments_lexer": "ipython3",
   "version": "3.7.0"
  }
 },
 "nbformat": 4,
 "nbformat_minor": 2
}
