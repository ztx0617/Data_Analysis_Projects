{
 "cells": [
  {
   "cell_type": "markdown",
   "metadata": {},
   "source": [
    "# Udacity Data Scientist Capstone Project: \n",
    "\n",
    "# Identify churned users for a music streaming APP"
   ]
  },
  {
   "cell_type": "markdown",
   "metadata": {},
   "source": [
    "Tianxing Zhai\n",
    "\n",
    "March 1st, 2020"
   ]
  },
  {
   "cell_type": "markdown",
   "metadata": {},
   "source": [
    "## 1. Project Definition"
   ]
  },
  {
   "cell_type": "markdown",
   "metadata": {},
   "source": [
    "### 1.1 Projcet Overview"
   ]
  },
  {
   "cell_type": "markdown",
   "metadata": {},
   "source": [
    "The problem comes from a fictitious music streaming company called Sparkify. Sparkify has millions of users who use the company's app to stream thier favorite songs everyday. Each user uses either the Free-tier with advertisement between the songs or the premium subscription plan. Users can upgrade, downgrade or cancel thier service at any time. Hence, it is important to predict users who are going to cancel subscriptions (churned users). Knowing who will be churned users, we can take actions to keep paid users before it is too late.\n",
    "\n",
    "\n",
    "In this project, I will use Spark and Python to analyze the Sparkify user event data. I will also build a machine learning model to predict who are going to cancel. Because the original data is too big (12GB), a tiny subset (128MB) was extracted and will be used in this project. All the analysis and model building will be done on my PC."
   ]
  },
  {
   "cell_type": "markdown",
   "metadata": {},
   "source": [
    "### 1.2 Problem Statement"
   ]
  },
  {
   "cell_type": "markdown",
   "metadata": {},
   "source": [
    "The goal is to identify churned users. The tasks involved are the following:\n",
    "1. Load and preprocess the user event data.\n",
    "2. Define and create a label called 'churn'. The label represents whether a user cancels his service.\n",
    "3. Do feature engineering, make the dataset ready for machine learning.\n",
    "4. Do the machine learning, including train-test splitting, training, validating and tunning.\n",
    "5. Write a blog post to communicate the results and findings. "
   ]
  },
  {
   "cell_type": "markdown",
   "metadata": {},
   "source": [
    "### 1.3 Metrics"
   ]
  },
  {
   "cell_type": "markdown",
   "metadata": {},
   "source": [
    "Since the churned users are a fairly small subset, I will use F1 score as the main metric to measure performance of a model and optimize. Recall and precision will also be checked."
   ]
  },
  {
   "cell_type": "markdown",
   "metadata": {},
   "source": [
    "## 2. Exploratory Data Analysis and Visualization"
   ]
  },
  {
   "cell_type": "code",
   "execution_count": 1,
   "metadata": {},
   "outputs": [],
   "source": [
    "# import libraries\n",
    "from pyspark.sql import SparkSession\n",
    "from pyspark.sql.functions import udf\n",
    "from pyspark.sql.functions import sum as Fsum\n",
    "from pyspark.sql.functions import avg\n",
    "from pyspark.sql.functions import count\n",
    "from pyspark.sql.types import IntegerType\n",
    "\n",
    "from pyspark.ml.feature import VectorAssembler, StandardScaler\n",
    "\n",
    "from pyspark.ml.classification import GBTClassifier, LinearSVC, LogisticRegression\n",
    "from pyspark.ml.evaluation import MulticlassClassificationEvaluator\n",
    "from pyspark.ml.tuning import CrossValidator, ParamGridBuilder\n",
    "\n",
    "import datetime\n",
    "import pandas as pd\n",
    "import seaborn as sns\n",
    "\n",
    "%matplotlib inline"
   ]
  },
  {
   "cell_type": "markdown",
   "metadata": {},
   "source": [
    "Load the data from a local json file:"
   ]
  },
  {
   "cell_type": "code",
   "execution_count": 2,
   "metadata": {},
   "outputs": [],
   "source": [
    "# create a Spark session\n",
    "spark = SparkSession \\\n",
    "        .builder \\\n",
    "        .appName(\"spark project\") \\\n",
    "        .getOrCreate()"
   ]
  },
  {
   "cell_type": "code",
   "execution_count": 3,
   "metadata": {},
   "outputs": [],
   "source": [
    "# read the data in json file\n",
    "path = \"mini_sparkify_event_data.json\"\n",
    "df = spark.read.json(path)"
   ]
  },
  {
   "cell_type": "markdown",
   "metadata": {},
   "source": [
    "The first row of the data:"
   ]
  },
  {
   "cell_type": "code",
   "execution_count": 4,
   "metadata": {},
   "outputs": [
    {
     "name": "stdout",
     "output_type": "stream",
     "text": [
      "+--------------+---------+---------+------+-------------+--------+---------+-----+---------------+------+--------+-------------+---------+---------+------+-------------+--------------------+------+\n",
      "|        artist|     auth|firstName|gender|itemInSession|lastName|   length|level|       location|method|    page| registration|sessionId|     song|status|           ts|           userAgent|userId|\n",
      "+--------------+---------+---------+------+-------------+--------+---------+-----+---------------+------+--------+-------------+---------+---------+------+-------------+--------------------+------+\n",
      "|Martha Tilston|Logged In|    Colin|     M|           50| Freeman|277.89016| paid|Bakersfield, CA|   PUT|NextSong|1538173362000|       29|Rockpools|   200|1538352117000|Mozilla/5.0 (Wind...|    30|\n",
      "+--------------+---------+---------+------+-------------+--------+---------+-----+---------------+------+--------+-------------+---------+---------+------+-------------+--------------------+------+\n",
      "only showing top 1 row\n",
      "\n"
     ]
    }
   ],
   "source": [
    "df.show(1)"
   ]
  },
  {
   "cell_type": "markdown",
   "metadata": {},
   "source": [
    "Check the shape of the data:"
   ]
  },
  {
   "cell_type": "code",
   "execution_count": 5,
   "metadata": {},
   "outputs": [
    {
     "name": "stdout",
     "output_type": "stream",
     "text": [
      "(286500, 18)\n"
     ]
    }
   ],
   "source": [
    "print((df.count(), len(df.columns)))"
   ]
  },
  {
   "cell_type": "markdown",
   "metadata": {},
   "source": [
    "The data has 286500 rows and 18 columns."
   ]
  },
  {
   "cell_type": "markdown",
   "metadata": {},
   "source": [
    "Current variables of the data:"
   ]
  },
  {
   "cell_type": "code",
   "execution_count": 6,
   "metadata": {},
   "outputs": [
    {
     "name": "stdout",
     "output_type": "stream",
     "text": [
      "root\n",
      " |-- artist: string (nullable = true)\n",
      " |-- auth: string (nullable = true)\n",
      " |-- firstName: string (nullable = true)\n",
      " |-- gender: string (nullable = true)\n",
      " |-- itemInSession: long (nullable = true)\n",
      " |-- lastName: string (nullable = true)\n",
      " |-- length: double (nullable = true)\n",
      " |-- level: string (nullable = true)\n",
      " |-- location: string (nullable = true)\n",
      " |-- method: string (nullable = true)\n",
      " |-- page: string (nullable = true)\n",
      " |-- registration: long (nullable = true)\n",
      " |-- sessionId: long (nullable = true)\n",
      " |-- song: string (nullable = true)\n",
      " |-- status: long (nullable = true)\n",
      " |-- ts: long (nullable = true)\n",
      " |-- userAgent: string (nullable = true)\n",
      " |-- userId: string (nullable = true)\n",
      "\n"
     ]
    }
   ],
   "source": [
    "df.printSchema()"
   ]
  },
  {
   "cell_type": "markdown",
   "metadata": {},
   "source": [
    "Next, check some variables I think are important:"
   ]
  },
  {
   "cell_type": "code",
   "execution_count": 7,
   "metadata": {},
   "outputs": [],
   "source": [
    "df.createOrReplaceTempView(\"df\")"
   ]
  },
  {
   "cell_type": "code",
   "execution_count": 8,
   "metadata": {},
   "outputs": [],
   "source": [
    "def count_values(variable):\n",
    "    # output count table of a variable by using spark SQL\n",
    "    count_table = spark.sql('''\n",
    "          SELECT {}, COUNT({}) AS {}_count, COUNT({})/286500*100 AS {}_percent\n",
    "          FROM df\n",
    "          GROUP BY {}\n",
    "          ORDER BY {}_count DESC\n",
    "          '''.format(variable, variable, variable, variable, variable, variable, variable)\n",
    "          )\n",
    "    count_table.show()\n",
    "    count_table_df = count_table.toPandas()\n",
    "    sns.barplot(x=variable + '_percent', y=variable, data=count_table_df)\n",
    "    "
   ]
  },
  {
   "cell_type": "code",
   "execution_count": 9,
   "metadata": {},
   "outputs": [
    {
     "name": "stdout",
     "output_type": "stream",
     "text": [
      "+----------+----------+--------------------+\n",
      "|      auth|auth_count|        auth_percent|\n",
      "+----------+----------+--------------------+\n",
      "| Logged In|    278102|   97.06876090750436|\n",
      "|Logged Out|      8249|  2.8792321116928443|\n",
      "|     Guest|        97| 0.03385689354275742|\n",
      "| Cancelled|        52|0.018150087260034906|\n",
      "+----------+----------+--------------------+\n",
      "\n"
     ]
    },
    {
     "data": {
      "image/png": "[encoded data removed]",
      "text/plain": [
       "<Figure size 432x288 with 1 Axes>"
      ]
     },
     "metadata": {
      "needs_background": "light"
     },
     "output_type": "display_data"
    }
   ],
   "source": [
    "count_table = count_values('auth')"
   ]
  },
  {
   "cell_type": "code",
   "execution_count": 10,
   "metadata": {},
   "outputs": [
    {
     "name": "stdout",
     "output_type": "stream",
     "text": [
      "+------+------------+------------------+\n",
      "|gender|gender_count|    gender_percent|\n",
      "+------+------------+------------------+\n",
      "|     F|      154578| 53.95392670157067|\n",
      "|     M|      123576|43.132984293193715|\n",
      "|  null|           0|               0.0|\n",
      "+------+------------+------------------+\n",
      "\n"
     ]
    },
    {
     "data": {
      "image/png": "[encoded data removed]",
      "text/plain": [
       "<Figure size 432x288 with 1 Axes>"
      ]
     },
     "metadata": {
      "needs_background": "light"
     },
     "output_type": "display_data"
    }
   ],
   "source": [
    "count_values('gender')"
   ]
  },
  {
   "cell_type": "code",
   "execution_count": 11,
   "metadata": {},
   "outputs": [
    {
     "name": "stdout",
     "output_type": "stream",
     "text": [
      "+-----+-----------+------------------+\n",
      "|level|level_count|     level_percent|\n",
      "+-----+-----------+------------------+\n",
      "| paid|     228162| 79.63769633507853|\n",
      "| free|      58338|20.362303664921466|\n",
      "+-----+-----------+------------------+\n",
      "\n"
     ]
    },
    {
     "data": {
      "image/png": "[encoded data removed]",
      "text/plain": [
       "<Figure size 432x288 with 1 Axes>"
      ]
     },
     "metadata": {
      "needs_background": "light"
     },
     "output_type": "display_data"
    }
   ],
   "source": [
    "count_values('level')"
   ]
  },
  {
   "cell_type": "code",
   "execution_count": 12,
   "metadata": {},
   "outputs": [
    {
     "name": "stdout",
     "output_type": "stream",
     "text": [
      "+--------------------+----------+--------------------+\n",
      "|                page|page_count|        page_percent|\n",
      "+--------------------+----------+--------------------+\n",
      "|            NextSong|    228108|   79.61884816753927|\n",
      "|                Home|     14457|   5.046073298429319|\n",
      "|           Thumbs Up|     12551|   4.380802792321116|\n",
      "|     Add to Playlist|      6526|  2.2778359511343806|\n",
      "|          Add Friend|      4277|   1.492844677137871|\n",
      "|         Roll Advert|      3933|  1.3727748691099475|\n",
      "|               Login|      3241|   1.131239092495637|\n",
      "|              Logout|      3226|   1.126003490401396|\n",
      "|         Thumbs Down|      2546|  0.8886561954624781|\n",
      "|           Downgrade|      2055|  0.7172774869109948|\n",
      "|                Help|      1726|  0.6024432809773124|\n",
      "|            Settings|      1514|  0.5284467713787085|\n",
      "|               About|       924|  0.3225130890052356|\n",
      "|             Upgrade|       499| 0.17417102966841186|\n",
      "|       Save Settings|       310|  0.1082024432809773|\n",
      "|               Error|       258|  0.0900523560209424|\n",
      "|      Submit Upgrade|       159| 0.05549738219895288|\n",
      "|    Submit Downgrade|        63| 0.02198952879581152|\n",
      "|Cancellation Conf...|        52|0.018150087260034906|\n",
      "|              Cancel|        52|0.018150087260034906|\n",
      "+--------------------+----------+--------------------+\n",
      "only showing top 20 rows\n",
      "\n"
     ]
    },
    {
     "data": {
      "image/png": "[encoded data removed]",
      "text/plain": [
       "<Figure size 432x288 with 1 Axes>"
      ]
     },
     "metadata": {
      "needs_background": "light"
     },
     "output_type": "display_data"
    }
   ],
   "source": [
    "count_values('page')"
   ]
  },
  {
   "cell_type": "code",
   "execution_count": 13,
   "metadata": {},
   "outputs": [
    {
     "name": "stdout",
     "output_type": "stream",
     "text": [
      "+-------+------------------+\n",
      "|summary|            length|\n",
      "+-------+------------------+\n",
      "|  count|            228108|\n",
      "|   mean|249.11718197783722|\n",
      "| stddev| 99.23517921058324|\n",
      "|    min|           0.78322|\n",
      "|    max|        3024.66567|\n",
      "+-------+------------------+\n",
      "\n"
     ]
    }
   ],
   "source": [
    "df.describe(\"length\").show()"
   ]
  },
  {
   "cell_type": "markdown",
   "metadata": {},
   "source": [
    "Here is the summary of variables and what I will do on variables:"
   ]
  },
  {
   "cell_type": "markdown",
   "metadata": {},
   "source": [
    "| Variables | Type | Meaning | Action\n",
    "| --- | --- | --- | ---|\n",
    "| artist | string | The artist of the song played| remove|\n",
    "| auth | string | The register status of users| remove|\n",
    "| firstname | string | The first names of users| remove|\n",
    "| gender | string | The gender of users| keep and one-hot encoding|\n",
    "| itemInSession | int | Unknown| remove|\n",
    "| lastName | string | The last names of users| remove|\n",
    "| length | float | The length of the song played | keep and calculate the interaction time |\n",
    "| level | string | paid or free| use to filter paid users|\n",
    "| location | string | The location of users| remove|\n",
    "| method | string | Unknown| remove|\n",
    "| page | string | The action of users| most important. will be used to create most of features and labels|\n",
    "| registration | int | Unknown| remove|\n",
    "| sessionId | int | Unknown| remove|\n",
    "| song | string | The name of the song played| remove|\n",
    "| status | int | Unknown| remove|\n",
    "| ts | int | The timestamp of the action|keep and calculate the record time|\n",
    "| userAgent | string | The terminal of users used to access the service| remove|\n",
    "| userId | string | The ID of users| use to identify users|"
   ]
  },
  {
   "cell_type": "markdown",
   "metadata": {},
   "source": [
    "Deal with missing values in important variables:"
   ]
  },
  {
   "cell_type": "code",
   "execution_count": 14,
   "metadata": {},
   "outputs": [],
   "source": [
    "# drop missings in the userId and page columns\n",
    "df_valid = df.dropna(how = \"any\", subset = [\"userId\", \"page\"])"
   ]
  },
  {
   "cell_type": "markdown",
   "metadata": {},
   "source": [
    "There are blanks in the userId which should be considered as missings as well:"
   ]
  },
  {
   "cell_type": "code",
   "execution_count": 15,
   "metadata": {},
   "outputs": [
    {
     "name": "stdout",
     "output_type": "stream",
     "text": [
      "+------+\n",
      "|userId|\n",
      "+------+\n",
      "|      |\n",
      "|    10|\n",
      "|   100|\n",
      "|100001|\n",
      "|100002|\n",
      "|100003|\n",
      "|100004|\n",
      "|100005|\n",
      "|100006|\n",
      "|100007|\n",
      "|100008|\n",
      "|100009|\n",
      "|100010|\n",
      "|100011|\n",
      "|100012|\n",
      "|100013|\n",
      "|100014|\n",
      "|100015|\n",
      "|100016|\n",
      "|100017|\n",
      "+------+\n",
      "only showing top 20 rows\n",
      "\n"
     ]
    }
   ],
   "source": [
    "df_valid.select(\"userId\").dropDuplicates().sort(\"userId\").show()"
   ]
  },
  {
   "cell_type": "markdown",
   "metadata": {},
   "source": [
    "Remove blank values:"
   ]
  },
  {
   "cell_type": "code",
   "execution_count": 16,
   "metadata": {},
   "outputs": [],
   "source": [
    "df_valid = df_valid.filter(df_valid[\"userId\"] != \"\")"
   ]
  },
  {
   "cell_type": "code",
   "execution_count": 17,
   "metadata": {},
   "outputs": [
    {
     "name": "stdout",
     "output_type": "stream",
     "text": [
      "+------+\n",
      "|userId|\n",
      "+------+\n",
      "|    10|\n",
      "|   100|\n",
      "|100001|\n",
      "|100002|\n",
      "|100003|\n",
      "|100004|\n",
      "|100005|\n",
      "|100006|\n",
      "|100007|\n",
      "|100008|\n",
      "|100009|\n",
      "|100010|\n",
      "|100011|\n",
      "|100012|\n",
      "|100013|\n",
      "|100014|\n",
      "|100015|\n",
      "|100016|\n",
      "|100017|\n",
      "|100018|\n",
      "+------+\n",
      "only showing top 20 rows\n",
      "\n"
     ]
    }
   ],
   "source": [
    "# check after removal \n",
    "df_valid.select(\"userId\").dropDuplicates().sort(\"userId\").show()"
   ]
  },
  {
   "cell_type": "code",
   "execution_count": 18,
   "metadata": {},
   "outputs": [
    {
     "data": {
      "text/plain": [
       "286500"
      ]
     },
     "execution_count": 18,
     "metadata": {},
     "output_type": "execute_result"
    }
   ],
   "source": [
    "# before removal\n",
    "df.count()"
   ]
  },
  {
   "cell_type": "code",
   "execution_count": 19,
   "metadata": {},
   "outputs": [
    {
     "data": {
      "text/plain": [
       "278154"
      ]
     },
     "execution_count": 19,
     "metadata": {},
     "output_type": "execute_result"
    }
   ],
   "source": [
    "# after removal\n",
    "df_valid.count()"
   ]
  },
  {
   "cell_type": "markdown",
   "metadata": {},
   "source": [
    "Because we are going to study paid users who will cancel, we don't need to study free users."
   ]
  },
  {
   "cell_type": "code",
   "execution_count": 20,
   "metadata": {},
   "outputs": [],
   "source": [
    "# subset paid users\n",
    "df_valid = df_valid.filter(df_valid[\"level\"] == \"paid\")"
   ]
  },
  {
   "cell_type": "code",
   "execution_count": 21,
   "metadata": {},
   "outputs": [
    {
     "data": {
      "text/plain": [
       "222433"
      ]
     },
     "execution_count": 21,
     "metadata": {},
     "output_type": "execute_result"
    }
   ],
   "source": [
    "# after subsetting\n",
    "df_valid.count() "
   ]
  },
  {
   "cell_type": "markdown",
   "metadata": {},
   "source": [
    "Collect useful variables for future feature engineering: "
   ]
  },
  {
   "cell_type": "code",
   "execution_count": 22,
   "metadata": {},
   "outputs": [],
   "source": [
    "df_valid = df_valid.select(['gender', 'length', 'page', 'ts', 'userId'])"
   ]
  },
  {
   "cell_type": "code",
   "execution_count": 23,
   "metadata": {},
   "outputs": [
    {
     "name": "stdout",
     "output_type": "stream",
     "text": [
      "+------+---------+---------------+-------------+------+\n",
      "|gender|   length|           page|           ts|userId|\n",
      "+------+---------+---------------+-------------+------+\n",
      "|     M|277.89016|       NextSong|1538352117000|    30|\n",
      "|     M| 282.8273|       NextSong|1538352394000|    30|\n",
      "|     M|223.60771|       NextSong|1538352676000|    30|\n",
      "|     M|185.44281|       NextSong|1538352899000|    30|\n",
      "|     M|     null|Add to Playlist|1538352905000|    30|\n",
      "|     M|134.47791|       NextSong|1538353084000|    30|\n",
      "|     M|223.58159|       NextSong|1538353218000|    30|\n",
      "|     M|246.69995|       NextSong|1538353441000|    30|\n",
      "|     M|222.22322|       NextSong|1538353687000|    30|\n",
      "|     M|223.92118|       NextSong|1538353909000|    30|\n",
      "|     F|250.93179|       NextSong|1538353930000|    54|\n",
      "|     M|233.32526|       NextSong|1538354132000|    30|\n",
      "|     F|  216.842|       NextSong|1538354180000|    54|\n",
      "|     M|219.66322|       NextSong|1538354365000|    30|\n",
      "|     F|343.32689|       NextSong|1538354396000|    54|\n",
      "|     M|222.92853|       NextSong|1538354584000|    30|\n",
      "|     F|246.25587|       NextSong|1538354739000|    54|\n",
      "|     F|     null|      Downgrade|1538354749000|    54|\n",
      "|     M|139.04934|       NextSong|1538354806000|    30|\n",
      "|     M|311.84934|       NextSong|1538354945000|    30|\n",
      "+------+---------+---------------+-------------+------+\n",
      "only showing top 20 rows\n",
      "\n"
     ]
    }
   ],
   "source": [
    "df_valid.show(20)"
   ]
  },
  {
   "cell_type": "markdown",
   "metadata": {},
   "source": [
    "## 3. Methodology"
   ]
  },
  {
   "cell_type": "markdown",
   "metadata": {},
   "source": [
    "### 3.1 Data Preprocessing"
   ]
  },
  {
   "cell_type": "markdown",
   "metadata": {},
   "source": [
    "Here is my strategy of data preprocessing and feature engineering:"
   ]
  },
  {
   "cell_type": "markdown",
   "metadata": {},
   "source": [
    "1. Do some aggregation on users. Make one user per row, rather than one record per row.\n",
    "2. For gender, transform F and M to 0 and 1.\n",
    "3. Calculate each user's record hours and interaction hours. The record hours will be calculated as the range of users' timestamp. The interaction hours will be calculated as the sum of length per user.\n",
    "4. Some user events in the page variable will be counted. They include 4 positive events: NextSong, Thumbs Up, Add to Playlist and Add Friend; 4 negative events: Downgrade, Thumbs Down, Roll Advert and Error.\n",
    "5. The data is a 'cross section of time', to make aggregations comparable between new and old users, all the counts will be divided by interaction hours and make the **frequency of events per hour of interaction**. The interaction hours will also be divided, by record hours, to make the **proportion of interaction hours among record hours**.\n",
    "6. The Cancellation Confirmation in the page variable will be used to create the label 'churn'. Anyone who has 'Cancellation Confirmation' will be regarded as churned user and labeled as 1, otherwise 0."
   ]
  },
  {
   "cell_type": "code",
   "execution_count": 24,
   "metadata": {},
   "outputs": [],
   "source": [
    "df_valid.createOrReplaceTempView(\"df_valid\")"
   ]
  },
  {
   "cell_type": "markdown",
   "metadata": {},
   "source": [
    "Calculate interaction hours per user:"
   ]
  },
  {
   "cell_type": "code",
   "execution_count": 25,
   "metadata": {},
   "outputs": [
    {
     "name": "stdout",
     "output_type": "stream",
     "text": [
      "+------+------------------+\n",
      "|userId| interaction_hours|\n",
      "+------+------------------+\n",
      "|    26|              null|\n",
      "|   122|1.8178796000000002|\n",
      "|    32| 2.296645277777778|\n",
      "|   137|2.6664366916666666|\n",
      "|200007| 4.372185919444445|\n",
      "|    55|         4.8192491|\n",
      "|    79| 4.851437647222222|\n",
      "|200005| 5.533188758333332|\n",
      "|300024|  6.30517893611111|\n",
      "|    24| 6.501328494444444|\n",
      "|300006| 7.777298519444445|\n",
      "|300007| 7.785752911111117|\n",
      "|300004| 8.318308313888883|\n",
      "|200003| 8.550993527777779|\n",
      "|   151| 9.022538627777777|\n",
      "|    50| 9.247235361111112|\n",
      "|    87|  9.49555838611111|\n",
      "|200014| 11.43981233888889|\n",
      "|200024|11.665938399999993|\n",
      "|    11|13.239086922222222|\n",
      "+------+------------------+\n",
      "only showing top 20 rows\n",
      "\n"
     ]
    }
   ],
   "source": [
    "spark.sql('''\n",
    "             SELECT userId, (sum(length))/3600 AS interaction_hours\n",
    "             FROM df_valid\n",
    "             GROUP BY userId\n",
    "             ORDER BY interaction_hours\n",
    "          '''  \n",
    "         ).show()"
   ]
  },
  {
   "cell_type": "markdown",
   "metadata": {},
   "source": [
    "The user 26 did not have any interactions, remove it from the data and re-calculate interaction hours."
   ]
  },
  {
   "cell_type": "code",
   "execution_count": 26,
   "metadata": {},
   "outputs": [],
   "source": [
    "df_valid = df_valid.filter(df_valid[\"userId\"] != 26)"
   ]
  },
  {
   "cell_type": "code",
   "execution_count": 27,
   "metadata": {},
   "outputs": [],
   "source": [
    "df_valid.createOrReplaceTempView(\"df_valid\")"
   ]
  },
  {
   "cell_type": "code",
   "execution_count": 28,
   "metadata": {},
   "outputs": [],
   "source": [
    "interaction_hours = spark.sql('''\n",
    "                                 SELECT userId, (sum(length))/3600 AS interaction_hours\n",
    "                                 FROM df_valid\n",
    "                                 GROUP BY userId\n",
    "                                 ORDER BY userId\n",
    "                              ''')"
   ]
  },
  {
   "cell_type": "code",
   "execution_count": 29,
   "metadata": {},
   "outputs": [
    {
     "name": "stdout",
     "output_type": "stream",
     "text": [
      "+------+------------------+\n",
      "|userId| interaction_hours|\n",
      "+------+------------------+\n",
      "|    10|46.351770141666655|\n",
      "|   100|       170.9815182|\n",
      "|100002|13.766643916666668|\n",
      "|100004|30.890456986111122|\n",
      "|100007|29.026479144444455|\n",
      "|100008| 49.76337765833333|\n",
      "|100009| 19.56664424166668|\n",
      "|100012|14.821218402777772|\n",
      "|100013| 62.17306283611108|\n",
      "|100014|18.806520022222223|\n",
      "|100015| 21.79368593055556|\n",
      "|100016|31.103042672222237|\n",
      "|100018| 39.89957281944444|\n",
      "|100023|26.920035438888885|\n",
      "|100025|22.431072286111124|\n",
      "|   101|120.34427028055546|\n",
      "|   103| 60.41290697777779|\n",
      "|   104|103.91305444722225|\n",
      "|   105| 52.07377553888891|\n",
      "|   106| 50.11831493888891|\n",
      "+------+------------------+\n",
      "only showing top 20 rows\n",
      "\n"
     ]
    }
   ],
   "source": [
    "interaction_hours.show()"
   ]
  },
  {
   "cell_type": "markdown",
   "metadata": {},
   "source": [
    "Calculate record hours per user:"
   ]
  },
  {
   "cell_type": "code",
   "execution_count": 30,
   "metadata": {},
   "outputs": [],
   "source": [
    "overall_hours = spark.sql('''\n",
    "                            SELECT userId, (max(ts)-min(ts))*2.7778e-7 AS overall_hours\n",
    "                            FROM df_valid\n",
    "                            GROUP BY userId\n",
    "                            ORDER BY userId\n",
    "                          ''')"
   ]
  },
  {
   "cell_type": "code",
   "execution_count": 31,
   "metadata": {},
   "outputs": [
    {
     "name": "stdout",
     "output_type": "stream",
     "text": [
      "+------+----------------+\n",
      "|userId|   overall_hours|\n",
      "+------+----------------+\n",
      "|    10|1018.49925904000|\n",
      "|   100|1415.20215486000|\n",
      "|100002|1322.24141118000|\n",
      "|100004|1078.28862624000|\n",
      "|100007|1396.26283668000|\n",
      "|100008|1013.12949386000|\n",
      "|100009| 158.31793320000|\n",
      "|100012| 216.96729128000|\n",
      "|100013| 692.40165028000|\n",
      "|100014| 989.87264114000|\n",
      "|100015|1024.13847082000|\n",
      "|100016|1272.46740188000|\n",
      "|100018|1152.03782734000|\n",
      "|100023| 194.76766924000|\n",
      "|100025| 436.47876958000|\n",
      "|   101| 340.63800286000|\n",
      "|   103| 475.22269064000|\n",
      "|   104| 864.82302964000|\n",
      "|   105| 238.10746040000|\n",
      "|   106| 690.31607804000|\n",
      "+------+----------------+\n",
      "only showing top 20 rows\n",
      "\n"
     ]
    }
   ],
   "source": [
    "overall_hours.show()"
   ]
  },
  {
   "cell_type": "markdown",
   "metadata": {},
   "source": [
    "Count those events: NextSong, Thumbs Up, Add to Playlist and Add Friend; Downgrade, Thumbs Down, Roll Advert and Error."
   ]
  },
  {
   "cell_type": "code",
   "execution_count": 32,
   "metadata": {},
   "outputs": [],
   "source": [
    "# make a function to count events\n",
    "def count_events(event):\n",
    "    \n",
    "    flag_event = udf(lambda x: 1 if x == event else 0, IntegerType())\n",
    "    \n",
    "    event_cat = '_'.join(event.split())\n",
    "    \n",
    "    table = df_valid.withColumn(event_cat, flag_event(\"page\")) \\\n",
    "                    .groupby(\"userId\") \\\n",
    "                    .agg(Fsum(event_cat).alias(event_cat + '_n')) \\\n",
    "                    .orderBy('userId') \n",
    "    \n",
    "    return table"
   ]
  },
  {
   "cell_type": "code",
   "execution_count": 33,
   "metadata": {},
   "outputs": [],
   "source": [
    "# Store count table to 8 tables\n",
    "table1 = count_events('NextSong')\n",
    "table2 = count_events('Thumbs Up')\n",
    "table3 = count_events('Add to Playlist')\n",
    "table4 = count_events('Add Friend')\n",
    "table5 = count_events('Submit Downgrade')\n",
    "table6 = count_events('Thumbs Down')\n",
    "table7 = count_events('Roll Advert')\n",
    "table8 = count_events('Error')"
   ]
  },
  {
   "cell_type": "markdown",
   "metadata": {},
   "source": [
    "Next, recode gender from F and M to 0 and 1:"
   ]
  },
  {
   "cell_type": "code",
   "execution_count": 34,
   "metadata": {},
   "outputs": [],
   "source": [
    "flag_male = udf(lambda x: 1 if x == 'M' else 0, IntegerType())\n",
    "\n",
    "male = df_valid.withColumn('M_OR_F', flag_male(\"gender\")) \\\n",
    "                .groupby(\"userId\") \\\n",
    "                .agg(avg('M_OR_F').alias('male')) \\\n",
    "                .orderBy('userId') "
   ]
  },
  {
   "cell_type": "code",
   "execution_count": 35,
   "metadata": {},
   "outputs": [
    {
     "name": "stdout",
     "output_type": "stream",
     "text": [
      "+------+----+\n",
      "|userId|male|\n",
      "+------+----+\n",
      "|    10| 1.0|\n",
      "|   100| 1.0|\n",
      "|100002| 0.0|\n",
      "|100004| 0.0|\n",
      "|100007| 0.0|\n",
      "|100008| 0.0|\n",
      "|100009| 1.0|\n",
      "|100012| 1.0|\n",
      "|100013| 0.0|\n",
      "|100014| 1.0|\n",
      "|100015| 0.0|\n",
      "|100016| 1.0|\n",
      "|100018| 1.0|\n",
      "|100023| 1.0|\n",
      "|100025| 0.0|\n",
      "|   101| 1.0|\n",
      "|   103| 0.0|\n",
      "|   104| 0.0|\n",
      "|   105| 1.0|\n",
      "|   106| 0.0|\n",
      "+------+----+\n",
      "only showing top 20 rows\n",
      "\n"
     ]
    }
   ],
   "source": [
    "male.show()"
   ]
  },
  {
   "cell_type": "markdown",
   "metadata": {},
   "source": [
    "Next, create the label 'churn'"
   ]
  },
  {
   "cell_type": "code",
   "execution_count": 36,
   "metadata": {},
   "outputs": [],
   "source": [
    "flag_event = udf(lambda x: 1 if x == 'Cancellation Confirmation' else 0, IntegerType())\n",
    "\n",
    "label = df_valid.withColumn('Cancellation_Confirmation', flag_event(\"page\")) \\\n",
    "                .groupby(\"userId\") \\\n",
    "                .agg(Fsum('Cancellation_Confirmation').alias('churn')) \\\n",
    "                .orderBy('userId') "
   ]
  },
  {
   "cell_type": "code",
   "execution_count": 37,
   "metadata": {},
   "outputs": [
    {
     "name": "stdout",
     "output_type": "stream",
     "text": [
      "+------+-----+\n",
      "|userId|churn|\n",
      "+------+-----+\n",
      "|    10|    0|\n",
      "|   100|    0|\n",
      "|100002|    0|\n",
      "|100004|    0|\n",
      "|100007|    1|\n",
      "|100008|    0|\n",
      "|100009|    0|\n",
      "|100012|    0|\n",
      "|100013|    1|\n",
      "|100014|    1|\n",
      "|100015|    1|\n",
      "|100016|    0|\n",
      "|100018|    0|\n",
      "|100023|    1|\n",
      "|100025|    0|\n",
      "|   101|    1|\n",
      "|   103|    1|\n",
      "|   104|    0|\n",
      "|   105|    1|\n",
      "|   106|    1|\n",
      "+------+-----+\n",
      "only showing top 20 rows\n",
      "\n"
     ]
    }
   ],
   "source": [
    "label.show()"
   ]
  },
  {
   "cell_type": "markdown",
   "metadata": {},
   "source": [
    "Join all the tables to make the final dataframe:"
   ]
  },
  {
   "cell_type": "code",
   "execution_count": 38,
   "metadata": {},
   "outputs": [],
   "source": [
    "df_final = label.join(interaction_hours, \"userId\") \\\n",
    "                .join(overall_hours, \"userId\")\\\n",
    "                .join(male, \"userId\")\\\n",
    "                .join(table1, \"userId\")\\\n",
    "                .join(table2, \"userId\")\\\n",
    "                .join(table3, \"userId\")\\\n",
    "                .join(table4, \"userId\")\\\n",
    "                .join(table5, \"userId\")\\\n",
    "                .join(table6, \"userId\")\\\n",
    "                .join(table7, \"userId\")\\\n",
    "                .join(table8, \"userId\")"
   ]
  },
  {
   "cell_type": "code",
   "execution_count": 39,
   "metadata": {
    "scrolled": true
   },
   "outputs": [
    {
     "name": "stdout",
     "output_type": "stream",
     "text": [
      "+------+-----+------------------+----------------+----+----------+-----------+-----------------+------------+------------------+-------------+-------------+-------+\n",
      "|userId|churn| interaction_hours|   overall_hours|male|NextSong_n|Thumbs_Up_n|Add_to_Playlist_n|Add_Friend_n|Submit_Downgrade_n|Thumbs_Down_n|Roll_Advert_n|Error_n|\n",
      "+------+-----+------------------+----------------+----+----------+-----------+-----------------+------------+------------------+-------------+-------------+-------+\n",
      "|200002|    0| 20.25951776666666| 685.89298710000| 1.0|       300|         15|                5|           2|                 0|            5|            0|      0|\n",
      "|   124|    0|281.19780355277777|1439.93818608000| 0.0|      4079|        171|              118|          74|                 0|           41|            4|      6|\n",
      "|    51|    1| 145.3544007777778| 378.70858520000| 1.0|      2111|        100|               52|          28|                 0|           21|            0|      1|\n",
      "|    15|    0|132.58544605833328|1314.56690534000| 1.0|      1914|         81|               59|          31|                 0|           14|            1|      2|\n",
      "|    54|    1|166.78678871944447|1027.14099484000| 0.0|      2402|        136|               65|          28|                 1|           21|            3|      1|\n",
      "+------+-----+------------------+----------------+----+----------+-----------+-----------------+------------+------------------+-------------+-------------+-------+\n",
      "only showing top 5 rows\n",
      "\n"
     ]
    }
   ],
   "source": [
    "df_final.show(5)"
   ]
  },
  {
   "cell_type": "markdown",
   "metadata": {},
   "source": [
    "Load the Spark dataframe to Pandas dataframe:"
   ]
  },
  {
   "cell_type": "code",
   "execution_count": 40,
   "metadata": {},
   "outputs": [],
   "source": [
    "df_final_p = df_final.toPandas()"
   ]
  },
  {
   "cell_type": "code",
   "execution_count": 41,
   "metadata": {},
   "outputs": [
    {
     "data": {
      "text/html": [
       "<div>\n",
       "<style scoped>\n",
       "    .dataframe tbody tr th:only-of-type {\n",
       "        vertical-align: middle;\n",
       "    }\n",
       "\n",
       "    .dataframe tbody tr th {\n",
       "        vertical-align: top;\n",
       "    }\n",
       "\n",
       "    .dataframe thead th {\n",
       "        text-align: right;\n",
       "    }\n",
       "</style>\n",
       "<table border=\"1\" class=\"dataframe\">\n",
       "  <thead>\n",
       "    <tr style=\"text-align: right;\">\n",
       "      <th></th>\n",
       "      <th>userId</th>\n",
       "      <th>churn</th>\n",
       "      <th>interaction_hours</th>\n",
       "      <th>overall_hours</th>\n",
       "      <th>male</th>\n",
       "      <th>NextSong_n</th>\n",
       "      <th>Thumbs_Up_n</th>\n",
       "      <th>Add_to_Playlist_n</th>\n",
       "      <th>Add_Friend_n</th>\n",
       "      <th>Submit_Downgrade_n</th>\n",
       "      <th>Thumbs_Down_n</th>\n",
       "      <th>Roll_Advert_n</th>\n",
       "      <th>Error_n</th>\n",
       "    </tr>\n",
       "  </thead>\n",
       "  <tbody>\n",
       "    <tr>\n",
       "      <th>0</th>\n",
       "      <td>200002</td>\n",
       "      <td>0</td>\n",
       "      <td>20.259518</td>\n",
       "      <td>685.89298710000</td>\n",
       "      <td>1.0</td>\n",
       "      <td>300</td>\n",
       "      <td>15</td>\n",
       "      <td>5</td>\n",
       "      <td>2</td>\n",
       "      <td>0</td>\n",
       "      <td>5</td>\n",
       "      <td>0</td>\n",
       "      <td>0</td>\n",
       "    </tr>\n",
       "    <tr>\n",
       "      <th>1</th>\n",
       "      <td>124</td>\n",
       "      <td>0</td>\n",
       "      <td>281.197804</td>\n",
       "      <td>1439.93818608000</td>\n",
       "      <td>0.0</td>\n",
       "      <td>4079</td>\n",
       "      <td>171</td>\n",
       "      <td>118</td>\n",
       "      <td>74</td>\n",
       "      <td>0</td>\n",
       "      <td>41</td>\n",
       "      <td>4</td>\n",
       "      <td>6</td>\n",
       "    </tr>\n",
       "    <tr>\n",
       "      <th>2</th>\n",
       "      <td>51</td>\n",
       "      <td>1</td>\n",
       "      <td>145.354401</td>\n",
       "      <td>378.70858520000</td>\n",
       "      <td>1.0</td>\n",
       "      <td>2111</td>\n",
       "      <td>100</td>\n",
       "      <td>52</td>\n",
       "      <td>28</td>\n",
       "      <td>0</td>\n",
       "      <td>21</td>\n",
       "      <td>0</td>\n",
       "      <td>1</td>\n",
       "    </tr>\n",
       "    <tr>\n",
       "      <th>3</th>\n",
       "      <td>15</td>\n",
       "      <td>0</td>\n",
       "      <td>132.585446</td>\n",
       "      <td>1314.56690534000</td>\n",
       "      <td>1.0</td>\n",
       "      <td>1914</td>\n",
       "      <td>81</td>\n",
       "      <td>59</td>\n",
       "      <td>31</td>\n",
       "      <td>0</td>\n",
       "      <td>14</td>\n",
       "      <td>1</td>\n",
       "      <td>2</td>\n",
       "    </tr>\n",
       "    <tr>\n",
       "      <th>4</th>\n",
       "      <td>54</td>\n",
       "      <td>1</td>\n",
       "      <td>166.786789</td>\n",
       "      <td>1027.14099484000</td>\n",
       "      <td>0.0</td>\n",
       "      <td>2402</td>\n",
       "      <td>136</td>\n",
       "      <td>65</td>\n",
       "      <td>28</td>\n",
       "      <td>1</td>\n",
       "      <td>21</td>\n",
       "      <td>3</td>\n",
       "      <td>1</td>\n",
       "    </tr>\n",
       "  </tbody>\n",
       "</table>\n",
       "</div>"
      ],
      "text/plain": [
       "   userId  churn  interaction_hours     overall_hours  male  NextSong_n  \\\n",
       "0  200002      0          20.259518   685.89298710000   1.0         300   \n",
       "1     124      0         281.197804  1439.93818608000   0.0        4079   \n",
       "2      51      1         145.354401   378.70858520000   1.0        2111   \n",
       "3      15      0         132.585446  1314.56690534000   1.0        1914   \n",
       "4      54      1         166.786789  1027.14099484000   0.0        2402   \n",
       "\n",
       "   Thumbs_Up_n  Add_to_Playlist_n  Add_Friend_n  Submit_Downgrade_n  \\\n",
       "0           15                  5             2                   0   \n",
       "1          171                118            74                   0   \n",
       "2          100                 52            28                   0   \n",
       "3           81                 59            31                   0   \n",
       "4          136                 65            28                   1   \n",
       "\n",
       "   Thumbs_Down_n  Roll_Advert_n  Error_n  \n",
       "0              5              0        0  \n",
       "1             41              4        6  \n",
       "2             21              0        1  \n",
       "3             14              1        2  \n",
       "4             21              3        1  "
      ]
     },
     "execution_count": 41,
     "metadata": {},
     "output_type": "execute_result"
    }
   ],
   "source": [
    "df_final_p.head()"
   ]
  },
  {
   "cell_type": "code",
   "execution_count": 42,
   "metadata": {},
   "outputs": [
    {
     "data": {
      "text/plain": [
       "(164, 13)"
      ]
     },
     "execution_count": 42,
     "metadata": {},
     "output_type": "execute_result"
    }
   ],
   "source": [
    "df_final_p.shape"
   ]
  },
  {
   "cell_type": "markdown",
   "metadata": {},
   "source": [
    "There are only 164 users in the dataset. The APP had a pretty small user pool..."
   ]
  },
  {
   "cell_type": "markdown",
   "metadata": {},
   "source": [
    "As described before, calculate the frequency of events per interaction hour and the proportion of interaction hour:"
   ]
  },
  {
   "cell_type": "code",
   "execution_count": 43,
   "metadata": {},
   "outputs": [],
   "source": [
    "df_final_p_freq = pd.DataFrame()"
   ]
  },
  {
   "cell_type": "code",
   "execution_count": 44,
   "metadata": {},
   "outputs": [],
   "source": [
    "df_final_p_freq['churn'] = df_final_p['churn']\n",
    "df_final_p_freq['male'] = df_final_p['male']\n",
    "df_final_p_freq['interaction_hours_prop'] = df_final_p['interaction_hours']/df_final_p['overall_hours'].astype('float')\n",
    "df_final_p_freq['NextSong_freq'] = df_final_p['NextSong_n']/df_final_p['interaction_hours']\n",
    "df_final_p_freq['Thumbs_Up_freq'] = df_final_p['Thumbs_Up_n']/df_final_p['interaction_hours']\n",
    "df_final_p_freq['Add_to_Playlist_freq'] = df_final_p['Add_to_Playlist_n']/df_final_p['interaction_hours']\n",
    "df_final_p_freq['Add_Friend_freq'] = df_final_p['Add_Friend_n']/df_final_p['interaction_hours']\n",
    "df_final_p_freq['Submit_Downgrade_freq'] = df_final_p['Submit_Downgrade_n']/df_final_p['interaction_hours']\n",
    "df_final_p_freq['Thumbs_Down_freq'] = df_final_p['Thumbs_Down_n']/df_final_p['interaction_hours']\n",
    "df_final_p_freq['Roll_Advert_freq'] = df_final_p['Roll_Advert_n']/df_final_p['interaction_hours']\n",
    "df_final_p_freq['Error_freq'] = df_final_p['Error_n']/df_final_p['interaction_hours']"
   ]
  },
  {
   "cell_type": "code",
   "execution_count": 45,
   "metadata": {},
   "outputs": [
    {
     "data": {
      "text/html": [
       "<div>\n",
       "<style scoped>\n",
       "    .dataframe tbody tr th:only-of-type {\n",
       "        vertical-align: middle;\n",
       "    }\n",
       "\n",
       "    .dataframe tbody tr th {\n",
       "        vertical-align: top;\n",
       "    }\n",
       "\n",
       "    .dataframe thead th {\n",
       "        text-align: right;\n",
       "    }\n",
       "</style>\n",
       "<table border=\"1\" class=\"dataframe\">\n",
       "  <thead>\n",
       "    <tr style=\"text-align: right;\">\n",
       "      <th></th>\n",
       "      <th>churn</th>\n",
       "      <th>male</th>\n",
       "      <th>interaction_hours_prop</th>\n",
       "      <th>NextSong_freq</th>\n",
       "      <th>Thumbs_Up_freq</th>\n",
       "      <th>Add_to_Playlist_freq</th>\n",
       "      <th>Add_Friend_freq</th>\n",
       "      <th>Submit_Downgrade_freq</th>\n",
       "      <th>Thumbs_Down_freq</th>\n",
       "      <th>Roll_Advert_freq</th>\n",
       "      <th>Error_freq</th>\n",
       "    </tr>\n",
       "  </thead>\n",
       "  <tbody>\n",
       "    <tr>\n",
       "      <th>0</th>\n",
       "      <td>0</td>\n",
       "      <td>1.0</td>\n",
       "      <td>0.029537</td>\n",
       "      <td>14.807855</td>\n",
       "      <td>0.740393</td>\n",
       "      <td>0.246798</td>\n",
       "      <td>0.098719</td>\n",
       "      <td>0.000000</td>\n",
       "      <td>0.246798</td>\n",
       "      <td>0.000000</td>\n",
       "      <td>0.000000</td>\n",
       "    </tr>\n",
       "    <tr>\n",
       "      <th>1</th>\n",
       "      <td>0</td>\n",
       "      <td>0.0</td>\n",
       "      <td>0.195285</td>\n",
       "      <td>14.505803</td>\n",
       "      <td>0.608113</td>\n",
       "      <td>0.419633</td>\n",
       "      <td>0.263160</td>\n",
       "      <td>0.000000</td>\n",
       "      <td>0.145805</td>\n",
       "      <td>0.014225</td>\n",
       "      <td>0.021337</td>\n",
       "    </tr>\n",
       "    <tr>\n",
       "      <th>2</th>\n",
       "      <td>1</td>\n",
       "      <td>1.0</td>\n",
       "      <td>0.383816</td>\n",
       "      <td>14.523124</td>\n",
       "      <td>0.687974</td>\n",
       "      <td>0.357746</td>\n",
       "      <td>0.192633</td>\n",
       "      <td>0.000000</td>\n",
       "      <td>0.144474</td>\n",
       "      <td>0.000000</td>\n",
       "      <td>0.006880</td>\n",
       "    </tr>\n",
       "    <tr>\n",
       "      <th>3</th>\n",
       "      <td>0</td>\n",
       "      <td>1.0</td>\n",
       "      <td>0.100859</td>\n",
       "      <td>14.435974</td>\n",
       "      <td>0.610927</td>\n",
       "      <td>0.444996</td>\n",
       "      <td>0.233811</td>\n",
       "      <td>0.000000</td>\n",
       "      <td>0.105592</td>\n",
       "      <td>0.007542</td>\n",
       "      <td>0.015085</td>\n",
       "    </tr>\n",
       "    <tr>\n",
       "      <th>4</th>\n",
       "      <td>1</td>\n",
       "      <td>0.0</td>\n",
       "      <td>0.162380</td>\n",
       "      <td>14.401620</td>\n",
       "      <td>0.815412</td>\n",
       "      <td>0.389719</td>\n",
       "      <td>0.167879</td>\n",
       "      <td>0.005996</td>\n",
       "      <td>0.125909</td>\n",
       "      <td>0.017987</td>\n",
       "      <td>0.005996</td>\n",
       "    </tr>\n",
       "    <tr>\n",
       "      <th>5</th>\n",
       "      <td>0</td>\n",
       "      <td>0.0</td>\n",
       "      <td>0.103964</td>\n",
       "      <td>14.846597</td>\n",
       "      <td>1.011799</td>\n",
       "      <td>0.474926</td>\n",
       "      <td>0.185841</td>\n",
       "      <td>0.000000</td>\n",
       "      <td>0.041298</td>\n",
       "      <td>0.000000</td>\n",
       "      <td>0.061947</td>\n",
       "    </tr>\n",
       "    <tr>\n",
       "      <th>6</th>\n",
       "      <td>1</td>\n",
       "      <td>1.0</td>\n",
       "      <td>0.018999</td>\n",
       "      <td>13.665473</td>\n",
       "      <td>0.903942</td>\n",
       "      <td>0.372211</td>\n",
       "      <td>0.319038</td>\n",
       "      <td>0.000000</td>\n",
       "      <td>0.159519</td>\n",
       "      <td>0.106346</td>\n",
       "      <td>0.000000</td>\n",
       "    </tr>\n",
       "    <tr>\n",
       "      <th>7</th>\n",
       "      <td>0</td>\n",
       "      <td>0.0</td>\n",
       "      <td>0.109200</td>\n",
       "      <td>14.379599</td>\n",
       "      <td>0.726548</td>\n",
       "      <td>0.287592</td>\n",
       "      <td>0.302728</td>\n",
       "      <td>0.000000</td>\n",
       "      <td>0.128660</td>\n",
       "      <td>0.015136</td>\n",
       "      <td>0.022705</td>\n",
       "    </tr>\n",
       "    <tr>\n",
       "      <th>8</th>\n",
       "      <td>1</td>\n",
       "      <td>1.0</td>\n",
       "      <td>0.353291</td>\n",
       "      <td>14.483448</td>\n",
       "      <td>0.697998</td>\n",
       "      <td>0.498570</td>\n",
       "      <td>0.232666</td>\n",
       "      <td>0.000000</td>\n",
       "      <td>0.124642</td>\n",
       "      <td>0.008309</td>\n",
       "      <td>0.024928</td>\n",
       "    </tr>\n",
       "    <tr>\n",
       "      <th>9</th>\n",
       "      <td>0</td>\n",
       "      <td>0.0</td>\n",
       "      <td>0.011703</td>\n",
       "      <td>14.502511</td>\n",
       "      <td>0.604271</td>\n",
       "      <td>0.604271</td>\n",
       "      <td>0.075534</td>\n",
       "      <td>0.075534</td>\n",
       "      <td>0.151068</td>\n",
       "      <td>0.075534</td>\n",
       "      <td>0.075534</td>\n",
       "    </tr>\n",
       "  </tbody>\n",
       "</table>\n",
       "</div>"
      ],
      "text/plain": [
       "   churn  male  interaction_hours_prop  NextSong_freq  Thumbs_Up_freq  \\\n",
       "0      0   1.0                0.029537      14.807855        0.740393   \n",
       "1      0   0.0                0.195285      14.505803        0.608113   \n",
       "2      1   1.0                0.383816      14.523124        0.687974   \n",
       "3      0   1.0                0.100859      14.435974        0.610927   \n",
       "4      1   0.0                0.162380      14.401620        0.815412   \n",
       "5      0   0.0                0.103964      14.846597        1.011799   \n",
       "6      1   1.0                0.018999      13.665473        0.903942   \n",
       "7      0   0.0                0.109200      14.379599        0.726548   \n",
       "8      1   1.0                0.353291      14.483448        0.697998   \n",
       "9      0   0.0                0.011703      14.502511        0.604271   \n",
       "\n",
       "   Add_to_Playlist_freq  Add_Friend_freq  Submit_Downgrade_freq  \\\n",
       "0              0.246798         0.098719               0.000000   \n",
       "1              0.419633         0.263160               0.000000   \n",
       "2              0.357746         0.192633               0.000000   \n",
       "3              0.444996         0.233811               0.000000   \n",
       "4              0.389719         0.167879               0.005996   \n",
       "5              0.474926         0.185841               0.000000   \n",
       "6              0.372211         0.319038               0.000000   \n",
       "7              0.287592         0.302728               0.000000   \n",
       "8              0.498570         0.232666               0.000000   \n",
       "9              0.604271         0.075534               0.075534   \n",
       "\n",
       "   Thumbs_Down_freq  Roll_Advert_freq  Error_freq  \n",
       "0          0.246798          0.000000    0.000000  \n",
       "1          0.145805          0.014225    0.021337  \n",
       "2          0.144474          0.000000    0.006880  \n",
       "3          0.105592          0.007542    0.015085  \n",
       "4          0.125909          0.017987    0.005996  \n",
       "5          0.041298          0.000000    0.061947  \n",
       "6          0.159519          0.106346    0.000000  \n",
       "7          0.128660          0.015136    0.022705  \n",
       "8          0.124642          0.008309    0.024928  \n",
       "9          0.151068          0.075534    0.075534  "
      ]
     },
     "execution_count": 45,
     "metadata": {},
     "output_type": "execute_result"
    }
   ],
   "source": [
    "df_final_p_freq.head(10)"
   ]
  },
  {
   "cell_type": "markdown",
   "metadata": {},
   "source": [
    "Save the final dataset to a csv file on my local computer. Because Spark does not support exporting data to non-Hadoop-support file system (the local computer), I use this way to do data exportation."
   ]
  },
  {
   "cell_type": "code",
   "execution_count": 46,
   "metadata": {},
   "outputs": [],
   "source": [
    "df_final_p_freq.to_csv('df_final.csv', index = False)"
   ]
  },
  {
   "cell_type": "markdown",
   "metadata": {},
   "source": [
    "As the final data is pretty small (only 164 rows), I don't need to use Spark to do machine learning. But to practice, I will use Spark this time."
   ]
  },
  {
   "cell_type": "code",
   "execution_count": 47,
   "metadata": {},
   "outputs": [],
   "source": [
    "# read the csv to Spark dataframe\n",
    "df_final = spark.read.csv('df_final.csv', header = True, inferSchema = True)"
   ]
  },
  {
   "cell_type": "code",
   "execution_count": 48,
   "metadata": {},
   "outputs": [
    {
     "name": "stdout",
     "output_type": "stream",
     "text": [
      "+-----+----+----------------------+------------------+------------------+--------------------+-------------------+---------------------+--------------------+--------------------+--------------------+\n",
      "|churn|male|interaction_hours_prop|     NextSong_freq|    Thumbs_Up_freq|Add_to_Playlist_freq|    Add_Friend_freq|Submit_Downgrade_freq|    Thumbs_Down_freq|    Roll_Advert_freq|          Error_freq|\n",
      "+-----+----+----------------------+------------------+------------------+--------------------+-------------------+---------------------+--------------------+--------------------+--------------------+\n",
      "|    0| 1.0|  0.029537432438732483|  14.8078549279981| 0.740392746399905|  0.2467975821333017|0.09871903285332068|                  0.0|  0.2467975821333017|                 0.0|                 0.0|\n",
      "|    0| 0.0|   0.19528463532055745|14.505803204947211|0.6081128580647152|  0.4196334342200958|0.26315995027361944|                  0.0| 0.14580483731376212|  0.0142248621769524|0.021337293265428603|\n",
      "|    1| 1.0|    0.3838159641958331|14.523124093279847|0.6879736661904239|  0.3577463064190204| 0.1926326265333187|                  0.0| 0.14447446989998902|                 0.0|0.006879736661904239|\n",
      "|    0| 1.0|   0.10085865201668175|14.435973607223092|0.6109267827508205|  0.4449960516333137|0.23381148475648686|                  0.0| 0.10559228343841341|0.007542305959886673|0.015084611919773346|\n",
      "|    1| 0.0|    0.1623796436490447|14.401620286846905|0.8154123059996582|  0.3897191168380719|0.16787900417640023| 0.005995678720585722| 0.12590925313230017|0.017987036161757168|0.005995678720585722|\n",
      "|    0| 0.0|   0.10396356333272597|14.846596500606154| 1.011798648859112| 0.47492589640325666| 0.1858405681577961|                  0.0|0.041297904035065794|                 0.0|  0.0619468560525987|\n",
      "|    1| 1.0|  0.018998928994101143|13.665473447310974|0.9039418233629828| 0.37221133903181647| 0.3190382905986998|                  0.0|  0.1595191452993499| 0.10634609686623327|                 0.0|\n",
      "|    0| 0.0|    0.1091995522007238|14.379599496904035|0.7265481851067301| 0.28759198993808066| 0.3027284104611376|                  0.0| 0.12865957444598347|0.015136420523056878|0.022704630784585317|\n",
      "|    1| 1.0|    0.3532907933646387|  14.4834481603203|0.6979975017021831|   0.498569644072988| 0.2326658339007277|                  0.0|   0.124642411018247|0.008309494067883132|0.024928482203649398|\n",
      "|    0| 0.0|  0.011702946523442908|14.502510719052836|0.6042712799605349|  0.6042712799605349|0.07553390999506686|  0.07553390999506686| 0.15106781999013372| 0.07553390999506686| 0.07553390999506686|\n",
      "+-----+----+----------------------+------------------+------------------+--------------------+-------------------+---------------------+--------------------+--------------------+--------------------+\n",
      "only showing top 10 rows\n",
      "\n"
     ]
    }
   ],
   "source": [
    "df_final.show(10)"
   ]
  },
  {
   "cell_type": "markdown",
   "metadata": {},
   "source": [
    "Split the dataset into training (80%) and testing (20%):"
   ]
  },
  {
   "cell_type": "code",
   "execution_count": 49,
   "metadata": {},
   "outputs": [],
   "source": [
    "training, testing = df_final.randomSplit([0.8, 0.2],seed = 5)"
   ]
  },
  {
   "cell_type": "markdown",
   "metadata": {},
   "source": [
    "Exam the balance in training and testing data:"
   ]
  },
  {
   "cell_type": "code",
   "execution_count": 50,
   "metadata": {},
   "outputs": [
    {
     "data": {
      "text/plain": [
       "0.18902439024390244"
      ]
     },
     "execution_count": 50,
     "metadata": {},
     "output_type": "execute_result"
    }
   ],
   "source": [
    "df_final.filter(df_final['churn'] == 1).count()/df_final.count()"
   ]
  },
  {
   "cell_type": "code",
   "execution_count": 51,
   "metadata": {},
   "outputs": [
    {
     "data": {
      "text/plain": [
       "0.1875"
      ]
     },
     "execution_count": 51,
     "metadata": {},
     "output_type": "execute_result"
    }
   ],
   "source": [
    "training.filter(training['churn'] == 1).count()/training.count()"
   ]
  },
  {
   "cell_type": "code",
   "execution_count": 52,
   "metadata": {},
   "outputs": [
    {
     "data": {
      "text/plain": [
       "0.19444444444444445"
      ]
     },
     "execution_count": 52,
     "metadata": {},
     "output_type": "execute_result"
    }
   ],
   "source": [
    "testing.filter(training['churn'] == 1).count()/testing.count()"
   ]
  },
  {
   "cell_type": "markdown",
   "metadata": {},
   "source": [
    "The proportion of the positive labels in the training and testing is close to the proportion in original data (~19%)."
   ]
  },
  {
   "cell_type": "markdown",
   "metadata": {},
   "source": [
    "Assemble all features together into one column:"
   ]
  },
  {
   "cell_type": "code",
   "execution_count": 53,
   "metadata": {},
   "outputs": [],
   "source": [
    "assembler = VectorAssembler(inputCols=['male', 'interaction_hours_prop', 'NextSong_freq',\n",
    "       'Thumbs_Up_freq', 'Add_to_Playlist_freq', 'Add_Friend_freq',\n",
    "       'Submit_Downgrade_freq', 'Thumbs_Down_freq', 'Roll_Advert_freq',\n",
    "       'Error_freq'], outputCol=\"features\")"
   ]
  },
  {
   "cell_type": "code",
   "execution_count": 54,
   "metadata": {},
   "outputs": [],
   "source": [
    "training_as = assembler.transform(training).select(['churn', 'features'])\n",
    "testing_as = assembler.transform(testing).select(['churn', 'features'])"
   ]
  },
  {
   "cell_type": "markdown",
   "metadata": {},
   "source": [
    "Standardize training and testing dataset:"
   ]
  },
  {
   "cell_type": "code",
   "execution_count": 55,
   "metadata": {},
   "outputs": [],
   "source": [
    "scaler = StandardScaler(inputCol=assembler.getOutputCol(), outputCol=\"features_std\", withStd=True)"
   ]
  },
  {
   "cell_type": "code",
   "execution_count": 56,
   "metadata": {},
   "outputs": [],
   "source": [
    "training_as_std = scaler.fit(training_as).transform(training_as).select(['churn', 'features_std'])\n",
    "testing_as_std = scaler.fit(training_as).transform(testing_as).select(['churn', 'features_std'])"
   ]
  },
  {
   "cell_type": "markdown",
   "metadata": {},
   "source": [
    "### 3.2 Implementation"
   ]
  },
  {
   "cell_type": "markdown",
   "metadata": {},
   "source": [
    "I will use three classification algorithms: Logistic Regression (LogisticRegression), Linear Support Vector Machines (LinearSVC) and Gradient-Boosted Trees (GBTClassifier). I will train them on the training data and test the performace on the testing data. F1, recall and precision on the testing data will be reported."
   ]
  },
  {
   "cell_type": "code",
   "execution_count": 57,
   "metadata": {},
   "outputs": [],
   "source": [
    "def train_evaluate(model, training, testing):\n",
    "    # the function is to train the model and evaluate its performance on testing dataset\n",
    "    \n",
    "    f1 = MulticlassClassificationEvaluator(labelCol='churn',  metricName='f1')\n",
    "    recall = MulticlassClassificationEvaluator(labelCol='churn',  metricName='weightedRecall')\n",
    "    precision = MulticlassClassificationEvaluator(labelCol='churn',  metricName='weightedPrecision')\n",
    "    \n",
    "    model_trained = model.fit(training)\n",
    "    model_pred = model_trained.transform(testing)\n",
    "    \n",
    "    print('On testing data, the F1 is: {}, recall is: {}, precision is: {}'.format(f1.evaluate(model_pred), recall.evaluate(model_pred), precision.evaluate(model_pred)))"
   ]
  },
  {
   "cell_type": "code",
   "execution_count": 58,
   "metadata": {},
   "outputs": [],
   "source": [
    "# define classifiers\n",
    "lr = LogisticRegression(featuresCol = 'features_std', labelCol = 'churn')\n",
    "svc = LinearSVC(featuresCol = 'features_std', labelCol = 'churn')\n",
    "gbt = GBTClassifier(featuresCol = 'features_std', labelCol = 'churn')"
   ]
  },
  {
   "cell_type": "markdown",
   "metadata": {},
   "source": [
    "The results of Logistic Regression (LogisticRegression) model:"
   ]
  },
  {
   "cell_type": "code",
   "execution_count": 59,
   "metadata": {},
   "outputs": [
    {
     "name": "stdout",
     "output_type": "stream",
     "text": [
      "On testing data, the F1 is: 0.7037037037037037, recall is: 0.7222222222222222, precision is: 0.6885304659498207\n"
     ]
    }
   ],
   "source": [
    "train_evaluate(lr, training_as_std, testing_as_std)"
   ]
  },
  {
   "cell_type": "markdown",
   "metadata": {},
   "source": [
    "The results of Linear Support Vector Machines (LinearSVC) model:"
   ]
  },
  {
   "cell_type": "code",
   "execution_count": 60,
   "metadata": {},
   "outputs": [
    {
     "name": "stdout",
     "output_type": "stream",
     "text": [
      "On testing data, the F1 is: 0.7188034188034188, recall is: 0.8055555555555556, precision is: 0.6489197530864197\n"
     ]
    }
   ],
   "source": [
    "train_evaluate(svc, training_as_std, testing_as_std)"
   ]
  },
  {
   "cell_type": "markdown",
   "metadata": {},
   "source": [
    "The results of Gradient-Boosted Trees (GBTClassifier) model:"
   ]
  },
  {
   "cell_type": "code",
   "execution_count": 61,
   "metadata": {},
   "outputs": [
    {
     "name": "stdout",
     "output_type": "stream",
     "text": [
      "On testing data, the F1 is: 0.7629629629629628, recall is: 0.7777777777777778, precision is: 0.7534050179211469\n"
     ]
    }
   ],
   "source": [
    "train_evaluate(gbt, training_as_std, testing_as_std)"
   ]
  },
  {
   "cell_type": "markdown",
   "metadata": {},
   "source": [
    "The GBTClassifier model has the best performace so far, in terms of F1. In next part, I will tune the model and try to get better results. "
   ]
  },
  {
   "cell_type": "markdown",
   "metadata": {},
   "source": [
    "### 3.3 Refinement"
   ]
  },
  {
   "cell_type": "markdown",
   "metadata": {},
   "source": [
    "I will tune three hyperparameters of the GBTClassifier:\n",
    "1. maxDepth. Option are 3, 5, 7.\n",
    "2. stepSize. Option are 0.05, 0.1, 0.5.\n",
    "3. featureSubsetStrategy. Option are 'all' and 'auto'.\n",
    "\n",
    "I will use CrossValidator in Spark (similar as GridSearchCV in scikit-learn) to do the tuning."
   ]
  },
  {
   "cell_type": "code",
   "execution_count": 62,
   "metadata": {},
   "outputs": [],
   "source": [
    "# define hyperparameters for choice\n",
    "paramGrid = ParamGridBuilder() \\\n",
    "    .addGrid(gbt.maxDepth, [3, 5, 7]) \\\n",
    "    .addGrid(gbt.stepSize, [0.05, 0.1, 0.5]) \\\n",
    "    .addGrid(gbt.featureSubsetStrategy, ['all', 'auto']) \\\n",
    "    .build()"
   ]
  },
  {
   "cell_type": "code",
   "execution_count": 63,
   "metadata": {},
   "outputs": [],
   "source": [
    "# define the CrossValidator\n",
    "crossval = CrossValidator(estimator=gbt,\n",
    "                          estimatorParamMaps=paramGrid,\n",
    "                          evaluator=MulticlassClassificationEvaluator(labelCol='churn',  metricName='f1'),\n",
    "                          numFolds=3)"
   ]
  },
  {
   "cell_type": "code",
   "execution_count": 64,
   "metadata": {},
   "outputs": [],
   "source": [
    "# train the CrossValidator\n",
    "gbt_tunned = crossval.fit(training_as_std)"
   ]
  },
  {
   "cell_type": "markdown",
   "metadata": {},
   "source": [
    "The bset maxDepth is 7."
   ]
  },
  {
   "cell_type": "code",
   "execution_count": 65,
   "metadata": {},
   "outputs": [
    {
     "data": {
      "text/plain": [
       "3"
      ]
     },
     "execution_count": 65,
     "metadata": {},
     "output_type": "execute_result"
    }
   ],
   "source": [
    "gbt_tunned.bestModel.getOrDefault('maxDepth')"
   ]
  },
  {
   "cell_type": "markdown",
   "metadata": {},
   "source": [
    "The bset stepSize is 0.05."
   ]
  },
  {
   "cell_type": "code",
   "execution_count": 66,
   "metadata": {},
   "outputs": [
    {
     "data": {
      "text/plain": [
       "0.5"
      ]
     },
     "execution_count": 66,
     "metadata": {},
     "output_type": "execute_result"
    }
   ],
   "source": [
    "gbt_tunned.bestModel.getOrDefault('stepSize')"
   ]
  },
  {
   "cell_type": "markdown",
   "metadata": {},
   "source": [
    "The best featureSubsetStrategy is 'all'."
   ]
  },
  {
   "cell_type": "code",
   "execution_count": 67,
   "metadata": {},
   "outputs": [
    {
     "data": {
      "text/plain": [
       "'all'"
      ]
     },
     "execution_count": 67,
     "metadata": {},
     "output_type": "execute_result"
    }
   ],
   "source": [
    "gbt_tunned.bestModel.getOrDefault('featureSubsetStrategy')"
   ]
  },
  {
   "cell_type": "markdown",
   "metadata": {},
   "source": [
    "Test the performace of the best model on testing data:"
   ]
  },
  {
   "cell_type": "code",
   "execution_count": 68,
   "metadata": {},
   "outputs": [],
   "source": [
    "gbt_pred = gbt_tunned.transform(testing_as_std)"
   ]
  },
  {
   "cell_type": "code",
   "execution_count": 69,
   "metadata": {},
   "outputs": [
    {
     "name": "stdout",
     "output_type": "stream",
     "text": [
      "On testing data, the F1 is: 0.742503259452412, recall is: 0.75, precision is: 0.736111111111111\n"
     ]
    }
   ],
   "source": [
    "f1 = MulticlassClassificationEvaluator(labelCol='churn',  metricName='f1')\n",
    "recall = MulticlassClassificationEvaluator(labelCol='churn',  metricName='weightedRecall')\n",
    "precision = MulticlassClassificationEvaluator(labelCol='churn',  metricName='weightedPrecision')\n",
    "\n",
    "print('On testing data, the F1 is: {}, recall is: {}, precision is: {}'.format(f1.evaluate(gbt_pred), recall.evaluate(gbt_pred), precision.evaluate(gbt_pred)))"
   ]
  },
  {
   "cell_type": "markdown",
   "metadata": {},
   "source": [
    "We can see that after tuning, on the testing data, the F1 is: 0.7220566318926974, recall is: 0.75, precision is: 0.703125."
   ]
  },
  {
   "cell_type": "markdown",
   "metadata": {},
   "source": [
    "## 4. Results"
   ]
  },
  {
   "cell_type": "markdown",
   "metadata": {},
   "source": [
    "### 4.1 Model Evaluation and Validation"
   ]
  },
  {
   "cell_type": "markdown",
   "metadata": {},
   "source": [
    "I tried three different algorithms: Logistic Regression (LogisticRegression), Linear Support Vector Machines (LinearSVC) and Gradient-Boosted Trees (GBTClassifier). The performance of models on testing data with default hyperparameters is listed below. The GBTClassifier has the best performance (F1: 0.763, Recall: 0.778, Precision: 0.753).\n",
    "\n",
    "Then I tunned three hyperparameters of the GBTClassifier using the Spark CrossValidator. The bset maxDepth is 7,  stepSize is 0.05 and featureSubsetStrategy is 'all'. On testing data, the performance of best model is: F1: 0.722, Recall: 0.750, Precision: 0.703. After tuning, the performance gets worse."
   ]
  },
  {
   "cell_type": "markdown",
   "metadata": {},
   "source": [
    "| Models | F1 | Recall | Precision|\n",
    "| --- | --- | --- | ---|\n",
    "| Logistic Regression | 0.704 | 0.722 | 0.689|\n",
    "| Linear SVC | 0.719| 0.806 | 0.649|\n",
    "| GBT Classifier | 0.763 | 0.778 | 0.753|\n",
    "| GBT Classifier (tuned) | 0.722 | 0.750 | 0.703|"
   ]
  },
  {
   "cell_type": "markdown",
   "metadata": {},
   "source": [
    "### 4.2 Discussion"
   ]
  },
  {
   "cell_type": "markdown",
   "metadata": {},
   "source": [
    "Why the GBTClassifier performs worse after tuning? In my opinion, there are three possible reasons:\n",
    "\n",
    "1. **Small training (128) and testing (36) data.** The dataset is pretty small, there are not enough training data to make model robust. And there are not nough testing data to make evaluation so credible. So we can't conclude firmly the results are 'worse'.\n",
    "2. **Unbalanced labels.** There are much fewer positive cases in the label (~19%). The train-validation splitter in the CrossValidator is a random splitter rather than a stratified splitter. Some extreme cases may occur: For example, there are no positive cases in validation data. In this time of cross validation, the metrics on the validation data is not reliable. And the best model selected based on metrics is not a real best model. \n",
    "3. **Overfitting.** Compared with the default hyperparameters, the maxDepth increases from 5 to 7 and the stepSize decreases from 0.1 to 0.05. Both of the changes will make the GBTClassifier more conservative and more likely to be overfitting. Overfitting can cause bad performance on testing data."
   ]
  },
  {
   "cell_type": "markdown",
   "metadata": {},
   "source": [
    "## 5. Conclusion"
   ]
  },
  {
   "cell_type": "markdown",
   "metadata": {},
   "source": [
    "### 5.1 Reflection"
   ]
  },
  {
   "cell_type": "markdown",
   "metadata": {},
   "source": [
    "In this project, I used Spark and Python to build a model to identify churned users. Here are my process and findings:\n",
    "\n",
    "1. I loaded the data (128MB subset of the 12GB data) and did the exploratory data analysis. The data had 286500 rows and 18 variables. I analyzed some important variables and decided to keep 6 variables. Among 6 variables, 'page' was the most important one. It recorded what a user did specifically using the APP.\n",
    "\n",
    "\n",
    "2. I removed rows with missings in 'userId' and 'page'. I also found there were blanks in the 'userId'. Blanks should be considered as missing and removed. I also removed free users, because we only interested in paid users who will cancel. After removal, the data had 222433 rows and 6 variables.\n",
    "\n",
    "\n",
    "3. To create features, I did some aggregation on users to make one user per row. I created 10 features, 8 of them were counts of events per interaction hour, 1 is number of interaction hours per record hour, 1 is the gender. I also created the label. It represented whether a user confirmed the cancellation (1 is yes, 0 is no). The final dataset had 164 rows (164 unique users), 10 features and 1 label. Among 164 unique users, 31 of them (~19%) confirmed the cancellation and be labeled as 1.\n",
    "\n",
    "\n",
    "4. I splited the dataset into training (80%) and testing (20%). The distribution of positive cases in both datasets was checked. Both datasets had about 19% positive cases. Then a StandardScaler was fitted using the training dataset and used to transform both the training and testing data.\n",
    "\n",
    "\n",
    "5. I tried three different algorithms to bulid the classifier: Logistic Regression (LogisticRegression), Linear Support Vector Machines (LinearSVC) and Gradient-Boosted Trees (GBTClassifier). The GBTClassifier had the best performance on testing data (F1: 0.763, Recall: 0.778, Precision: 0.753).\n",
    "\n",
    "\n",
    "6. I tunned three hyperparameters of the GBTClassifier using the Spark CrossValidator. The bset maxDepth is 7, stepSize is 0.05 and featureSubsetStrategy is 'all'. On testing data, the performance of best model is: F1: 0.722, Recall: 0.750, Precision: 0.703. After tuning, the performance gets worse. I provided three possible reasons: (1) Small training and testing data. (2) Unbalance labels and (3) Overfitting.\n",
    "\n",
    "\n",
    "In a word, I developed a classifer to predict users who are going to unsubscribe. The best model had F1 of 0.763 on the testing data."
   ]
  },
  {
   "cell_type": "markdown",
   "metadata": {},
   "source": [
    "### 5.2 Improvement"
   ]
  },
  {
   "cell_type": "markdown",
   "metadata": {},
   "source": [
    "The project was not perfectly done. There are still some spaces to improve:\n",
    "\n",
    "1. Because of aggregation, the final dataset only have 164 rows (164 unique users). This is a pretty small dataset. The small size makes training and testing unreliable. In the future, I need to train and test models on the 12GB dataset again, rather than directly apply the model here to the larger dataset.\n",
    "\n",
    "\n",
    "2. The data is unbalanced. We need some methods to deal with the problem. For example, when splitting the data into traning, validating and testing, we need a stratified spliter rather than random spliter. When training models, we can use upsampling (like SMOTE) or downsampling tricks to balance the impact of positive and negative cases. Unfortunately, these functions are not bulit in current Spark library. So I did not deal with the unbalance problem.\n",
    "\n",
    "\n",
    "3. I counted some events of users of the whole dataset, and used these counts to build most of features. This is a easy and lazy way to do feature engineering. Although the results looked good (F1: 0.763, Recall: 0.778, Precision: 0.753), the applcation of the model is still limited: It can only predict who are going to cancel **in the end**, but cannot make **real-time** prediction, which is exactly what the company want. The company wants to predict future cancellation based on a few 'abnormal' events of users happen in a very short time period before it really happens. So the company can make some timely interventions to prevent possible cancellation. Make prediction timely is another tough problem, which I cannot solve this time. Maybe using Saprk streaming can help."
   ]
  }
 ],
 "metadata": {
  "kernelspec": {
   "display_name": "Python 3",
   "language": "python",
   "name": "python3"
  },
  "language_info": {
   "codemirror_mode": {
    "name": "ipython",
    "version": 3
   },
   "file_extension": ".py",
   "mimetype": "text/x-python",
   "name": "python",
   "nbconvert_exporter": "python",
   "pygments_lexer": "ipython3",
   "version": "3.7.0"
  }
 },
 "nbformat": 4,
 "nbformat_minor": 4
}
